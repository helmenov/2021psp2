{
 "cells": [
  {
   "cell_type": "markdown",
   "metadata": {},
   "source": [
    "# NumPy"
   ]
  },
  {
   "cell_type": "markdown",
   "metadata": {},
   "source": [
    "## 1. NumPyで何ができるか\n",
    "\n",
    "- テンソル（Tensor）型\n",
    "- テンソル型変数を用いる数学関数モジュール\n",
    "\n",
    "数学関数モジュールは、説明不要でしょう。$cos$などの三角関数や$average$などの統計関数などです。ただし、入力（引数）変数や出力変数がテンソル型です。\n",
    "\n",
    "テンソルとは、多次元数値配列のことで、多次元アレイ(nd-array)とも言います。（ただし、後述するように本当は「多次元」ではなく「多階」が正しい）\n"
   ]
  },
  {
   "cell_type": "markdown",
   "metadata": {},
   "source": [
    "## 2. テンソル(Tensor)\n",
    "\n",
    "1つの数値をスカラーといいます。$3.14$や$-5$とか$1+1j$とか、そういう普通の数値です。\n",
    "\n",
    "このスカラーを複数並べたものを「ベクトル」といいます。pythonでは「リスト」を使います。\n",
    "つまり、"
   ]
  },
  {
   "cell_type": "code",
   "execution_count": 4,
   "metadata": {},
   "outputs": [],
   "source": [
    "L = [3.14, -5, 1+1j]"
   ]
  },
  {
   "cell_type": "markdown",
   "metadata": {},
   "source": [
    "のように数値を並べると、\n",
    "\n",
    "（注）`[`と`]`はリストを作る操作"
   ]
  },
  {
   "cell_type": "code",
   "execution_count": 5,
   "metadata": {},
   "outputs": [
    {
     "name": "stdout",
     "output_type": "stream",
     "text": [
      "-5\n"
     ]
    }
   ],
   "source": [
    "print(L[1])"
   ]
  },
  {
   "cell_type": "markdown",
   "metadata": {},
   "source": [
    "のように、ベクトルの1番目の要素を参照することができます。$N$個の要素が並んだベクトルは$N$次元ベクトルといい、$N$個の軸で構成される空間上の**ただ1点**を表現します。"
   ]
  },
  {
   "cell_type": "markdown",
   "metadata": {},
   "source": [
    "また、ベクトルを複数並べたものを行列といいます。\n",
    "\n",
    "行列は、たとえば\n",
    "\n",
    "$ M = \\begin{bmatrix}1 & 2 & 3 \\\\ 4 & 5 & 6\\end{bmatrix}$ \n",
    "\n",
    "は、2行3列の行列ですが、\n",
    "\n",
    "この場合もリストを用いることができます。つまり、リストの要素に複数のリストを並べて、"
   ]
  },
  {
   "cell_type": "code",
   "execution_count": 6,
   "metadata": {},
   "outputs": [],
   "source": [
    "L1 = [1,2,3]\n",
    "L2 = [4,5,6]\n",
    "M = [L1,L2] # もしくは M = [ [1,2,3], [4,5,6] ]"
   ]
  },
  {
   "cell_type": "markdown",
   "metadata": {},
   "source": [
    "`M`は行列であり、`M`の1番目のベクトルは"
   ]
  },
  {
   "cell_type": "code",
   "execution_count": 7,
   "metadata": {},
   "outputs": [
    {
     "name": "stdout",
     "output_type": "stream",
     "text": [
      "[4, 5, 6]\n"
     ]
    }
   ],
   "source": [
    "print(M[1])"
   ]
  },
  {
   "cell_type": "markdown",
   "metadata": {},
   "source": [
    "のように参照されます。よってさらに`M`の0番目のベクトルの2番目の要素（つまりMの0行2列目）は"
   ]
  },
  {
   "cell_type": "code",
   "execution_count": 8,
   "metadata": {},
   "outputs": [
    {
     "name": "stdout",
     "output_type": "stream",
     "text": [
      "3\n"
     ]
    }
   ],
   "source": [
    "print(M[0][2])"
   ]
  },
  {
   "cell_type": "markdown",
   "metadata": {},
   "source": [
    "というように参照されることもわかると思います。"
   ]
  },
  {
   "cell_type": "markdown",
   "metadata": {},
   "source": [
    "ここまでをまとめると、次のようになります。\n",
    "\n",
    "- `x` ： スカラー\n",
    "- `L=[x1, x2, x3, ....]` ： ベクトル, indexを1つ指定するとスカラー参照\n",
    "- `M=[L1, L2, L3, ...]` : 行列、indexを1つ指定するとベクトル参照、2つ指定するとスカラー参照\n",
    "\n",
    "このしくみを一般化したものがテンソルです。スカラーを参照するために必要なindexの数を「階(rank)」といいます。\n",
    "\n",
    "- スカラー：0階テンソル\n",
    "- ベクトル：1階テンソル\n",
    "- 行列：2階テンソル\n",
    "\n",
    "注意ですが、階は次元とは異なります。要素が5個あるベクトルを5次元ベクトルといいますが、ベクトルである限り1階です。同様に5行6列の行列も、行列である限り、階は2です。"
   ]
  },
  {
   "cell_type": "markdown",
   "metadata": {},
   "source": [
    "また、これは大変重要な注意事項ですが、\n",
    "\n",
    "> - 行ベクトル（横ベクトル）や列ベクトル（縦ベクトル）は、ベクトル（1階テンソル）ではなく行列（2階テンソル）です。\n",
    "> - それらは、行か列の次元が「1」である行列です。1階テンソル（ベクトル）には行とか列とか縦とか横とかがありません。"
   ]
  },
  {
   "cell_type": "code",
   "execution_count": 9,
   "metadata": {},
   "outputs": [],
   "source": [
    "X = [1,2,3] # 1階テンソル（3次元ベクトル）\n",
    "Y = [[1,2,3]] # 2階テンソル（1行3列行列、いわゆる行ベクトル）\n",
    "Z = [[1], [2], [3]] # 2階テンソル（3行1列行列、いわゆる列ベクトル）"
   ]
  },
  {
   "cell_type": "markdown",
   "metadata": {},
   "source": [
    "上記のX,Y,Zで2を参照するには、"
   ]
  },
  {
   "cell_type": "code",
   "execution_count": 10,
   "metadata": {},
   "outputs": [
    {
     "name": "stdout",
     "output_type": "stream",
     "text": [
      "2 2 2\n"
     ]
    }
   ],
   "source": [
    "print(X[1],Y[0][1],Z[1][0])"
   ]
  },
  {
   "cell_type": "markdown",
   "metadata": {},
   "source": [
    "のように行ベクトルや列ベクトルではindexを2つ指定しなければいけません。"
   ]
  },
  {
   "cell_type": "markdown",
   "metadata": {},
   "source": [
    "## 3. NumPyの数学関数\n",
    "\n",
    "python は、もともと数学関数モジュール`math` を備えています。\b"
   ]
  },
  {
   "cell_type": "code",
   "execution_count": 11,
   "metadata": {},
   "outputs": [
    {
     "name": "stdout",
     "output_type": "stream",
     "text": [
      "0.5004596890082058\n"
     ]
    }
   ],
   "source": [
    "import math\n",
    "\n",
    "print(math.cos(3.14/3))"
   ]
  },
  {
   "cell_type": "markdown",
   "metadata": {},
   "source": [
    "では、なぜわざわざNumPyパッケージが数学関数モジュールを用意しているのか。\n",
    "\n",
    "それは、NumPyの数学関数モジュールは、引数にテンソルを与えることができ、一挙に答えをテンソルで返してくれるからです。"
   ]
  },
  {
   "cell_type": "code",
   "execution_count": 12,
   "metadata": {},
   "outputs": [
    {
     "ename": "TypeError",
     "evalue": "must be real number, not list",
     "output_type": "error",
     "traceback": [
      "\u001b[0;31m---------------------------------------------------------------------------\u001b[0m",
      "\u001b[0;31mTypeError\u001b[0m                                 Traceback (most recent call last)",
      "\u001b[0;32m<ipython-input-12-27fef56d995a>\u001b[0m in \u001b[0;36m<module>\u001b[0;34m\u001b[0m\n\u001b[1;32m      1\u001b[0m \u001b[0mL\u001b[0m \u001b[0;34m=\u001b[0m \u001b[0;34m[\u001b[0m\u001b[0;36m3.14\u001b[0m\u001b[0;34m/\u001b[0m\u001b[0;36m2\u001b[0m\u001b[0;34m,\u001b[0m \u001b[0;36m3.14\u001b[0m\u001b[0;34m/\u001b[0m\u001b[0;36m3\u001b[0m\u001b[0;34m]\u001b[0m\u001b[0;34m\u001b[0m\u001b[0;34m\u001b[0m\u001b[0m\n\u001b[0;32m----> 2\u001b[0;31m \u001b[0mprint\u001b[0m\u001b[0;34m(\u001b[0m\u001b[0mmath\u001b[0m\u001b[0;34m.\u001b[0m\u001b[0mcos\u001b[0m\u001b[0;34m(\u001b[0m\u001b[0mL\u001b[0m\u001b[0;34m)\u001b[0m\u001b[0;34m)\u001b[0m\u001b[0;34m\u001b[0m\u001b[0;34m\u001b[0m\u001b[0m\n\u001b[0m",
      "\u001b[0;31mTypeError\u001b[0m: must be real number, not list"
     ]
    }
   ],
   "source": [
    "L = [3.14/2, 3.14/3]\n",
    "print(math.cos(L))"
   ]
  },
  {
   "cell_type": "markdown",
   "metadata": {},
   "source": [
    "上記のようにpythonがもともと備えている`math`モジュールでは、リストを一挙に関数を適用できません。\n",
    "\n",
    "しかし、NumPyの数学関数モジュールはできます。"
   ]
  },
  {
   "cell_type": "code",
   "execution_count": 13,
   "metadata": {},
   "outputs": [
    {
     "name": "stdout",
     "output_type": "stream",
     "text": [
      "[0.00079633 0.50045969]\n"
     ]
    }
   ],
   "source": [
    "import numpy as np \n",
    "\n",
    "L = [3.14/2, 3.14/3]\n",
    "print(np.cos(L))"
   ]
  },
  {
   "cell_type": "markdown",
   "metadata": {},
   "source": [
    "これがNumpyの数学関数モジュールのモチベーションです。プログラムによる複雑なシミュレーション処理ではこのようなテンソル全体を一挙に計算するようなことが普通ですので、NumPyは大切なのです。"
   ]
  },
  {
   "cell_type": "markdown",
   "metadata": {},
   "source": [
    "ところで、正しくは、NumPyの数学関数は、「リストを一挙に計算できる」のではなく、「テンソルを一挙に計算できる」ものです。\n",
    "\n",
    "リストとテンソルは何が違うのか？？\n",
    "\n",
    "**テンソルは同じ階にある要素の数（次元）が等しいリストです。**\n",
    "\n",
    "リストに含まれる要素は、同じ型でなくてもよいことになっています。つまり、0番目の要素はスカラー、1番目の要素はベクトルなんてことができます。"
   ]
  },
  {
   "cell_type": "code",
   "execution_count": 14,
   "metadata": {},
   "outputs": [],
   "source": [
    "L = [3.14, [1,2,3], 'hello']"
   ]
  },
  {
   "cell_type": "code",
   "execution_count": 15,
   "metadata": {},
   "outputs": [
    {
     "name": "stdout",
     "output_type": "stream",
     "text": [
      "3.14\n",
      "[1, 2, 3]\n",
      "hello\n"
     ]
    }
   ],
   "source": [
    "print(L[0])\n",
    "print(L[1])\n",
    "print(L[2])"
   ]
  },
  {
   "cell_type": "markdown",
   "metadata": {},
   "source": [
    "上記のLは0番目の要素がスカラー、1番目の要素がベクトル、2番目の要素が文字列です。参照した結果もそうなっていますね。"
   ]
  },
  {
   "cell_type": "markdown",
   "metadata": {},
   "source": [
    "0番目の要素の1番目の要素"
   ]
  },
  {
   "cell_type": "code",
   "execution_count": 16,
   "metadata": {},
   "outputs": [
    {
     "ename": "TypeError",
     "evalue": "'float' object is not subscriptable",
     "output_type": "error",
     "traceback": [
      "\u001b[0;31m---------------------------------------------------------------------------\u001b[0m",
      "\u001b[0;31mTypeError\u001b[0m                                 Traceback (most recent call last)",
      "\u001b[0;32m<ipython-input-16-643f399c46ea>\u001b[0m in \u001b[0;36m<module>\u001b[0;34m\u001b[0m\n\u001b[0;32m----> 1\u001b[0;31m \u001b[0mprint\u001b[0m\u001b[0;34m(\u001b[0m\u001b[0mL\u001b[0m\u001b[0;34m[\u001b[0m\u001b[0;36m0\u001b[0m\u001b[0;34m]\u001b[0m\u001b[0;34m[\u001b[0m\u001b[0;36m1\u001b[0m\u001b[0;34m]\u001b[0m\u001b[0;34m)\u001b[0m\u001b[0;34m\u001b[0m\u001b[0;34m\u001b[0m\u001b[0m\n\u001b[0m",
      "\u001b[0;31mTypeError\u001b[0m: 'float' object is not subscriptable"
     ]
    }
   ],
   "source": [
    "print(L[0][1])"
   ]
  },
  {
   "cell_type": "markdown",
   "metadata": {},
   "source": [
    "スカラーなので、その1番目の要素などありません。\n",
    "\n",
    "1番目のベクトルの1番目の要素は"
   ]
  },
  {
   "cell_type": "code",
   "execution_count": 17,
   "metadata": {},
   "outputs": [
    {
     "name": "stdout",
     "output_type": "stream",
     "text": [
      "2\n"
     ]
    }
   ],
   "source": [
    "print(L[1][1])"
   ]
  },
  {
   "cell_type": "markdown",
   "metadata": {},
   "source": [
    "ベクトルなので、その1番目の要素は存在すれば表示されます。\n",
    "\n",
    "2番目の文字列の1番目の要素は"
   ]
  },
  {
   "cell_type": "code",
   "execution_count": 18,
   "metadata": {},
   "outputs": [
    {
     "name": "stdout",
     "output_type": "stream",
     "text": [
      "e\n"
     ]
    }
   ],
   "source": [
    "print(L[2][1])"
   ]
  },
  {
   "cell_type": "markdown",
   "metadata": {},
   "source": [
    "文字列も一種のリスト（文字のリスト）なので、1番目の文字が参照されます。\n",
    "\n",
    "このように **リストでは、同じ階で次元（要素の数）や階数が異なる要素が格納できる**ようになっています。\n",
    "\n",
    "ただし、このようなリストは、NumPyの数学関数を適用できません。NumPyの数学関数を適用できるのは、同じ階で次元が等しく、さらに型（クラス）も等しい、リストである必要があります。\n",
    "\n",
    "2階テンソル、すなわち行列を考えると、行列というのは行ごとの列数が同じですよね。また、行列に含まれる要素はすべて同じ型ですよね。そういうことです。\n",
    "\n"
   ]
  },
  {
   "cell_type": "markdown",
   "metadata": {},
   "source": [
    "## 4. NumPyのテンソル演算\n",
    "\n",
    "NumPyの数学関数は、pythonがもとから備えている`math`モジュールにはできないテンソルを相手にした一挙計算ができる、といいましたが、\n",
    "テンソルに対する演算子も定義されています。\n",
    "\n",
    "つまり、NumPyが定義するテンソルクラスには、まずは、テンソルに対する四則演算を`+`/`-`/`*`/`/`でおこなえるように定義されています。\n",
    "\n",
    "ただし、リストではなく、Numpyテンソルクラスに変換しておく必要があります。リストをNumpyテンソルクラス(array)に変換するにはnumpyのarrayメソッド（arrayクラスの`__init__()`メソッド）を使います。"
   ]
  },
  {
   "cell_type": "code",
   "execution_count": 19,
   "metadata": {},
   "outputs": [
    {
     "name": "stdout",
     "output_type": "stream",
     "text": [
      "[[1], [2], [3], [4], [5], [6]]\n"
     ]
    }
   ],
   "source": [
    "M1 = [[1],[2],[3]]\n",
    "M2 = [[4],[5],[6]]\n",
    "\n",
    "print(M1 + M2)"
   ]
  },
  {
   "cell_type": "code",
   "execution_count": 20,
   "metadata": {},
   "outputs": [
    {
     "name": "stdout",
     "output_type": "stream",
     "text": [
      "[[5]\n",
      " [7]\n",
      " [9]]\n"
     ]
    }
   ],
   "source": [
    "nM1 = np.array(M1)\n",
    "nM2 = np.array(M2)\n",
    "\n",
    "print(nM1 + nM2)"
   ]
  },
  {
   "cell_type": "markdown",
   "metadata": {},
   "source": [
    "NumPyテンソルクラスには`__str__`メソッドも定義されているようですね。きちんと3行1列\bの行列の形で表しています。"
   ]
  },
  {
   "cell_type": "code",
   "execution_count": 21,
   "metadata": {},
   "outputs": [
    {
     "name": "stdout",
     "output_type": "stream",
     "text": [
      "[[ 4]\n",
      " [10]\n",
      " [18]]\n"
     ]
    }
   ],
   "source": [
    "print(nM1 * nM2)"
   ]
  },
  {
   "cell_type": "markdown",
   "metadata": {},
   "source": [
    "？？ `*`は行列の掛け算ではありません。3行1列の行列と3行1列の行列は掛け算できませんね。この`*`がおこなっている掛け算は、**要素積**（アダマール積）という掛け算です。\n",
    "\n",
    "行列の掛け算（**行列積**）は、`.dot()`モジュールを使います。"
   ]
  },
  {
   "cell_type": "code",
   "execution_count": 22,
   "metadata": {},
   "outputs": [
    {
     "ename": "ValueError",
     "evalue": "shapes (3,1) and (3,1) not aligned: 1 (dim 1) != 3 (dim 0)",
     "output_type": "error",
     "traceback": [
      "\u001b[0;31m---------------------------------------------------------------------------\u001b[0m",
      "\u001b[0;31mValueError\u001b[0m                                Traceback (most recent call last)",
      "\u001b[0;32m<ipython-input-22-62a82b4c7615>\u001b[0m in \u001b[0;36m<module>\u001b[0;34m\u001b[0m\n\u001b[0;32m----> 1\u001b[0;31m \u001b[0mprint\u001b[0m\u001b[0;34m(\u001b[0m\u001b[0mnM1\u001b[0m\u001b[0;34m.\u001b[0m\u001b[0mdot\u001b[0m\u001b[0;34m(\u001b[0m\u001b[0mnM2\u001b[0m\u001b[0;34m)\u001b[0m\u001b[0;34m)\u001b[0m\u001b[0;34m\u001b[0m\u001b[0;34m\u001b[0m\u001b[0m\n\u001b[0m",
      "\u001b[0;31mValueError\u001b[0m: shapes (3,1) and (3,1) not aligned: 1 (dim 1) != 3 (dim 0)"
     ]
    }
   ],
   "source": [
    "print(nM1.dot(nM2))"
   ]
  },
  {
   "cell_type": "markdown",
   "metadata": {},
   "source": [
    "3行1列と3行1列の組み合わせはならべられません、とのことです。転置は`.T`です。"
   ]
  },
  {
   "cell_type": "code",
   "execution_count": 23,
   "metadata": {},
   "outputs": [
    {
     "name": "stdout",
     "output_type": "stream",
     "text": [
      "[[32]]\n"
     ]
    }
   ],
   "source": [
    "print(nM1.T.dot(nM2))"
   ]
  },
  {
   "cell_type": "markdown",
   "metadata": {},
   "source": [
    "答えの形は、1行1列の行列（2階テンソル）です（スカラーやベクトルではありません）"
   ]
  },
  {
   "cell_type": "code",
   "execution_count": 24,
   "metadata": {},
   "outputs": [
    {
     "name": "stdout",
     "output_type": "stream",
     "text": [
      "[[ 4  5  6]\n",
      " [ 8 10 12]\n",
      " [12 15 18]]\n"
     ]
    }
   ],
   "source": [
    "print(nM1.dot(nM2.T))"
   ]
  },
  {
   "cell_type": "markdown",
   "metadata": {},
   "source": [
    "この行列積でできあがる要素は、次のようになっています。\n",
    "\n",
    "`Z[i][j] = X[i][0]*Y[0][j] + X[i][1]*Y[1][j] + X[i][2]*Y[2][j] + ... + X[i][k]*Y[k][j] + `\n"
   ]
  },
  {
   "cell_type": "code",
   "execution_count": 25,
   "metadata": {},
   "outputs": [
    {
     "name": "stdout",
     "output_type": "stream",
     "text": [
      "32\n"
     ]
    }
   ],
   "source": [
    "nV1 = np.array([1,2,3])\n",
    "nV2 = np.array([4,5,6])\n",
    "print(nV1.dot(nV2))"
   ]
  },
  {
   "cell_type": "markdown",
   "metadata": {},
   "source": [
    "行ベクトルや列ベクトルでなく、1階テンソルであるベクトルであれば、そもそも転置がなく、`.dot()`で直接内積がおこなえます。答えはスカラー（0階テンソル）となります。\n",
    "\n",
    " `Z = X[0]*Y[0] + .... + X[k]*Y[K] + ....`\n",
    "\n"
   ]
  },
  {
   "cell_type": "markdown",
   "metadata": {},
   "source": [
    "1行3列行列（2階テンソル）と3次元ベクトル（1階テンソル）との `.dot()`積は、1次元ベクトル（1階テンソル）になります。\n",
    "\n",
    "`Z[0] = X[0][0]*Y[0] + ... + X[0][k]*Y[k] + ...`"
   ]
  },
  {
   "cell_type": "code",
   "execution_count": 26,
   "metadata": {},
   "outputs": [
    {
     "name": "stdout",
     "output_type": "stream",
     "text": [
      "[32]\n"
     ]
    }
   ],
   "source": [
    "print(nM1.T.dot(nV2))"
   ]
  },
  {
   "cell_type": "markdown",
   "metadata": {},
   "source": [
    "3次元ベクトル（1階テンソル）と3行1列行列（2階テンソル）との`.dot()`積も、1次元ベクトル（1階テンソル）になります。\n",
    "\n",
    "`Z[0] = X[0]*Y[0][0] + X[k]*Y[k][0] + ...`"
   ]
  },
  {
   "cell_type": "code",
   "execution_count": 27,
   "metadata": {},
   "outputs": [
    {
     "name": "stdout",
     "output_type": "stream",
     "text": [
      "[32]\n"
     ]
    }
   ],
   "source": [
    "print(nV1.dot(nM2))"
   ]
  },
  {
   "cell_type": "markdown",
   "metadata": {},
   "source": [
    "つまり、この`.dot()`積は、\n",
    "- 1階.dot(1階)　は　0階\n",
    "- 1階.dot(2階)　や　2階.dot(1階)　は　1階\n",
    "- 2階.dot(2階)　は　2階\n",
    "となります。\n",
    "\n",
    "また、左側のテンソルの最も後ろの階のi番目と、右側の最も前のi番目を乗算したものを、すべてのiについて足し合わせたものとなります。\n",
    "\n",
    "つまり、`Z[A][B][C][D] = Σ L[A][B][i] .dot R[i][C][D]` と一般化できます。"
   ]
  },
  {
   "cell_type": "markdown",
   "metadata": {},
   "source": [
    "この`.dot()`積を使うと、いわゆる「写像」をおこなえます。\n",
    "\n",
    "位置ベクトル$(x,y)=(1,2)$の点を原点中心に30度逆時計回りに回転させた点は、30度の回転行列$\\mathbb{R}_{30}$と位置ベクトル$\\mathbb{x}$の`.dot()`積となります。"
   ]
  },
  {
   "cell_type": "code",
   "execution_count": 28,
   "metadata": {},
   "outputs": [],
   "source": [
    "R = np.array([[np.cos(np.pi/6), -np.sin(np.pi/6)], [np.sin(np.pi/6), np.cos(np.pi/6)]])\n",
    "x = np.array([1,2])"
   ]
  },
  {
   "cell_type": "markdown",
   "metadata": {},
   "source": [
    "arrayクラスは、`shape`属性に各階の次元数をタプルで保存しています。タプルの要素数がテンソルの階数になっています（`ndim`属性にも保存されています。）。\n",
    "\n",
    "復習ですが、タプルは要素を`,`で区切ったものです。（リストは`[`と`]`でタプルを囲んだもの、セットは`{`と`}`でタプルを囲んだもの、でした）\n",
    "\n",
    "要素が1個のタプルは `a = (2,)`のように表現します。1階テンソル、ベクトルです。\n",
    "\n",
    "要素が2個のタプルは `b = (3,1)`のように表現されます。2階テンソル、行列（行ベクトル、列ベクトルも含まれる）です。"
   ]
  },
  {
   "cell_type": "code",
   "execution_count": 29,
   "metadata": {},
   "outputs": [
    {
     "name": "stdout",
     "output_type": "stream",
     "text": [
      "[[ 0.8660254 -0.5      ]\n",
      " [ 0.5        0.8660254]] は 2 階テンソルで、各階の次元は (2, 2)\n",
      "[1 2] は 1 階テンソルで、各階の次元は (2,)\n"
     ]
    }
   ],
   "source": [
    "print(R,'は',R.ndim,'階テンソルで、各階の次元は',R.shape)\n",
    "print(x,'は',x.ndim, '階テンソルで、各階の次元は',x.shape)"
   ]
  },
  {
   "cell_type": "code",
   "execution_count": 30,
   "metadata": {},
   "outputs": [
    {
     "name": "stdout",
     "output_type": "stream",
     "text": [
      "[-0.1339746   2.23205081] (2,)\n"
     ]
    }
   ],
   "source": [
    "y = R.dot(x)\n",
    "print(y, y.shape)"
   ]
  },
  {
   "cell_type": "code",
   "execution_count": 31,
   "metadata": {},
   "outputs": [
    {
     "data": {
      "image/png": "[encoded data removed]",
      "text/plain": [
       "<Figure size 432x288 with 1 Axes>"
      ]
     },
     "metadata": {
      "needs_background": "light"
     },
     "output_type": "display_data"
    }
   ],
   "source": [
    "from matplotlib import pyplot as plt \n",
    "\n",
    "fig = plt.figure()\n",
    "ax = fig.add_subplot(1,1,1)\n",
    "ax.set_xlim([-3,3])\n",
    "ax.set_ylim([-3,3])\n",
    "ax.quiver(0,0,x[0],x[1],angles='xy',scale_units='xy',scale=1,color='red')\n",
    "ax.quiver(0,0,y[0],y[1],angles='xy',scale_units='xy',scale=1,color='blue')\n",
    "ax.grid()\n",
    "ax.axes.set_aspect('equal')"
   ]
  },
  {
   "cell_type": "markdown",
   "metadata": {},
   "source": [
    "## 5. NumPyの典型的なテンソル作成関数\n",
    "\n",
    "NumPyは、リストをテンソルクラスに変換するだけではない。\n",
    "\n",
    "典型的なパターンのテンソルを作成することができる。たとえば、全0テンソル、全1テンソル、定ステップテンソル、乱数テンソル、単位テンソルなどである。"
   ]
  },
  {
   "cell_type": "code",
   "execution_count": 32,
   "metadata": {},
   "outputs": [
    {
     "name": "stdout",
     "output_type": "stream",
     "text": [
      "[[0. 0. 0.]\n",
      " [0. 0. 0.]] : (2, 3) ( 2 階テンソル)\n"
     ]
    }
   ],
   "source": [
    "# 全０テンソル\n",
    "Zero = np.zeros([2,3])\n",
    "print(Zero,':',Zero.shape,'(',Zero.ndim,'階テンソル)')"
   ]
  },
  {
   "cell_type": "code",
   "execution_count": 33,
   "metadata": {},
   "outputs": [
    {
     "name": "stdout",
     "output_type": "stream",
     "text": [
      "[[1. 1.]\n",
      " [1. 1.]\n",
      " [1. 1.]] : (3, 2) ( 2 階テンソル)\n"
     ]
    }
   ],
   "source": [
    "# 全１テンソル\n",
    "One = np.ones([3,2])\n",
    "print(One,':',One.shape,'(',One.ndim,'階テンソル)')"
   ]
  },
  {
   "cell_type": "code",
   "execution_count": 34,
   "metadata": {},
   "outputs": [
    {
     "name": "stdout",
     "output_type": "stream",
     "text": [
      "[[ 1.3    1.4  ]\n",
      " [ 3.475  4.3  ]\n",
      " [ 5.65   7.2  ]\n",
      " [ 7.825 10.1  ]\n",
      " [10.    13.   ]] : (5, 2) ( 2 階テンソル)\n"
     ]
    }
   ],
   "source": [
    "# 定ステップテンソル ：arg1と最初の行、arg2を最後の行として、等間隔で５行に拡大している\n",
    "Lin = np.linspace([1.3,1.4], [10,13], 5)\n",
    "print(Lin,':',Lin.shape,'(',Lin.ndim,'階テンソル)')"
   ]
  },
  {
   "cell_type": "code",
   "execution_count": 35,
   "metadata": {},
   "outputs": [
    {
     "name": "stdout",
     "output_type": "stream",
     "text": [
      "[[0.50267992 0.17803585 0.42738682]\n",
      " [0.23938032 0.74258264 0.53905518]] : (2, 3) ( 2 階テンソル)\n"
     ]
    }
   ],
   "source": [
    "# 乱数テンソル\n",
    "# [0,1]の一様分布に従う乱数テンソル\n",
    "Ru = np.random.rand(2,3)\n",
    "print(Ru,':',Ru.shape,'(',Ru.ndim,'階テンソル)')"
   ]
  },
  {
   "cell_type": "code",
   "execution_count": 36,
   "metadata": {},
   "outputs": [
    {
     "name": "stdout",
     "output_type": "stream",
     "text": [
      "[[ 0.48539243 -1.15766512 -0.68234111]\n",
      " [-1.44730496 -2.47869958 -0.50322093]] : (2, 3) ( 2 階テンソル)\n"
     ]
    }
   ],
   "source": [
    "# 標準正規分布（平均 0,分散１）に従う乱数テンソル\n",
    "Rn = np.random.randn(2,3)\n",
    "print(Rn,':',Rn.shape,'(',Rn.ndim,'階テンソル)')"
   ]
  },
  {
   "cell_type": "code",
   "execution_count": 37,
   "metadata": {},
   "outputs": [
    {
     "name": "stdout",
     "output_type": "stream",
     "text": [
      "Rn1= [[0.54340494 0.27836939 0.42451759]\n",
      " [0.84477613 0.00471886 0.12156912]]\n",
      "Rn2= [[0.67074908 0.82585276 0.13670659]\n",
      " [0.57509333 0.89132195 0.20920212]]\n"
     ]
    }
   ],
   "source": [
    "np.random.seed(100)\n",
    "Rn1 = np.random.rand(2,3)\n",
    "Rn2 = np.random.rand(2,3)\n",
    "np.random.seed()\n",
    "\n",
    "print('Rn1=',Rn1)\n",
    "print('Rn2=',Rn2)"
   ]
  },
  {
   "cell_type": "code",
   "execution_count": 38,
   "metadata": {},
   "outputs": [
    {
     "name": "stdout",
     "output_type": "stream",
     "text": [
      "[[1. 0. 0.]\n",
      " [0. 1. 0.]\n",
      " [0. 0. 1.]] : (3, 3) ( 2 階テンソル)\n"
     ]
    }
   ],
   "source": [
    "E = np.eye(3)\n",
    "print(E,':',E.shape,'(',E.ndim,'階テンソル)')"
   ]
  },
  {
   "cell_type": "markdown",
   "metadata": {},
   "source": [
    "## 6. 課題\n",
    "\n",
    "### 6.1. 課題1\n",
    "\n",
    "連立方程式\n",
    "\n",
    "\b$\n",
    "x + 2 y = 3\\\\\n",
    "5 x + 7 y = 9\n",
    "$\n",
    "\n",
    "の解となる$x$と$y$を求めよ。連立方程式は、写像と同じであり、ベクトル$\\mathbb{a}=(x,y)$が写像行列$\\mathbb{M}=\\begin{bmatrix}1&2\\\\5&7\\end{bmatrix}$によってベクトル$\\mathbb{b}=(3,9)$に移されたことをあらわす。\n",
    "\n",
    "$\n",
    "\\mathbb{M}\\mathbb{a} = \\mathbb{b}\n",
    "$\n",
    "\n",
    "よって、線形代数によると係数行列の逆行列が存在すれば、\n",
    "\n",
    "$\n",
    "\\mathbb{a} = \\mathbb{M}^{-1} \\mathbb{b}\n",
    "$\n",
    "\n",
    "により、解$\\mathbb{a}=(x,y)$を求めることができる。\n",
    "\n",
    "numpyには行列を引数に与えると逆行列を求める関数があるので（自分で調べよ）、\n",
    "\n",
    "「行列$\\mathbb{M}$と行列$\\mathbb{b}$を引数に与えると、解$\\mathbb{a}$を返す関数」を自作し、それを用いて上記の連立方程式を解くpythonコードを作成せよ。"
   ]
  },
  {
   "cell_type": "markdown",
   "metadata": {},
   "source": [
    "### 6.2 課題２\n",
    "\n",
    "- 1 → 3\n",
    "- 2 → 5\n",
    "- 3 → 7\n",
    "- 4 → 9\n",
    "\n",
    "のとき、10はどうなるか？\n",
    "- 10 →　？\n",
    "\n",
    "まず、入力$x$と出力出力$y$を繋ぐモデル式（適当な係数と、入出力の使い方）を作る。\n",
    "\n",
    "今、パターンが４つわかっているので、入力を４つの未知変数に拡張し、４つの未知係数を用いて\n",
    "\n",
    "$ y = a x^3 + b x^2 + c x + d $\n",
    "\n",
    "などとしてみる。係数$a,b,c,d$の3次式モデルである。未知変数への拡張のしかたは他にもいくらでも考えられる。\n",
    "\n",
    "$ y = a x^{-3} + b x^{-2} + c x^{-1} + d $\n",
    "\n",
    "のようなモデル式でもいいだろう。\n",
    "\n",
    "ひとまず３次式モデルとすると、与えられた４つのパターンは\n",
    "\n",
    "$\n",
    "\\begin{bmatrix}\n",
    "1 & 1 & 1 & 1\\\\\n",
    "8 & 4 & 2 & 1\\\\\n",
    "27 & 9 & 3 & 1\\\\\n",
    "64 & 16 & 4 & 1\n",
    "\\end{bmatrix} \\begin{bmatrix}a \\\\ b \\\\ c \\\\ d\\end{bmatrix} = \\begin{bmatrix}3\\\\5\\\\7\\\\9\\end{bmatrix}\n",
    "$\n",
    "\n",
    "と書くことができる。よって係数は\n",
    "\n",
    "$\n",
    "\\begin{bmatrix} a\\\\b\\\\c\\\\d\\end{bmatrix} = \\begin{bmatrix}\n",
    "1 & 1 & 1 & 1\\\\\n",
    "8 & 4 & 2 & 1\\\\\n",
    "27 & 9 & 3 & 1\\\\\n",
    "64 & 16 & 4 & 1\n",
    "\\end{bmatrix}^{-1} \\begin{bmatrix}3\\\\5\\\\7\\\\9\\end{bmatrix}\n",
    "$\n",
    "で求めることができ、その係数を使えば、\n",
    "\n",
    "10 →　？\n",
    "\n",
    "を推定できる。\n"
   ]
  },
  {
   "cell_type": "markdown",
   "metadata": {},
   "source": [
    "実際この方法で、係数は、$(a,b,c,d) = (0,0,2,1)$と推定され、$y　=　2 x + 1$。すなわち、10　→　21　と推定される。  \n",
    "\n",
    "この推定値は、あくまで３次式モデルによる推定であり、他にも答えは考えられる。実際、先の逆数のモデルだと答えが異なる。"
   ]
  },
  {
   "cell_type": "markdown",
   "metadata": {},
   "source": [
    "学習用のパターンを適当に４つ作り、適当にモデル式を作って係数を学習し、学習用パターンにない適当な入力を与えたときの出力を求めよ。（pythonコードで実現せよ）"
   ]
  },
  {
   "cell_type": "code",
   "execution_count": null,
   "metadata": {},
   "outputs": [],
   "source": []
  },
  {
   "cell_type": "code",
   "execution_count": null,
   "metadata": {},
   "outputs": [],
   "source": []
  }
 ],
 "metadata": {
  "interpreter": {
   "hash": "ff1451f766ff1f2aab9fee63bb48cc74e2e1277d7805d9df96af52a7af6088e7"
  },
  "kernelspec": {
   "display_name": "Python 3",
   "language": "python",
   "name": "python3"
  },
  "language_info": {
   "codemirror_mode": {
    "name": "ipython",
    "version": 3
   },
   "file_extension": ".py",
   "mimetype": "text/x-python",
   "name": "python",
   "nbconvert_exporter": "python",
   "pygments_lexer": "ipython3",
   "version": "3.8.5"
  }
 },
 "nbformat": 4,
 "nbformat_minor": 2
}
