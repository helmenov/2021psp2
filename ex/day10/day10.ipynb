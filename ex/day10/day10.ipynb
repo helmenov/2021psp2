{
 "cells": [
  {
   "cell_type": "markdown",
   "metadata": {},
   "source": [
    "# NumPy"
   ]
  },
  {
   "cell_type": "markdown",
   "metadata": {},
   "source": [
    "## 1. NumPyで何ができるか\n",
    "\n",
    "- テンソル（Tensor）型\n",
    "- テンソル型変数を用いる数学関数モジュール\n",
    "\n",
    "数学関数モジュールは、説明不要でしょう。$cos$などの三角関数や$average$などの統計関数などです。ただし、入力（引数）変数や出力変数がテンソル型です。\n",
    "\n",
    "テンソルとは、多次元数値配列のことで、多次元アレイ(nd-array)とも言います。（ただし、後述するように本当は「多次元」ではなく「多階」が正しい）\n"
   ]
  },
  {
   "cell_type": "markdown",
   "metadata": {},
   "source": [
    "## 2. テンソル(Tensor)\n",
    "\n",
    "1つの数値をスカラーといいます。$3.14$や$-5$とか$1+1j$とか、そういう普通の数値です。\n",
    "\n",
    "このスカラーを複数並べたものを「ベクトル」といいます。pythonでは「リスト」を使います。\n",
    "つまり、"
   ]
  },
  {
   "cell_type": "code",
   "execution_count": 1,
   "metadata": {},
   "outputs": [],
   "source": [
    "L = [3.14, -5, 1+1j]"
   ]
  },
  {
   "cell_type": "markdown",
   "metadata": {},
   "source": [
    "のように数値を並べると、\n",
    "\n",
    "（注）`[`と`]`はリストを作る操作"
   ]
  },
  {
   "cell_type": "code",
   "execution_count": 2,
   "metadata": {},
   "outputs": [
    {
     "name": "stdout",
     "output_type": "stream",
     "text": [
      "-5\n"
     ]
    }
   ],
   "source": [
    "print(L[1])"
   ]
  },
  {
   "cell_type": "markdown",
   "metadata": {},
   "source": [
    "のように、ベクトルの1番目の要素を参照することができます。$N$個の要素が並んだベクトルは$N$次元ベクトルといい、$N$個の軸で構成される空間上の**ただ1点**を表現します。"
   ]
  },
  {
   "cell_type": "markdown",
   "metadata": {},
   "source": [
    "また、ベクトルを複数並べたものを行列といいます。\n",
    "\n",
    "行列は、たとえば\n",
    "\n",
    "$ M = \\begin{bmatrix}1 & 2 & 3 \\\\ 4 & 5 & 6\\end{bmatrix}$ \n",
    "\n",
    "は、2行3列の行列ですが、\n",
    "\n",
    "この場合もリストを用いることができます。つまり、リストの要素に複数のリストを並べて、"
   ]
  },
  {
   "cell_type": "code",
   "execution_count": 3,
   "metadata": {},
   "outputs": [],
   "source": [
    "L1 = [1,2,3]\n",
    "L2 = [4,5,6]\n",
    "M = [L1,L2] # もしくは M = [ [1,2,3], [4,5,6] ]"
   ]
  },
  {
   "cell_type": "markdown",
   "metadata": {},
   "source": [
    "`M`は行列であり、`M`の1番目のベクトルは"
   ]
  },
  {
   "cell_type": "code",
   "execution_count": 4,
   "metadata": {},
   "outputs": [
    {
     "name": "stdout",
     "output_type": "stream",
     "text": [
      "[4, 5, 6]\n"
     ]
    }
   ],
   "source": [
    "print(M[1])"
   ]
  },
  {
   "cell_type": "markdown",
   "metadata": {},
   "source": [
    "のように参照されます。よってさらに`M`の0番目のベクトルの2番目の要素（つまりMの0行2列目）は"
   ]
  },
  {
   "cell_type": "code",
   "execution_count": 5,
   "metadata": {},
   "outputs": [
    {
     "name": "stdout",
     "output_type": "stream",
     "text": [
      "3\n"
     ]
    }
   ],
   "source": [
    "print(M[0][2])"
   ]
  },
  {
   "cell_type": "markdown",
   "metadata": {},
   "source": [
    "というように参照されることもわかると思います。"
   ]
  },
  {
   "cell_type": "markdown",
   "metadata": {},
   "source": [
    "ここまでをまとめると、次のようになります。\n",
    "\n",
    "- `x` ： スカラー\n",
    "- `L=[x1, x2, x3, ....]` ： ベクトル, indexを1つ指定するとスカラー参照\n",
    "- `M=[L1, L2, L3, ...]` : 行列、indexを1つ指定するとベクトル参照、2つ指定するとスカラー参照\n",
    "\n",
    "このしくみを一般化したものがテンソルです。スカラーを参照するために必要なindexの数を「階(rank)」といいます。\n",
    "\n",
    "- スカラー：0階テンソル\n",
    "- ベクトル：1階テンソル\n",
    "- 行列：2階テンソル\n",
    "\n",
    "注意ですが、階は次元とは異なります。要素が5個あるベクトルを5次元ベクトルといいますが、ベクトルである限り1階です。同様に5行6列の行列も、行列である限り、階は2です。"
   ]
  },
  {
   "cell_type": "markdown",
   "metadata": {},
   "source": [
    "また、これは大変重要な注意事項ですが、\n",
    "\n",
    "> - 行ベクトル（横ベクトル）や列ベクトル（縦ベクトル）は、ベクトル（1階テンソル）ではなく行列（2階テンソル）です。\n",
    "> - それらは、行か列の次元が「1」である行列です。1階テンソル（ベクトル）には行とか列とか縦とか横とかがありません。"
   ]
  },
  {
   "cell_type": "code",
   "execution_count": 6,
   "metadata": {},
   "outputs": [],
   "source": [
    "X = [1,2,3] # 1階テンソル（3次元ベクトル）\n",
    "Y = [[1,2,3]] # 2階テンソル（1行3列行列、いわゆる行ベクトル）\n",
    "Z = [[1], [2], [3]] # 2階テンソル（3行1列行列、いわゆる列ベクトル）"
   ]
  },
  {
   "cell_type": "markdown",
   "metadata": {},
   "source": [
    "上記のX,Y,Zで2を参照するには、"
   ]
  },
  {
   "cell_type": "code",
   "execution_count": 7,
   "metadata": {},
   "outputs": [
    {
     "name": "stdout",
     "output_type": "stream",
     "text": [
      "2 2 2\n"
     ]
    }
   ],
   "source": [
    "print(X[1],Y[0][1],Z[1][0])"
   ]
  },
  {
   "cell_type": "markdown",
   "metadata": {},
   "source": [
    "のように行ベクトルや列ベクトルではindexを2つ指定しなければいけません。"
   ]
  },
  {
   "cell_type": "markdown",
   "metadata": {},
   "source": [
    "## 3. NumPyの数学関数\n",
    "\n",
    "python は、もともと数学関数モジュール`math` を備えています。\b"
   ]
  },
  {
   "cell_type": "code",
   "execution_count": 8,
   "metadata": {},
   "outputs": [
    {
     "name": "stdout",
     "output_type": "stream",
     "text": [
      "0.5004596890082058\n"
     ]
    }
   ],
   "source": [
    "import math\n",
    "\n",
    "print(math.cos(3.14/3))"
   ]
  },
  {
   "cell_type": "markdown",
   "metadata": {},
   "source": [
    "では、なぜわざわざNumPyパッケージが数学関数モジュールを用意しているのか。\n",
    "\n",
    "それは、NumPyの数学関数モジュールは、引数にテンソルを与えることができ、一挙に答えをテンソルで返してくれるからです。"
   ]
  },
  {
   "cell_type": "code",
   "execution_count": 9,
   "metadata": {},
   "outputs": [
    {
     "ename": "TypeError",
     "evalue": "must be real number, not list",
     "output_type": "error",
     "traceback": [
      "\u001b[0;31m---------------------------------------------------------------------------\u001b[0m",
      "\u001b[0;31mTypeError\u001b[0m                                 Traceback (most recent call last)",
      "\u001b[0;32m<ipython-input-9-27fef56d995a>\u001b[0m in \u001b[0;36m<module>\u001b[0;34m\u001b[0m\n\u001b[1;32m      1\u001b[0m \u001b[0mL\u001b[0m \u001b[0;34m=\u001b[0m \u001b[0;34m[\u001b[0m\u001b[0;36m3.14\u001b[0m\u001b[0;34m/\u001b[0m\u001b[0;36m2\u001b[0m\u001b[0;34m,\u001b[0m \u001b[0;36m3.14\u001b[0m\u001b[0;34m/\u001b[0m\u001b[0;36m3\u001b[0m\u001b[0;34m]\u001b[0m\u001b[0;34m\u001b[0m\u001b[0;34m\u001b[0m\u001b[0m\n\u001b[0;32m----> 2\u001b[0;31m \u001b[0mprint\u001b[0m\u001b[0;34m(\u001b[0m\u001b[0mmath\u001b[0m\u001b[0;34m.\u001b[0m\u001b[0mcos\u001b[0m\u001b[0;34m(\u001b[0m\u001b[0mL\u001b[0m\u001b[0;34m)\u001b[0m\u001b[0;34m)\u001b[0m\u001b[0;34m\u001b[0m\u001b[0;34m\u001b[0m\u001b[0m\n\u001b[0m",
      "\u001b[0;31mTypeError\u001b[0m: must be real number, not list"
     ]
    }
   ],
   "source": [
    "L = [3.14/2, 3.14/3]\n",
    "print(math.cos(L))"
   ]
  },
  {
   "cell_type": "markdown",
   "metadata": {},
   "source": [
    "上記のようにpythonがもともと備えている`math`モジュールでは、リストを一挙に関数を適用できません。\n",
    "\n",
    "しかし、NumPyの数学関数モジュールはできます。"
   ]
  },
  {
   "cell_type": "code",
   "execution_count": 10,
   "metadata": {},
   "outputs": [
    {
     "name": "stdout",
     "output_type": "stream",
     "text": [
      "[0.00079633 0.50045969]\n"
     ]
    }
   ],
   "source": [
    "import numpy as np \n",
    "\n",
    "L = [3.14/2, 3.14/3]\n",
    "print(np.cos(L))"
   ]
  },
  {
   "cell_type": "markdown",
   "metadata": {},
   "source": [
    "これがNumpyの数学関数モジュールのモチベーションです。プログラムによる複雑なシミュレーション処理ではこのようなテンソル全体を一挙に計算するようなことが普通ですので、NumPyは大切なのです。"
   ]
  },
  {
   "cell_type": "markdown",
   "metadata": {},
   "source": [
    "ところで、正しくは、NumPyの数学関数は、「リストを一挙に計算できる」のではなく、「テンソルを一挙に計算できる」ものです。\n",
    "\n",
    "リストとテンソルは何が違うのか？？\n",
    "\n",
    "**テンソルは同じ階にある要素の数（次元）が等しいリストです。**\n",
    "\n",
    "リストに含まれる要素は、同じ型でなくてもよいことになっています。つまり、0番目の要素はスカラー、1番目の要素はベクトルなんてことができます。"
   ]
  },
  {
   "cell_type": "code",
   "execution_count": 11,
   "metadata": {},
   "outputs": [],
   "source": [
    "L = [3.14, [1,2,3], 'hello']"
   ]
  },
  {
   "cell_type": "code",
   "execution_count": 12,
   "metadata": {},
   "outputs": [
    {
     "name": "stdout",
     "output_type": "stream",
     "text": [
      "3.14\n",
      "[1, 2, 3]\n",
      "hello\n"
     ]
    }
   ],
   "source": [
    "print(L[0])\n",
    "print(L[1])\n",
    "print(L[2])"
   ]
  },
  {
   "cell_type": "markdown",
   "metadata": {},
   "source": [
    "上記のLは0番目の要素がスカラー、1番目の要素がベクトル、2番目の要素が文字列です。参照した結果もそうなっていますね。"
   ]
  },
  {
   "cell_type": "markdown",
   "metadata": {},
   "source": [
    "0番目の要素の1番目の要素"
   ]
  },
  {
   "cell_type": "code",
   "execution_count": 13,
   "metadata": {},
   "outputs": [
    {
     "ename": "TypeError",
     "evalue": "'float' object is not subscriptable",
     "output_type": "error",
     "traceback": [
      "\u001b[0;31m---------------------------------------------------------------------------\u001b[0m",
      "\u001b[0;31mTypeError\u001b[0m                                 Traceback (most recent call last)",
      "\u001b[0;32m<ipython-input-13-643f399c46ea>\u001b[0m in \u001b[0;36m<module>\u001b[0;34m\u001b[0m\n\u001b[0;32m----> 1\u001b[0;31m \u001b[0mprint\u001b[0m\u001b[0;34m(\u001b[0m\u001b[0mL\u001b[0m\u001b[0;34m[\u001b[0m\u001b[0;36m0\u001b[0m\u001b[0;34m]\u001b[0m\u001b[0;34m[\u001b[0m\u001b[0;36m1\u001b[0m\u001b[0;34m]\u001b[0m\u001b[0;34m)\u001b[0m\u001b[0;34m\u001b[0m\u001b[0;34m\u001b[0m\u001b[0m\n\u001b[0m",
      "\u001b[0;31mTypeError\u001b[0m: 'float' object is not subscriptable"
     ]
    }
   ],
   "source": [
    "print(L[0][1])"
   ]
  },
  {
   "cell_type": "markdown",
   "metadata": {},
   "source": [
    "スカラーなので、その1番目の要素などありません。\n",
    "\n",
    "1番目のベクトルの1番目の要素は"
   ]
  },
  {
   "cell_type": "code",
   "execution_count": 14,
   "metadata": {},
   "outputs": [
    {
     "name": "stdout",
     "output_type": "stream",
     "text": [
      "2\n"
     ]
    }
   ],
   "source": [
    "print(L[1][1])"
   ]
  },
  {
   "cell_type": "markdown",
   "metadata": {},
   "source": [
    "ベクトルなので、その1番目の要素は存在すれば表示されます。\n",
    "\n",
    "2番目の文字列の1番目の要素は"
   ]
  },
  {
   "cell_type": "code",
   "execution_count": 15,
   "metadata": {},
   "outputs": [
    {
     "name": "stdout",
     "output_type": "stream",
     "text": [
      "e\n"
     ]
    }
   ],
   "source": [
    "print(L[2][1])"
   ]
  },
  {
   "cell_type": "markdown",
   "metadata": {},
   "source": [
    "文字列も一種のリスト（文字のリスト）なので、1番目の文字が参照されます。\n",
    "\n",
    "このように **リストでは、同じ階で次元（要素の数）や階数が異なる要素が格納できる**ようになっています。\n",
    "\n",
    "ただし、このようなリストは、NumPyの数学関数を適用できません。NumPyの数学関数を適用できるのは、同じ階で次元が等しく、さらに型（クラス）も等しい、リストである必要があります。\n",
    "\n",
    "2階テンソル、すなわち行列を考えると、行列というのは行ごとの列数が同じですよね。また、行列に含まれる要素はすべて同じ型ですよね。そういうことです。\n",
    "\n"
   ]
  },
  {
   "cell_type": "markdown",
   "metadata": {},
   "source": [
    "## 4. NumPyのテンソル演算\n",
    "\n",
    "NumPyの数学関数は、pythonがもとから備えている`math`モジュールにはできないテンソルを相手にした一挙計算ができる、といいましたが、\n",
    "テンソルに対する演算子も定義されています。\n",
    "\n",
    "つまり、NumPyが定義するテンソルクラスには、まずは、テンソルに対する四則演算を`+`/`-`/`*`/`/`でおこなえるように定義されています。\n",
    "\n",
    "ただし、リストではなく、Numpyテンソルクラスに変換しておく必要があります。リストをNumpyテンソルクラス(array)に変換するにはnumpyのarrayメソッド（arrayクラスの`__init__()`メソッド）を使います。"
   ]
  },
  {
   "cell_type": "markdown",
   "metadata": {},
   "source": [
    "### 4.1. テンソル加算\n",
    "\n",
    "リストの加算`+`は、リストをつなげます。\n",
    "\n",
    "テンソルの加算をしたい場合は、numpy.arrayメソッドでリストをテンソルに変換しなければいけません。"
   ]
  },
  {
   "cell_type": "code",
   "execution_count": 16,
   "metadata": {},
   "outputs": [
    {
     "name": "stdout",
     "output_type": "stream",
     "text": [
      "[[1], [2], [3], [4], [5], [6]]\n"
     ]
    }
   ],
   "source": [
    "M1 = [[1],[2],[3]]\n",
    "M2 = [[4],[5],[6]]\n",
    "\n",
    "print(M1 + M2)"
   ]
  },
  {
   "cell_type": "code",
   "execution_count": 17,
   "metadata": {},
   "outputs": [
    {
     "name": "stdout",
     "output_type": "stream",
     "text": [
      "[[5]\n",
      " [7]\n",
      " [9]]\n"
     ]
    }
   ],
   "source": [
    "nM1 = np.array(M1)\n",
    "nM2 = np.array(M2)\n",
    "\n",
    "print(nM1 + nM2)"
   ]
  },
  {
   "cell_type": "markdown",
   "metadata": {},
   "source": [
    "NumPyテンソルクラスには`__str__`メソッドも定義されているようですね。きちんと3行1列\bの行列の形で表しています。"
   ]
  },
  {
   "cell_type": "markdown",
   "metadata": {},
   "source": [
    "### 4.2. テンソル乗算\n",
    "\n",
    "リストは乗算 `*`ができません。\n",
    "\n",
    "テンソルの乗算は、リストをテンソルに変換したあとで行います。"
   ]
  },
  {
   "cell_type": "code",
   "execution_count": 18,
   "metadata": {},
   "outputs": [
    {
     "ename": "TypeError",
     "evalue": "can't multiply sequence by non-int of type 'list'",
     "output_type": "error",
     "traceback": [
      "\u001b[0;31m---------------------------------------------------------------------------\u001b[0m",
      "\u001b[0;31mTypeError\u001b[0m                                 Traceback (most recent call last)",
      "\u001b[0;32m<ipython-input-18-ab863fb50d4b>\u001b[0m in \u001b[0;36m<module>\u001b[0;34m\u001b[0m\n\u001b[0;32m----> 1\u001b[0;31m \u001b[0mprint\u001b[0m\u001b[0;34m(\u001b[0m\u001b[0mM1\u001b[0m \u001b[0;34m*\u001b[0m \u001b[0mM2\u001b[0m\u001b[0;34m)\u001b[0m\u001b[0;34m\u001b[0m\u001b[0;34m\u001b[0m\u001b[0m\n\u001b[0m",
      "\u001b[0;31mTypeError\u001b[0m: can't multiply sequence by non-int of type 'list'"
     ]
    }
   ],
   "source": [
    "print(M1 * M2)"
   ]
  },
  {
   "cell_type": "code",
   "execution_count": 19,
   "metadata": {},
   "outputs": [
    {
     "name": "stdout",
     "output_type": "stream",
     "text": [
      "[[ 4]\n",
      " [10]\n",
      " [18]]\n"
     ]
    }
   ],
   "source": [
    "print(nM1 * nM2)"
   ]
  },
  {
   "cell_type": "markdown",
   "metadata": {},
   "source": [
    "？？ `*`は行列の掛け算ではありません。3行1列の行列と3行1列の行列は掛け算できませんね。この`*`がおこなっている掛け算は、**要素積**（アダマール積）という掛け算です。\n",
    "\n",
    "行列の掛け算（**行列積**）は、`.dot()`モジュールを使います。"
   ]
  },
  {
   "cell_type": "code",
   "execution_count": 20,
   "metadata": {},
   "outputs": [
    {
     "ename": "ValueError",
     "evalue": "shapes (3,1) and (3,1) not aligned: 1 (dim 1) != 3 (dim 0)",
     "output_type": "error",
     "traceback": [
      "\u001b[0;31m---------------------------------------------------------------------------\u001b[0m",
      "\u001b[0;31mValueError\u001b[0m                                Traceback (most recent call last)",
      "\u001b[0;32m<ipython-input-20-62a82b4c7615>\u001b[0m in \u001b[0;36m<module>\u001b[0;34m\u001b[0m\n\u001b[0;32m----> 1\u001b[0;31m \u001b[0mprint\u001b[0m\u001b[0;34m(\u001b[0m\u001b[0mnM1\u001b[0m\u001b[0;34m.\u001b[0m\u001b[0mdot\u001b[0m\u001b[0;34m(\u001b[0m\u001b[0mnM2\u001b[0m\u001b[0;34m)\u001b[0m\u001b[0;34m)\u001b[0m\u001b[0;34m\u001b[0m\u001b[0;34m\u001b[0m\u001b[0m\n\u001b[0m",
      "\u001b[0;31mValueError\u001b[0m: shapes (3,1) and (3,1) not aligned: 1 (dim 1) != 3 (dim 0)"
     ]
    }
   ],
   "source": [
    "print(nM1.dot(nM2))"
   ]
  },
  {
   "cell_type": "markdown",
   "metadata": {},
   "source": [
    "3行1列と3行1列の組み合わせはならべられません、とのことです。転置は`.T`です。"
   ]
  },
  {
   "cell_type": "code",
   "execution_count": 21,
   "metadata": {},
   "outputs": [
    {
     "name": "stdout",
     "output_type": "stream",
     "text": [
      "[[32]]\n"
     ]
    }
   ],
   "source": [
    "print(nM1.T.dot(nM2))"
   ]
  },
  {
   "cell_type": "markdown",
   "metadata": {},
   "source": [
    "答えの形は、1行1列の行列（2階テンソル）です（スカラーやベクトルではありません）"
   ]
  },
  {
   "cell_type": "code",
   "execution_count": 22,
   "metadata": {},
   "outputs": [
    {
     "name": "stdout",
     "output_type": "stream",
     "text": [
      "[[ 4  5  6]\n",
      " [ 8 10 12]\n",
      " [12 15 18]]\n"
     ]
    }
   ],
   "source": [
    "print(nM1.dot(nM2.T))"
   ]
  },
  {
   "cell_type": "markdown",
   "metadata": {},
   "source": [
    "この行列積でできあがる要素は、次のようになっています。\n",
    "\n",
    "`Z[i][j] = X[i][0]*Y[0][j] + X[i][1]*Y[1][j] + X[i][2]*Y[2][j] + ... + X[i][k]*Y[k][j] + `\n"
   ]
  },
  {
   "cell_type": "code",
   "execution_count": 23,
   "metadata": {},
   "outputs": [
    {
     "name": "stdout",
     "output_type": "stream",
     "text": [
      "32\n"
     ]
    }
   ],
   "source": [
    "nV1 = np.array([1,2,3])\n",
    "nV2 = np.array([4,5,6])\n",
    "print(nV1.dot(nV2))"
   ]
  },
  {
   "cell_type": "markdown",
   "metadata": {},
   "source": [
    "行ベクトルや列ベクトルでなく、1階テンソルであるベクトルであれば、そもそも転置がなく、`.dot()`で直接内積がおこなえます。答えはスカラー（0階テンソル）となります。\n",
    "\n",
    " `Z = X[0]*Y[0] + .... + X[k]*Y[K] + ....`\n",
    "\n"
   ]
  },
  {
   "cell_type": "markdown",
   "metadata": {},
   "source": [
    "1行3列行列（2階テンソル）と3次元ベクトル（1階テンソル）との `.dot()`積は、1次元ベクトル（1階テンソル）になります。\n",
    "\n",
    "`Z[0] = X[0][0]*Y[0] + ... + X[0][k]*Y[k] + ...`"
   ]
  },
  {
   "cell_type": "code",
   "execution_count": 24,
   "metadata": {},
   "outputs": [
    {
     "name": "stdout",
     "output_type": "stream",
     "text": [
      "[32]\n"
     ]
    }
   ],
   "source": [
    "print(nM1.T.dot(nV2))"
   ]
  },
  {
   "cell_type": "markdown",
   "metadata": {},
   "source": [
    "3次元ベクトル（1階テンソル）と3行1列行列（2階テンソル）との`.dot()`積も、1次元ベクトル（1階テンソル）になります。\n",
    "\n",
    "`Z[0] = X[0]*Y[0][0] + X[k]*Y[k][0] + ...`"
   ]
  },
  {
   "cell_type": "code",
   "execution_count": 25,
   "metadata": {},
   "outputs": [
    {
     "name": "stdout",
     "output_type": "stream",
     "text": [
      "[32]\n"
     ]
    }
   ],
   "source": [
    "print(nV1.dot(nM2))"
   ]
  },
  {
   "cell_type": "markdown",
   "metadata": {},
   "source": [
    "つまり、この`.dot()`積は、\n",
    "- 1階.dot(1階)　は　0階\n",
    "- 1階.dot(2階)　や　2階.dot(1階)　は　1階\n",
    "- 2階.dot(2階)　は　2階\n",
    "となります。\n",
    "\n",
    "また、左側のテンソルの最も後ろの階のi番目と、右側の最も前のi番目を乗算したものを、すべてのiについて足し合わせたものとなります。\n",
    "\n",
    "つまり、`Z[A][B][C][D] = Σ L[A][B][i] .dot R[i][C][D]` と一般化できます。"
   ]
  },
  {
   "cell_type": "markdown",
   "metadata": {},
   "source": [
    "この`.dot()`積を使うと、いわゆる「写像」をおこなえます。\n",
    "\n",
    "位置ベクトル$(x,y)=(1,2)$の点を原点中心に30度逆時計回りに回転させた点は、30度の回転行列$\\mathbb{R}_{30}$と位置ベクトル$\\mathbb{x}$の`.dot()`積となります。"
   ]
  },
  {
   "cell_type": "code",
   "execution_count": 26,
   "metadata": {},
   "outputs": [],
   "source": [
    "R = np.array([[np.cos(np.pi/6), -np.sin(np.pi/6)], [np.sin(np.pi/6), np.cos(np.pi/6)]])\n",
    "x = np.array([1,2])"
   ]
  },
  {
   "cell_type": "markdown",
   "metadata": {},
   "source": [
    "arrayクラスは、`shape`属性に各階の次元数をタプルで保存しています。タプルの要素数がテンソルの階数になっています（`ndim`属性にも保存されています。）。\n",
    "\n",
    "復習ですが、タプルは要素を`,`で区切ったものです。（リストは`[`と`]`でタプルを囲んだもの、セットは`{`と`}`でタプルを囲んだもの、でした）\n",
    "\n",
    "要素が1個のタプルは `a = (2,)`のように表現します。1階テンソル、ベクトルです。\n",
    "\n",
    "要素が2個のタプルは `b = (3,1)`のように表現されます。2階テンソル、行列（行ベクトル、列ベクトルも含まれる）です。"
   ]
  },
  {
   "cell_type": "code",
   "execution_count": 27,
   "metadata": {},
   "outputs": [
    {
     "name": "stdout",
     "output_type": "stream",
     "text": [
      "[[ 0.8660254 -0.5      ]\n",
      " [ 0.5        0.8660254]] は 2 階テンソルで、各階の次元は (2, 2)\n",
      "[1 2] は 1 階テンソルで、各階の次元は (2,)\n"
     ]
    }
   ],
   "source": [
    "print(R,'は',R.ndim,'階テンソルで、各階の次元は',R.shape)\n",
    "print(x,'は',x.ndim, '階テンソルで、各階の次元は',x.shape)"
   ]
  },
  {
   "cell_type": "code",
   "execution_count": 28,
   "metadata": {},
   "outputs": [
    {
     "name": "stdout",
     "output_type": "stream",
     "text": [
      "[-0.1339746   2.23205081] (2,)\n"
     ]
    }
   ],
   "source": [
    "y = R.dot(x)\n",
    "print(y, y.shape)"
   ]
  },
  {
   "cell_type": "code",
   "execution_count": 29,
   "metadata": {},
   "outputs": [
    {
     "data": {
      "image/png": "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\n",
      "text/plain": [
       "<Figure size 432x288 with 1 Axes>"
      ]
     },
     "metadata": {
      "needs_background": "light"
     },
     "output_type": "display_data"
    }
   ],
   "source": [
    "from matplotlib import pyplot as plt \n",
    "\n",
    "fig = plt.figure()\n",
    "ax = fig.add_subplot(1,1,1)\n",
    "ax.set_xlim([-3,3])\n",
    "ax.set_ylim([-3,3])\n",
    "ax.quiver(0,0,x[0],x[1],angles='xy',scale_units='xy',scale=1,color='red')\n",
    "ax.quiver(0,0,y[0],y[1],angles='xy',scale_units='xy',scale=1,color='blue')\n",
    "ax.grid()\n",
    "ax.axes.set_aspect('equal')"
   ]
  },
  {
   "cell_type": "markdown",
   "metadata": {},
   "source": [
    "### 4.3. テンソルのshapeを変える\n",
    "\n",
    "- `A = np.array([1,2,3,4,5,6])`は1階テンソル（6次元ベクトル）で、`A.shape` は `(6,)`\n",
    "- `B = np.array([[1,2,3,4,5,6]])`は2階テンソル（1行6列の行列、行ベクトル） で、`B.shape`は`(1,6)`\n",
    "- `C = np.array([[1,2,3],[4,5,6]])`も2階テンソル(2行3列の行列）で、`C.shape`は`(2,3)`\n",
    "- `D = np.array([[1,2],[3,4],[5,6]])`も2階テンソル（3行2列の行列）で、`D.shape`は`(3,2)`\n",
    "- `E = np.array([[1],[2],[3],[4],[5],[6]])`も2階テンソル\n",
    "- `F = np.array([[[1,2,3,4,5,6]]])`は3階テンソル(1x1x6)で`F.shape`は`(1,1,6)`\n",
    "\n",
    "ですが、これらの各階の次元数の積が同じであるテンソルは`reshape()`関数で互いに変換することができます。"
   ]
  },
  {
   "cell_type": "code",
   "execution_count": 30,
   "metadata": {},
   "outputs": [
    {
     "name": "stdout",
     "output_type": "stream",
     "text": [
      "===A16\n",
      " [[1 2 3 4 5 6]] \n",
      "\n",
      "===A1m\n",
      " [[1 2 3 4 5 6]] \n",
      "\n",
      "===A23\n",
      " [[1 2 3]\n",
      " [4 5 6]] \n",
      "\n",
      "===A32\n",
      " [[1 2]\n",
      " [3 4]\n",
      " [5 6]] \n",
      "\n",
      "===A61\n",
      " [[1]\n",
      " [2]\n",
      " [3]\n",
      " [4]\n",
      " [5]\n",
      " [6]] \n",
      "\n",
      "===A116\n",
      " [[[1 2 3 4 5 6]]] \n",
      "\n"
     ]
    }
   ],
   "source": [
    "A =np.array([1,2,3,4,5,6])\n",
    "A16 = np.reshape(A,(1,6)) \n",
    "print('===A16\\n',A16,'\\n')\n",
    "\n",
    "# 2階とわかっているのなら、1つの階の次元数を指定すれば残った階の次元数は自動的に決まるので考えずに-1としておけば勝手にやってくれる\n",
    "A1m = np.reshape(A,(1,-1))\n",
    "print('===A1m\\n',A1m,'\\n')\n",
    "\n",
    "A23 = np.reshape(A,(2,-1))\n",
    "print('===A23\\n',A23,'\\n')\n",
    "\n",
    "A32 = np.reshape(A,(3,-1))\n",
    "print('===A32\\n',A32,'\\n')\n",
    "\n",
    "A61 = np.reshape(A,(6,-1))\n",
    "print('===A61\\n',A61,'\\n')\n",
    "\n",
    "A116 = np.reshape(A,(1,1,-1))\n",
    "print('===A116\\n',A116,'\\n')"
   ]
  },
  {
   "cell_type": "code",
   "execution_count": 31,
   "metadata": {},
   "outputs": [
    {
     "name": "stdout",
     "output_type": "stream",
     "text": [
      "===B6\n",
      " [1 2 3 4 5 6] \n",
      "\n",
      "===B23\n",
      " [[1 2 3]\n",
      " [4 5 6]] \n",
      "\n",
      "===B32\n",
      " [[1 2]\n",
      " [3 4]\n",
      " [5 6]] \n",
      "\n",
      "===B61\n",
      " [[1]\n",
      " [2]\n",
      " [3]\n",
      " [4]\n",
      " [5]\n",
      " [6]] \n",
      "\n",
      "===B116\n",
      " [[[1 2 3 4 5 6]]] \n",
      "\n"
     ]
    }
   ],
   "source": [
    "B =np.array([[1,2,3,4,5,6]])\n",
    "\n",
    "B6 = np.reshape(B,(6,)) \n",
    "print('===B6\\n',B6,'\\n')\n",
    "\n",
    "B23 = np.reshape(B,(2,-1))\n",
    "print('===B23\\n',B23,'\\n')\n",
    "\n",
    "B32 = np.reshape(B,(3,-1))\n",
    "print('===B32\\n',B32,'\\n')\n",
    "\n",
    "B61 = np.reshape(B,(6,-1))\n",
    "print('===B61\\n',B61,'\\n')\n",
    "\n",
    "B116 = np.reshape(B,(1,1,-1))\n",
    "print('===B116\\n',B116,'\\n')"
   ]
  },
  {
   "cell_type": "markdown",
   "metadata": {},
   "source": [
    "## 5. NumPyの典型的なテンソル作成関数\n",
    "\n",
    "NumPyは、リストをテンソルクラスに変換するだけではない。\n",
    "\n",
    "典型的なパターンのテンソルを作成することができる。たとえば、全0テンソル、全1テンソル、定ステップテンソル、乱数テンソル、単位テンソルなどである。"
   ]
  },
  {
   "cell_type": "code",
   "execution_count": 32,
   "metadata": {},
   "outputs": [
    {
     "name": "stdout",
     "output_type": "stream",
     "text": [
      "[[0. 0. 0.]\n",
      " [0. 0. 0.]] : (2, 3) ( 2 階テンソル)\n"
     ]
    }
   ],
   "source": [
    "# 全０テンソル\n",
    "Zero = np.zeros([2,3])\n",
    "print(Zero,':',Zero.shape,'(',Zero.ndim,'階テンソル)')"
   ]
  },
  {
   "cell_type": "code",
   "execution_count": 33,
   "metadata": {},
   "outputs": [
    {
     "name": "stdout",
     "output_type": "stream",
     "text": [
      "[[1. 1.]\n",
      " [1. 1.]\n",
      " [1. 1.]] : (3, 2) ( 2 階テンソル)\n"
     ]
    }
   ],
   "source": [
    "# 全１テンソル\n",
    "One = np.ones([3,2])\n",
    "print(One,':',One.shape,'(',One.ndim,'階テンソル)')"
   ]
  },
  {
   "cell_type": "code",
   "execution_count": 34,
   "metadata": {},
   "outputs": [
    {
     "name": "stdout",
     "output_type": "stream",
     "text": [
      "[[ 1.3    1.4  ]\n",
      " [ 3.475  4.3  ]\n",
      " [ 5.65   7.2  ]\n",
      " [ 7.825 10.1  ]\n",
      " [10.    13.   ]] : (5, 2) ( 2 階テンソル)\n"
     ]
    }
   ],
   "source": [
    "# 定ステップテンソル ：arg1と最初の行、arg2を最後の行として、等間隔で５行に拡大している\n",
    "Lin = np.linspace([1.3,1.4], [10,13], 5)\n",
    "print(Lin,':',Lin.shape,'(',Lin.ndim,'階テンソル)')"
   ]
  },
  {
   "cell_type": "code",
   "execution_count": 35,
   "metadata": {},
   "outputs": [
    {
     "name": "stdout",
     "output_type": "stream",
     "text": [
      "[[0.89830438 0.9202536  0.96566493]\n",
      " [0.23524316 0.48866968 0.38911324]] : (2, 3) ( 2 階テンソル)\n"
     ]
    }
   ],
   "source": [
    "# 乱数テンソル\n",
    "# [0,1]の一様分布に従う乱数テンソル\n",
    "Ru = np.random.rand(2,3)\n",
    "print(Ru,':',Ru.shape,'(',Ru.ndim,'階テンソル)')"
   ]
  },
  {
   "cell_type": "code",
   "execution_count": 36,
   "metadata": {},
   "outputs": [
    {
     "name": "stdout",
     "output_type": "stream",
     "text": [
      "[[-0.14779216  0.87487871  0.02004203]\n",
      " [-2.13938889 -0.01674873 -0.08908068]] : (2, 3) ( 2 階テンソル)\n"
     ]
    }
   ],
   "source": [
    "# 標準正規分布（平均 0,分散１）に従う乱数テンソル\n",
    "Rn = np.random.randn(2,3)\n",
    "print(Rn,':',Rn.shape,'(',Rn.ndim,'階テンソル)')"
   ]
  },
  {
   "cell_type": "code",
   "execution_count": 37,
   "metadata": {},
   "outputs": [
    {
     "name": "stdout",
     "output_type": "stream",
     "text": [
      "Rn1= [[0.54340494 0.27836939 0.42451759]\n",
      " [0.84477613 0.00471886 0.12156912]]\n",
      "Rn2= [[0.54340494 0.27836939 0.42451759]\n",
      " [0.84477613 0.00471886 0.12156912]]\n",
     ]
    }
   ],
   "source": [
    "np.random.seed(100)\n",
    "Rn1 = np.random.rand(2,3)\n",
    "Rn2 = np.random.rand(2,3)\n",
    "\n",
    "print('Rn1=',Rn1)\n",
    "print('Rn2=',Rn2)"
   ]
  },
  {
   "cell_type": "code",
   "execution_count": 38,
   "metadata": {},
   "outputs": [
    {
     "name": "stdout",
     "output_type": "stream",
     "text": [
      "[[1. 0. 0.]\n",
      " [0. 1. 0.]\n",
      " [0. 0. 1.]] : (3, 3) ( 2 階テンソル)\n"
     ]
    }
   ],
   "source": [
    "E = np.eye(3)\n",
    "print(E,':',E.shape,'(',E.ndim,'階テンソル)')"
   ]
  },
  {
   "cell_type": "markdown",
   "metadata": {},
   "source": [
    "## 6. 課題\n",
    "\n",
    "### 6.1. 課題1\n",
    "\n",
    "連立方程式\n",
    "\n",
    "\b$\n",
    "x + 2 y = 3\\\\\n",
    "5 x + 7 y = 9\n",
    "$\n",
    "\n",
    "の解となる$x$と$y$を求めよ。連立方程式は、写像と同じであり、ベクトル$\\mathbb{a}=(x,y)$が写像行列$\\mathbb{M}=\\begin{bmatrix}1&2\\\\5&7\\end{bmatrix}$によってベクトル$\\mathbb{b}=(3,9)$に移されたことをあらわす。\n",
    "\n",
    "$\n",
    "\\mathbb{M}\\mathbb{a} = \\mathbb{b}\n",
    "$\n",
    "\n",
    "よって、線形代数によると係数行列の逆行列が存在すれば、\n",
    "\n",
    "$\n",
    "\\mathbb{a} = \\mathbb{M}^{-1} \\mathbb{b}\n",
    "$\n",
    "\n",
    "により、解$\\mathbb{a}=(x,y)$を求めることができる。\n",
    "\n",
    "numpyには行列を引数に与えると逆行列を求める関数があるので（自分で調べよ）、\n",
    "\n",
    "「行列$\\mathbb{M}$と行列$\\mathbb{b}$を引数に与えると、解$\\mathbb{a}$を返す関数」を自作し、それを用いて上記の連立方程式を解くpythonコードを作成せよ。"
   ]
  },
  {
   "cell_type": "markdown",
   "metadata": {},
   "source": [
    "### 6.2. 課題２\n",
    "\n",
    "- 1 → 3\n",
    "- 2 → 5\n",
    "- 3 → 7\n",
    "- 4 → 9\n",
    "\n",
    "のとき、10はどうなるか？\n",
    "- 10 →　？\n",
    "\n",
    "まず、入力$x$と出力出力$y$を繋ぐモデル式（適当な係数と、入出力の使い方）を作る。\n",
    "\n",
    "今、パターンが４つわかっているので、入力を４つの未知変数に拡張し、４つの未知係数を用いて\n",
    "\n",
    "$ y = a x^3 + b x^2 + c x + d $\n",
    "\n",
    "などとしてみる。係数$a,b,c,d$の3次式モデルである。未知変数への拡張のしかたは他にもいくらでも考えられる。\n",
    "\n",
    "$ y = a x^{-3} + b x^{-2} + c x^{-1} + d $\n",
    "\n",
    "のようなモデル式でもいいだろう。\n",
    "\n",
    "ひとまず３次式モデルとすると、与えられた４つのパターンは\n",
    "\n",
    "$\n",
    "\\begin{bmatrix}\n",
    "1 & 1 & 1 & 1\\\\\n",
    "8 & 4 & 2 & 1\\\\\n",
    "27 & 9 & 3 & 1\\\\\n",
    "64 & 16 & 4 & 1\n",
    "\\end{bmatrix} \\begin{bmatrix}\n",
    "a\\\\\n",
    "b\\\\\n",
    "c\\\\\n",
    "d\n",
    "\\end{bmatrix} = \\begin{bmatrix}\n",
    "3\\\\\n",
    "5\\\\\n",
    "7\\\\\n",
    "9\n",
    "\\end{bmatrix}\n",
    "$\n",
    "\n",
    "と書くことができる。よって係数は\n",
    "\n",
    "$\n",
    "\\begin{bmatrix}\n",
    "a\\\\\n",
    "b\\\\\n",
    "c\\\\\n",
    "d\n",
    "\\end{bmatrix} = \\begin{bmatrix}\n",
    "1 & 1 & 1 & 1\\\\\n",
    "8 & 4 & 2 & 1\\\\\n",
    "27 & 9 & 3 & 1\\\\\n",
    "64 & 16 & 4 & 1\n",
    "\\end{bmatrix}^{-1} \\begin{bmatrix}\n",
    "3\\\\\n",
    "5\\\\\n",
    "7\\\\\n",
    "9\n",
    "\\end{bmatrix}\n",
    "$\n",
    "で求めることができ、その係数を使えば、\n",
    "\n",
    "10 →　？\n",
    "\n",
    "を推定できる。\n"
   ]
  },
  {
   "cell_type": "markdown",
   "metadata": {},
   "source": [
    "実際この方法で、係数は、$(a,b,c,d) = (0,0,2,1)$と推定され、$y　=　2 x + 1$。すなわち、10　→　21　と推定される。  \n",
    "\n",
    "この推定値は、あくまで３次式モデルによる推定であり、他にも答えは考えられる。実際、先の逆数のモデルだと答えが異なる。"
   ]
  },
  {
   "cell_type": "markdown",
   "metadata": {},
   "source": [
    "学習用のパターンを適当に４つ作り、適当にモデル式を作って係数を学習し、学習用パターンにない適当な入力を与えたときの出力を求めよ。（pythonコードで実現せよ）"
   ]
  },
  {
   "cell_type": "markdown",
   "metadata": {},
   "source": [
    "## 6.3. 課題3\n",
    "\n",
    "８ビットカラーのビットマップ画像は、画像上の１点を赤・緑・青の3原色それぞれをどの強さ（明度）で組み合わせるかで表す。たとえば、\n",
    "- 真っ赤な1点は、次のように1次元目が255（8ビット2進数で$1111,1111(2)$,$FF(16)$）の3次元ベクトルで表される。"
   ]
  },
  {
   "cell_type": "code",
   "execution_count": 44,
   "metadata": {},
   "outputs": [
    {
     "name": "stdout",
     "output_type": "stream",
     "text": [
      "[255   0   0] \n",
      " (3,)\n"
     ]
    }
   ],
   "source": [
    "import numpy as np\n",
    "from matplotlib import pyplot as plt\n",
    "\n",
    "p0 = np.array([255,0,0])\n",
    "print(p0,'\\n',p0.shape)\n"
   ]
  },
  {
   "cell_type": "markdown",
   "metadata": {},
   "source": [
    "- 真緑、真っ青は、それぞれ`[0,255,0]`$(0,FF,0)$,`[0,0,255]`$(0,0,FF)$である。\n",
    "- 真っ黒は、赤も緑も青も何の色も入っていない`[0,0,0]`$(0,0,0)$\n",
    "- 真っ白は、赤・緑・青のすべてが最大限入っている`[255,255,255]`$(FF,FF,FF)$\n",
    "\n",
    "画像の大きさが、縦４横６であれば、この１点のベクトルを4x6行列の要素として並べたテンソルとなる。\n",
    "\n",
    "通常の4x6行列は、授業で解説したように、要素がスカラー（０階テンソル）であり、"
   ]
  },
  {
   "cell_type": "code",
   "execution_count": 40,
   "metadata": {},
   "outputs": [
    {
     "name": "stdout",
     "output_type": "stream",
     "text": [
      "[[ 1  2  3  4  5  6]\n",
      " [ 7  8  9 10 11 12]\n",
      " [13 14 15 16 17 18]\n",
      " [19 20 21 22 23 24]] \n",
      " (4, 6)\n"
     ]
    }
   ],
   "source": [
    "M = np.array([[1,2,3,4,5,6],[7,8,9,10,11,12],[13,14,15,16,17,18],[19,20,21,22,23,24]])\n",
    "print(M,'\\n',M.shape)"
   ]
  },
  {
   "cell_type": "markdown",
   "metadata": {},
   "source": [
    "縦４横６の画像は、この要素がベクトル（１階テンソル）となっている。 "
   ]
  },
  {
   "cell_type": "code",
   "execution_count": 47,
   "metadata": {},
   "outputs": [
    {
     "name": "stdout",
     "output_type": "stream",
     "text": [
      "[[[255   0   0]\n",
      "  [  0 255   0]\n",
      "  [  0   0 255]\n",
      "  [255 255 255]\n",
      "  [  0   0   0]\n",
      "  [255   0   0]]\n",
      "\n",
      " [[  0 255   0]\n",
      "  [  0   0 255]\n",
      "  [255 255 255]\n",
      "  [  0   0   0]\n",
      "  [255   0   0]\n",
      "  [  0 255   0]]\n",
      "\n",
      " [[  0   0 255]\n",
      "  [255 255 255]\n",
      "  [  0   0   0]\n",
      "  [255   0   0]\n",
      "  [  0 255   0]\n",
      "  [  0   0 255]]\n",
      "\n",
      " [[255 255 255]\n",
      "  [  0   0   0]\n",
      "  [255   0   0]\n",
      "  [  0 255   0]\n",
      "  [  0   0 255]\n",
      "  [255 255 255]]] \n",
      " (4, 6, 3)\n"
     ]
    }
   ],
   "source": [
    "pR = np.array([255,0,0]) # 真っ赤\n",
    "pG = np.array([0,255,0]) # 真緑\n",
    "pB = np.array([0,0,255]) # 真っ青\n",
    "pW = np.array([255,255,255]) # 白\n",
    "pK = np.array([0,0,0]) # 黒\n",
    "\n",
    "G = np.array([ [pR, pG, pB, pW, pK, pR], [pG, pB, pW, pK, pR, pG], [pB, pW, pK, pR, pG, pB], [pW, pK, pR, pG, pB, pW]])\n",
    "\n",
    "print(G, '\\n', G.shape)\n"
   ]
  },
  {
   "cell_type": "code",
   "execution_count": null,
   "metadata": {},
   "outputs": [],
   "source": [
    "画像Gは、4x6x3の３階テンソルとなっている。4x6の行列の各要素が３次元ベクトルである（対応を再確認）\n",
    "\n",
    "画像を表示するには、matplotlibライブラリの pyplotモジュールを使える。vmin,vmaxには最小・最大の明度を指定する。"
   ]
  },
  {
   "cell_type": "code",
   "execution_count": 49,
   "metadata": {},
   "outputs": [
    {
     "data": {
      "image/png": "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\n",
      "text/plain": [
       "<Figure size 432x288 with 1 Axes>"
      ]
     },
     "metadata": {
      "needs_background": "light"
     },
     "output_type": "display_data"
    }
   ],
   "source": [
    "plt.imshow(G, vmin=0, vmax=255)\n",
    "plt.show()"
   ]
  },
  {
   "cell_type": "markdown",
   "metadata": {},
   "source": [
    "**これを次のようなデータフレームに変換せよ。**\n",
    "\n",
    "行数は行番号と列番号の組み合わせだけあるので２４行なので、データは行番号と列番号の列を除くと２４行３列となる。\n",
    "numpyのreshape関数を使ってGのテンソルの形状を(4,6,3)から(24,3)に変換せよ。テンソルの形状を変換したのち、pandasのdataframeメソッドでデータフレームに変えることができる。\n",
    "\n",
    "|行番号|列番号|赤明度|緑明度|青明度|\n",
    "|---|---|---|---|---|\n",
    "|0|0|255|0|0|\n",
    "|:|:|:|:|:|\n",
    "|3|5|255|255|255|"
   ]
  },
  {
   "cell_type": "code",
   "execution_count": null,
   "metadata": {},
   "outputs": [],
   "source": []
  }
 ],
 "metadata": {
  "interpreter": {
   "hash": "ff1451f766ff1f2aab9fee63bb48cc74e2e1277d7805d9df96af52a7af6088e7"
  },
  "kernelspec": {
   "display_name": "Python 3",
   "language": "python",
   "name": "python3"
  },
  "language_info": {
   "codemirror_mode": {
    "name": "ipython",
    "version": 3
   },
   "file_extension": ".py",
   "mimetype": "text/x-python",
   "name": "python",
   "nbconvert_exporter": "python",
   "pygments_lexer": "ipython3",
   "version": "3.8.5"
  }
 },
 "nbformat": 4,
 "nbformat_minor": 2
}
