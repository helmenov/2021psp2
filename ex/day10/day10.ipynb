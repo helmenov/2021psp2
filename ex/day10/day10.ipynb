{
 "cells": [
  {
   "cell_type": "markdown",
   "metadata": {},
   "source": [
    "# NumPy"
   ]
  },
  {
   "cell_type": "markdown",
   "metadata": {},
   "source": [
    "## 1. NumPyで何ができるか\n",
    "\n",
    "- テンソル（Tensor）型\n",
    "- テンソル型変数を用いる数学関数モジュール\n",
    "\n",
    "数学関数モジュールは、説明不要でしょう。$cos$などの三角関数や$average$などの統計関数などです。ただし、入力（引数）変数や出力変数がテンソル型です。\n",
    "\n",
    "テンソルとは、多次元数値配列のことで、多次元アレイ(nd-array)とも言います。（ただし、後述するように本当は「多次元」ではなく「多階」が正しい）\n"
   ]
  },
  {
   "cell_type": "markdown",
   "metadata": {},
   "source": [
    "## 2. テンソル(Tensor)\n",
    "\n",
    "1つの数値をスカラーといいます。$3.14$や$-5$とか$1+1j$とか、そういう普通の数値です。\n",
    "\n",
    "このスカラーを複数並べたものを「ベクトル」といいます。pythonでは「リスト」を使います。\n",
    "つまり、"
   ]
  },
  {
   "cell_type": "code",
   "execution_count": 19,
   "metadata": {},
   "outputs": [],
   "source": [
    "L = [3.14, -5, 1+1j]"
   ]
  },
  {
   "cell_type": "markdown",
   "metadata": {},
   "source": [
    "のように数値を並べると、\n",
    "\n",
    "（注）`[`と`]`はリストを作る操作"
   ]
  },
  {
   "cell_type": "code",
   "execution_count": 20,
   "metadata": {},
   "outputs": [
    {
     "output_type": "stream",
     "name": "stdout",
     "text": [
      "-5\n"
     ]
    }
   ],
   "source": [
    "print(L[1])"
   ]
  },
  {
   "cell_type": "markdown",
   "metadata": {},
   "source": [
    "のように、ベクトルの1番目の要素を参照することができます。$N$個の要素が並んだベクトルは$N$次元ベクトルといい、$N$個の軸で構成される空間上の**ただ1点**を表現します。"
   ]
  },
  {
   "cell_type": "markdown",
   "metadata": {},
   "source": [
    "また、ベクトルを複数並べたものを行列といいます。\n",
    "\n",
    "行列は、たとえば\n",
    "\n",
    "$ M = \\begin{bmatrix}1 & 2 & 3 \\\\ 4 & 5 & 6\\end{bmatrix}$ \n",
    "\n",
    "は、2行3列の行列ですが、\n",
    "\n",
    "この場合もリストを用いることができます。つまり、リストの要素に複数のリストを並べて、"
   ]
  },
  {
   "cell_type": "code",
   "execution_count": 21,
   "metadata": {},
   "outputs": [],
   "source": [
    "L1 = [1,2,3]\n",
    "L2 = [4,5,6]\n",
    "M = [L1,L2] # もしくは M = [ [1,2,3], [4,5,6] ]"
   ]
  },
  {
   "cell_type": "markdown",
   "metadata": {},
   "source": [
    "`M`は行列であり、`M`の1番目のベクトルは"
   ]
  },
  {
   "cell_type": "code",
   "execution_count": 22,
   "metadata": {},
   "outputs": [
    {
     "output_type": "stream",
     "name": "stdout",
     "text": [
      "[4, 5, 6]\n"
     ]
    }
   ],
   "source": [
    "print(M[1])"
   ]
  },
  {
   "cell_type": "markdown",
   "metadata": {},
   "source": [
    "のように参照されます。よってさらに`M`の0番目のベクトルの2番目の要素（つまりMの0行2列目）は"
   ]
  },
  {
   "cell_type": "code",
   "execution_count": 23,
   "metadata": {},
   "outputs": [
    {
     "output_type": "stream",
     "name": "stdout",
     "text": [
      "3\n"
     ]
    }
   ],
   "source": [
    "print(M[0][2])"
   ]
  },
  {
   "cell_type": "markdown",
   "metadata": {},
   "source": [
    "というように参照されることもわかると思います。"
   ]
  },
  {
   "cell_type": "markdown",
   "metadata": {},
   "source": [
    "ここまでをまとめると、次のようになります。\n",
    "\n",
    "- `x` ： スカラー\n",
    "- `L=[x1, x2, x3, ....]` ： ベクトル, indexを1つ指定するとスカラー参照\n",
    "- `M=[L1, L2, L3, ...]` : 行列、indexを1つ指定するとベクトル参照、2つ指定するとスカラー参照\n",
    "\n",
    "このしくみを一般化したものがテンソルです。スカラーを参照するために必要なindexの数を「階(rank)」といいます。\n",
    "\n",
    "- スカラー：0階テンソル\n",
    "- ベクトル：1階テンソル\n",
    "- 行列：2階テンソル\n",
    "\n",
    "注意ですが、階は次元とは異なります。要素が5個あるベクトルを5次元ベクトルといいますが、ベクトルである限り1階です。同様に5行6列の行列も、行列である限り、階は2です。"
   ]
  },
  {
   "cell_type": "markdown",
   "metadata": {},
   "source": [
    "また、これは大変重要な注意事項ですが、\n",
    "\n",
    "> - 行ベクトル（横ベクトル）や列ベクトル（縦ベクトル）は、ベクトル（1階テンソル）ではなく行列（2階テンソル）です。\n",
    "> - それらは、行か列の次元が「1」である行列です。1階テンソル（ベクトル）には行とか列とか縦とか横とかがありません。"
   ]
  },
  {
   "cell_type": "code",
   "execution_count": 24,
   "metadata": {},
   "outputs": [],
   "source": [
    "X = [1,2,3] # 1階テンソル（3次元ベクトル）\n",
    "Y = [[1,2,3]] # 2階テンソル（1行3列行列、いわゆる行ベクトル）\n",
    "Z = [[1], [2], [3]] # 2階テンソル（3行1列行列、いわゆる列ベクトル）"
   ]
  },
  {
   "cell_type": "markdown",
   "metadata": {},
   "source": [
    "上記のX,Y,Zで2を参照するには、"
   ]
  },
  {
   "cell_type": "code",
   "execution_count": 25,
   "metadata": {},
   "outputs": [
    {
     "output_type": "stream",
     "name": "stdout",
     "text": [
      "2 2 2\n"
     ]
    }
   ],
   "source": [
    "print(X[1],Y[0][1],Z[1][0])"
   ]
  },
  {
   "cell_type": "markdown",
   "metadata": {},
   "source": [
    "のように行ベクトルや列ベクトルではindexを2つ指定しなければいけません。"
   ]
  },
  {
   "cell_type": "markdown",
   "metadata": {},
   "source": [
    "## 3. NumPyの数学関数\n",
    "\n",
    "python は、もともと数学関数モジュール`math` を備えています。\b"
   ]
  },
  {
   "cell_type": "code",
   "execution_count": 26,
   "metadata": {},
   "outputs": [
    {
     "output_type": "stream",
     "name": "stdout",
     "text": [
      "0.5004596890082058\n"
     ]
    }
   ],
   "source": [
    "import math\n",
    "\n",
    "print(math.cos(3.14/3))"
   ]
  },
  {
   "cell_type": "markdown",
   "metadata": {},
   "source": [
    "では、なぜわざわざNumPyパッケージが数学関数モジュールを用意しているのか。\n",
    "\n",
    "それは、NumPyの数学関数モジュールは、引数にテンソルを与えることができ、一挙に答えをテンソルで返してくれるからです。"
   ]
  },
  {
   "cell_type": "code",
   "execution_count": 27,
   "metadata": {},
   "outputs": [
    {
     "output_type": "error",
     "ename": "TypeError",
     "evalue": "must be real number, not list",
     "traceback": [
      "\u001b[0;31m---------------------------------------------------------------------------\u001b[0m",
      "\u001b[0;31mTypeError\u001b[0m                                 Traceback (most recent call last)",
      "\u001b[0;32m<ipython-input-27-27fef56d995a>\u001b[0m in \u001b[0;36m<module>\u001b[0;34m\u001b[0m\n\u001b[1;32m      1\u001b[0m \u001b[0mL\u001b[0m \u001b[0;34m=\u001b[0m \u001b[0;34m[\u001b[0m\u001b[0;36m3.14\u001b[0m\u001b[0;34m/\u001b[0m\u001b[0;36m2\u001b[0m\u001b[0;34m,\u001b[0m \u001b[0;36m3.14\u001b[0m\u001b[0;34m/\u001b[0m\u001b[0;36m3\u001b[0m\u001b[0;34m]\u001b[0m\u001b[0;34m\u001b[0m\u001b[0;34m\u001b[0m\u001b[0m\n\u001b[0;32m----> 2\u001b[0;31m \u001b[0mprint\u001b[0m\u001b[0;34m(\u001b[0m\u001b[0mmath\u001b[0m\u001b[0;34m.\u001b[0m\u001b[0mcos\u001b[0m\u001b[0;34m(\u001b[0m\u001b[0mL\u001b[0m\u001b[0;34m)\u001b[0m\u001b[0;34m)\u001b[0m\u001b[0;34m\u001b[0m\u001b[0;34m\u001b[0m\u001b[0m\n\u001b[0m",
      "\u001b[0;31mTypeError\u001b[0m: must be real number, not list"
     ]
    }
   ],
   "source": [
    "L = [3.14/2, 3.14/3]\n",
    "print(math.cos(L))"
   ]
  },
  {
   "cell_type": "markdown",
   "metadata": {},
   "source": [
    "上記のようにpythonがもともと備えている`math`モジュールでは、リストを一挙に関数を適用できません。\n",
    "\n",
    "しかし、NumPyの数学関数モジュールはできます。"
   ]
  },
  {
   "cell_type": "code",
   "execution_count": 28,
   "metadata": {},
   "outputs": [
    {
     "output_type": "stream",
     "name": "stdout",
     "text": [
      "[0.00079633 0.50045969]\n"
     ]
    }
   ],
   "source": [
    "import numpy as np \n",
    "\n",
    "L = [3.14/2, 3.14/3]\n",
    "print(np.cos(L))"
   ]
  },
  {
   "cell_type": "markdown",
   "metadata": {},
   "source": [
    "これがNumpyの数学関数モジュールのモチベーションです。プログラムによる複雑なシミュレーション処理ではこのようなテンソル全体を一挙に計算するようなことが普通ですので、NumPyは大切なのです。"
   ]
  },
  {
   "cell_type": "markdown",
   "metadata": {},
   "source": [
    "ところで、正しくは、NumPyの数学関数は、「リストを一挙に計算できる」のではなく、「テンソルを一挙に計算できる」ものです。\n",
    "\n",
    "リストとテンソルは何が違うのか？？\n",
    "\n",
    "**テンソルは同じ階にある要素の数（次元）が等しいリストです。**\n",
    "\n",
    "リストに含まれる要素は、同じ型でなくてもよいことになっています。つまり、0番目の要素はスカラー、1番目の要素はベクトルなんてことができます。"
   ]
  },
  {
   "cell_type": "code",
   "execution_count": 29,
   "metadata": {},
   "outputs": [],
   "source": [
    "L = [3.14, [1,2,3], 'hello']"
   ]
  },
  {
   "cell_type": "code",
   "execution_count": 30,
   "metadata": {},
   "outputs": [
    {
     "output_type": "stream",
     "name": "stdout",
     "text": [
      "3.14\n[1, 2, 3]\nhello\n"
     ]
    }
   ],
   "source": [
    "print(L[0])\n",
    "print(L[1])\n",
    "print(L[2])"
   ]
  },
  {
   "cell_type": "markdown",
   "metadata": {},
   "source": [
    "上記のLは0番目の要素がスカラー、1番目の要素がベクトル、2番目の要素が文字列です。参照した結果もそうなっていますね。"
   ]
  },
  {
   "cell_type": "markdown",
   "metadata": {},
   "source": [
    "0番目の要素の1番目の要素"
   ]
  },
  {
   "cell_type": "code",
   "execution_count": 32,
   "metadata": {},
   "outputs": [
    {
     "output_type": "error",
     "ename": "TypeError",
     "evalue": "'float' object is not subscriptable",
     "traceback": [
      "\u001b[0;31m---------------------------------------------------------------------------\u001b[0m",
      "\u001b[0;31mTypeError\u001b[0m                                 Traceback (most recent call last)",
      "\u001b[0;32m<ipython-input-32-643f399c46ea>\u001b[0m in \u001b[0;36m<module>\u001b[0;34m\u001b[0m\n\u001b[0;32m----> 1\u001b[0;31m \u001b[0mprint\u001b[0m\u001b[0;34m(\u001b[0m\u001b[0mL\u001b[0m\u001b[0;34m[\u001b[0m\u001b[0;36m0\u001b[0m\u001b[0;34m]\u001b[0m\u001b[0;34m[\u001b[0m\u001b[0;36m1\u001b[0m\u001b[0;34m]\u001b[0m\u001b[0;34m)\u001b[0m\u001b[0;34m\u001b[0m\u001b[0;34m\u001b[0m\u001b[0m\n\u001b[0m",
      "\u001b[0;31mTypeError\u001b[0m: 'float' object is not subscriptable"
     ]
    }
   ],
   "source": [
    "print(L[0][1])"
   ]
  },
  {
   "cell_type": "markdown",
   "metadata": {},
   "source": [
    "スカラーなので、その1番目の要素などありません。\n",
    "\n",
    "1番目のベクトルの1番目の要素は"
   ]
  },
  {
   "cell_type": "code",
   "execution_count": 33,
   "metadata": {},
   "outputs": [
    {
     "output_type": "stream",
     "name": "stdout",
     "text": [
      "2\n"
     ]
    }
   ],
   "source": [
    "print(L[1][1])"
   ]
  },
  {
   "cell_type": "markdown",
   "metadata": {},
   "source": [
    "ベクトルなので、その1番目の要素は存在すれば表示されます。\n",
    "\n",
    "2番目の文字列の1番目の要素は"
   ]
  },
  {
   "cell_type": "code",
   "execution_count": 34,
   "metadata": {},
   "outputs": [
    {
     "output_type": "stream",
     "name": "stdout",
     "text": [
      "e\n"
     ]
    }
   ],
   "source": [
    "print(L[2][1])"
   ]
  },
  {
   "cell_type": "markdown",
   "metadata": {},
   "source": [
    "文字列も一種のリスト（文字のリスト）なので、1番目の文字が参照されます。\n",
    "\n",
    "このように **リストでは、同じ階で次元（要素の数）や階数が異なる要素が格納できる**ようになっています。\n",
    "\n",
    "ただし、このようなリストは、NumPyの数学関数を適用できません。NumPyの数学関数を適用できるのは、同じ階で次元が等しく、さらに型（クラス）も等しい、リストである必要があります。\n",
    "\n",
    "2階テンソル、すなわち行列を考えると、行列というのは行ごとの列数が同じですよね。また、行列に含まれる要素はすべて同じ型ですよね。そういうことです。\n",
    "\n"
   ]
  },
  {
   "cell_type": "markdown",
   "metadata": {},
   "source": [
    "## 4. NumPyのテンソル演算\n",
    "\n",
    "NumPyの数学関数は、pythonがもとから備えている`math`モジュールにはできないテンソルを相手にした一挙計算ができる、といいましたが、\n",
    "テンソルに対する演算子も定義されています。\n",
    "\n",
    "つまり、NumPyが定義するテンソルクラスには、まずは、テンソルに対する四則演算を`+`/`-`/`*`/`/`でおこなえるように定義されています。\n",
    "\n",
    "ただし、リストではなく、Numpyテンソルクラスに変換しておく必要があります。リストをNumpyテンソルクラス(array)に変換するにはnumpyのarrayメソッド（arrayクラスの`__init__()`メソッド）を使います。"
   ]
  },
  {
   "cell_type": "markdown",
   "metadata": {},
   "source": [
    "### 4.1. テンソル加算\n",
    "\n",
    "リストの加算`+`は、リストをつなげます。\n",
    "\n",
    "テンソルの加算をしたい場合は、numpy.arrayメソッドでリストをテンソルに変換しなければいけません。"
   ]
  },
  {
   "cell_type": "code",
   "execution_count": 35,
   "metadata": {},
   "outputs": [
    {
     "output_type": "stream",
     "name": "stdout",
     "text": [
      "[[1], [2], [3], [4], [5], [6]]\n"
     ]
    }
   ],
   "source": [
    "M1 = [[1],[2],[3]]\n",
    "M2 = [[4],[5],[6]]\n",
    "\n",
    "print(M1 + M2)"
   ]
  },
  {
   "cell_type": "code",
   "execution_count": 36,
   "metadata": {},
   "outputs": [
    {
     "output_type": "stream",
     "name": "stdout",
     "text": [
      "[[5]\n [7]\n [9]]\n"
     ]
    }
   ],
   "source": [
    "nM1 = np.array(M1)\n",
    "nM2 = np.array(M2)\n",
    "\n",
    "print(nM1 + nM2)"
   ]
  },
  {
   "cell_type": "markdown",
   "metadata": {},
   "source": [
    "NumPyテンソルクラスには`__str__`メソッドも定義されているようですね。きちんと3行1列\bの行列の形で表しています。"
   ]
  },
  {
   "cell_type": "markdown",
   "metadata": {},
   "source": [
    "### 4.2. テンソル乗算\n",
    "\n",
    "リストは乗算 `*`ができません。\n",
    "\n",
    "テンソルの乗算は、リストをテンソルに変換したあとで行います。"
   ]
  },
  {
   "cell_type": "code",
   "execution_count": 37,
   "metadata": {},
   "outputs": [
    {
     "output_type": "error",
     "ename": "TypeError",
     "evalue": "can't multiply sequence by non-int of type 'list'",
     "traceback": [
      "\u001b[0;31m---------------------------------------------------------------------------\u001b[0m",
      "\u001b[0;31mTypeError\u001b[0m                                 Traceback (most recent call last)",
      "\u001b[0;32m<ipython-input-37-ab863fb50d4b>\u001b[0m in \u001b[0;36m<module>\u001b[0;34m\u001b[0m\n\u001b[0;32m----> 1\u001b[0;31m \u001b[0mprint\u001b[0m\u001b[0;34m(\u001b[0m\u001b[0mM1\u001b[0m \u001b[0;34m*\u001b[0m \u001b[0mM2\u001b[0m\u001b[0;34m)\u001b[0m\u001b[0;34m\u001b[0m\u001b[0;34m\u001b[0m\u001b[0m\n\u001b[0m",
      "\u001b[0;31mTypeError\u001b[0m: can't multiply sequence by non-int of type 'list'"
     ]
    }
   ],
   "source": [
    "print(M1 * M2)"
   ]
  },
  {
   "cell_type": "code",
   "execution_count": 38,
   "metadata": {},
   "outputs": [
    {
     "output_type": "stream",
     "name": "stdout",
     "text": [
      "[[ 4]\n [10]\n [18]]\n"
     ]
    }
   ],
   "source": [
    "print(nM1 * nM2)"
   ]
  },
  {
   "cell_type": "markdown",
   "metadata": {},
   "source": [
    "？？ `*`は行列の掛け算ではありません。3行1列の行列と3行1列の行列は掛け算できませんね。この`*`がおこなっている掛け算は、**要素積**（アダマール積）という掛け算です。\n",
    "\n",
    "行列の掛け算（**行列積**）は、`.dot()`モジュールを使います。"
   ]
  },
  {
   "cell_type": "code",
   "execution_count": 40,
   "metadata": {},
   "outputs": [
    {
     "output_type": "error",
     "ename": "ValueError",
     "evalue": "shapes (3,1) and (3,1) not aligned: 1 (dim 1) != 3 (dim 0)",
     "traceback": [
      "\u001b[0;31m---------------------------------------------------------------------------\u001b[0m",
      "\u001b[0;31mValueError\u001b[0m                                Traceback (most recent call last)",
      "\u001b[0;32m<ipython-input-40-62a82b4c7615>\u001b[0m in \u001b[0;36m<module>\u001b[0;34m\u001b[0m\n\u001b[0;32m----> 1\u001b[0;31m \u001b[0mprint\u001b[0m\u001b[0;34m(\u001b[0m\u001b[0mnM1\u001b[0m\u001b[0;34m.\u001b[0m\u001b[0mdot\u001b[0m\u001b[0;34m(\u001b[0m\u001b[0mnM2\u001b[0m\u001b[0;34m)\u001b[0m\u001b[0;34m)\u001b[0m\u001b[0;34m\u001b[0m\u001b[0;34m\u001b[0m\u001b[0m\n\u001b[0m",
      "\u001b[0;31mValueError\u001b[0m: shapes (3,1) and (3,1) not aligned: 1 (dim 1) != 3 (dim 0)"
     ]
    }
   ],
   "source": [
    "print(nM1.dot(nM2))"
   ]
  },
  {
   "cell_type": "markdown",
   "metadata": {},
   "source": [
    "3行1列と3行1列の組み合わせはならべられません、とのことです。転置は`.T`です。"
   ]
  },
  {
   "cell_type": "code",
   "execution_count": 41,
   "metadata": {},
   "outputs": [
    {
     "output_type": "stream",
     "name": "stdout",
     "text": [
      "[[32]]\n"
     ]
    }
   ],
   "source": [
    "print(nM1.T.dot(nM2))"
   ]
  },
  {
   "cell_type": "markdown",
   "metadata": {},
   "source": [
    "答えの形は、1行1列の行列（2階テンソル）です（スカラーやベクトルではありません）"
   ]
  },
  {
   "cell_type": "code",
   "execution_count": 42,
   "metadata": {},
   "outputs": [
    {
     "output_type": "stream",
     "name": "stdout",
     "text": [
      "[[ 4  5  6]\n [ 8 10 12]\n [12 15 18]]\n"
     ]
    }
   ],
   "source": [
    "print(nM1.dot(nM2.T))"
   ]
  },
  {
   "cell_type": "markdown",
   "metadata": {},
   "source": [
    "この行列積でできあがる要素は、次のようになっています。\n",
    "\n",
    "`Z[i][j] = X[i][0]*Y[0][j] + X[i][1]*Y[1][j] + X[i][2]*Y[2][j] + ... + X[i][k]*Y[k][j] + `\n"
   ]
  },
  {
   "cell_type": "code",
   "execution_count": 43,
   "metadata": {},
   "outputs": [
    {
     "output_type": "stream",
     "name": "stdout",
     "text": [
      "32\n"
     ]
    }
   ],
   "source": [
    "nV1 = np.array([1,2,3])\n",
    "nV2 = np.array([4,5,6])\n",
    "print(nV1.dot(nV2))"
   ]
  },
  {
   "cell_type": "markdown",
   "metadata": {},
   "source": [
    "行ベクトルや列ベクトルでなく、1階テンソルであるベクトルであれば、そもそも転置がなく、`.dot()`で直接内積がおこなえます。答えはスカラー（0階テンソル）となります。\n",
    "\n",
    " `Z = X[0]*Y[0] + .... + X[k]*Y[K] + ....`\n",
    "\n"
   ]
  },
  {
   "cell_type": "markdown",
   "metadata": {},
   "source": [
    "1行3列行列（2階テンソル）と3次元ベクトル（1階テンソル）との `.dot()`積は、1次元ベクトル（1階テンソル）になります。\n",
    "\n",
    "`Z[0] = X[0][0]*Y[0] + ... + X[0][k]*Y[k] + ...`"
   ]
  },
  {
   "cell_type": "code",
   "execution_count": 44,
   "metadata": {},
   "outputs": [
    {
     "output_type": "stream",
     "name": "stdout",
     "text": [
      "[32]\n"
     ]
    }
   ],
   "source": [
    "print(nM1.T.dot(nV2))"
   ]
  },
  {
   "cell_type": "markdown",
   "metadata": {},
   "source": [
    "3次元ベクトル（1階テンソル）と3行1列行列（2階テンソル）との`.dot()`積も、1次元ベクトル（1階テンソル）になります。\n",
    "\n",
    "`Z[0] = X[0]*Y[0][0] + X[k]*Y[k][0] + ...`"
   ]
  },
  {
   "cell_type": "code",
   "execution_count": 45,
   "metadata": {},
   "outputs": [
    {
     "output_type": "stream",
     "name": "stdout",
     "text": [
      "[32]\n"
     ]
    }
   ],
   "source": [
    "print(nV1.dot(nM2))"
   ]
  },
  {
   "cell_type": "markdown",
   "metadata": {},
   "source": [
    "つまり、この`.dot()`積は、\n",
    "- 1階.dot(1階)　は　0階\n",
    "- 1階.dot(2階)　や　2階.dot(1階)　は　1階\n",
    "- 2階.dot(2階)　は　2階\n",
    "となります。\n",
    "\n",
    "また、左側のテンソルの最も後ろの階のi番目と、右側の最も前のi番目を乗算したものを、すべてのiについて足し合わせたものとなります。\n",
    "\n",
    "つまり、`Z[A][B][C][D] = Σ L[A][B][i] .dot R[i][C][D]` と一般化できます。"
   ]
  },
  {
   "cell_type": "markdown",
   "metadata": {},
   "source": [
    "この`.dot()`積を使うと、いわゆる「写像」をおこなえます。\n",
    "\n",
    "位置ベクトル$(x,y)=(1,2)$の点を原点中心に30度逆時計回りに回転させた点は、30度の回転行列$\\mathbb{R}_{30}$と位置ベクトル$\\mathbb{x}$の`.dot()`積となります。"
   ]
  },
  {
   "cell_type": "code",
   "execution_count": 46,
   "metadata": {},
   "outputs": [],
   "source": [
    "R = np.array([[np.cos(np.pi/6), -np.sin(np.pi/6)], [np.sin(np.pi/6), np.cos(np.pi/6)]])\n",
    "x = np.array([1,2])"
   ]
  },
  {
   "cell_type": "markdown",
   "metadata": {},
   "source": [
    "arrayクラスは、`shape`属性に各階の次元数をタプルで保存しています。タプルの要素数がテンソルの階数になっています（`ndim`属性にも保存されています。）。\n",
    "\n",
    "復習ですが、タプルは要素を`,`で区切ったものです。（リストは`[`と`]`でタプルを囲んだもの、セットは`{`と`}`でタプルを囲んだもの、でした）\n",
    "\n",
    "要素が1個のタプルは `a = (2,)`のように表現します。1階テンソル、ベクトルです。\n",
    "\n",
    "要素が2個のタプルは `b = (3,1)`のように表現されます。2階テンソル、行列（行ベクトル、列ベクトルも含まれる）です。"
   ]
  },
  {
   "cell_type": "code",
   "execution_count": 47,
   "metadata": {},
   "outputs": [
    {
     "output_type": "stream",
     "name": "stdout",
     "text": [
      "[[ 0.8660254 -0.5      ]\n [ 0.5        0.8660254]] は 2 階テンソルで、各階の次元は (2, 2)\n[1 2] は 1 階テンソルで、各階の次元は (2,)\n"
     ]
    }
   ],
   "source": [
    "print(R,'は',R.ndim,'階テンソルで、各階の次元は',R.shape)\n",
    "print(x,'は',x.ndim, '階テンソルで、各階の次元は',x.shape)"
   ]
  },
  {
   "cell_type": "code",
   "execution_count": 48,
   "metadata": {},
   "outputs": [
    {
     "output_type": "stream",
     "name": "stdout",
     "text": [
      "[-0.1339746   2.23205081] (2,)\n"
     ]
    }
   ],
   "source": [
    "y = R.dot(x)\n",
    "print(y, y.shape)"
   ]
  },
  {
   "cell_type": "code",
   "execution_count": 49,
   "metadata": {},
   "outputs": [
    {
     "output_type": "display_data",
     "data": {
      "text/plain": "<Figure size 432x288 with 1 Axes>",
      "image/svg+xml": "<?xml version=\"1.0\" encoding=\"utf-8\" standalone=\"no\"?>\n<!DOCTYPE svg PUBLIC \"-//W3C//DTD SVG 1.1//EN\"\n  \"http://www.w3.org/Graphics/SVG/1.1/DTD/svg11.dtd\">\n<!-- Created with matplotlib (https://matplotlib.org/) -->\n<svg height=\"252.317344pt\" version=\"1.1\" viewBox=\"0 0 256.763437 252.317344\" width=\"256.763437pt\" xmlns=\"http://www.w3.org/2000/svg\" xmlns:xlink=\"http://www.w3.org/1999/xlink\">\n <metadata>\n  <rdf:RDF xmlns:cc=\"http://creativecommons.org/ns#\" xmlns:dc=\"http://purl.org/dc/elements/1.1/\" xmlns:rdf=\"http://www.w3.org/1999/02/22-rdf-syntax-ns#\">\n   <cc:Work>\n    <dc:type rdf:resource=\"http://purl.org/dc/dcmitype/StillImage\"/>\n    <dc:date>2021-06-30T16:11:10.181731</dc:date>\n    <dc:format>image/svg+xml</dc:format>\n    <dc:creator>\n     <cc:Agent>\n      <dc:title>Matplotlib v3.3.4, https://matplotlib.org/</dc:title>\n     </cc:Agent>\n    </dc:creator>\n   </cc:Work>\n  </rdf:RDF>\n </metadata>\n <defs>\n  <style type=\"text/css\">*{stroke-linecap:butt;stroke-linejoin:round;}</style>\n </defs>\n <g id=\"figure_1\">\n  <g id=\"patch_1\">\n   <path d=\"M 0 252.317344 \nL 256.763437 252.317344 \nL 256.763437 0 \nL 0 0 \nz\n\" style=\"fill:none;\"/>\n  </g>\n  <g id=\"axes_1\">\n   <g id=\"patch_2\">\n    <path d=\"M 28.942188 228.439219 \nL 246.382188 228.439219 \nL 246.382188 10.999219 \nL 28.942188 10.999219 \nz\n\" style=\"fill:#ffffff;\"/>\n   </g>\n   <g id=\"Quiver_1\">\n    <path clip-path=\"url(#p66312c4545)\" d=\"M 136.932872 119.354561 \nL 169.89095 53.438404 \nL 168.06766 53.438404 \nL 173.902188 47.239219 \nL 172.443556 55.626352 \nL 171.349582 54.16772 \nL 138.391503 120.083877 \nL 136.932872 119.354561 \n\" style=\"fill:#ff0000;\"/>\n   </g>\n   <g id=\"Quiver_2\">\n    <path clip-path=\"url(#p66312c4545)\" d=\"M 136.848252 119.768074 \nL 132.432707 46.203968 \nL 130.853692 47.115613 \nL 132.806948 38.829697 \nL 135.737302 46.822484 \nL 134.060577 46.106259 \nL 138.476123 119.670364 \nL 136.848252 119.768074 \n\" style=\"fill:#0000ff;\"/>\n   </g>\n   <g id=\"matplotlib.axis_1\">\n    <g id=\"xtick_1\">\n     <g id=\"line2d_1\">\n      <path clip-path=\"url(#p66312c4545)\" d=\"M 28.942188 228.439219 \nL 28.942188 10.999219 \n\" style=\"fill:none;stroke:#b0b0b0;stroke-linecap:square;stroke-width:0.8;\"/>\n     </g>\n     <g id=\"line2d_2\">\n      <defs>\n       <path d=\"M 0 0 \nL 0 3.5 \n\" id=\"m30368bf062\" style=\"stroke:#000000;stroke-width:0.8;\"/>\n      </defs>\n      <g>\n       <use style=\"stroke:#000000;stroke-width:0.8;\" x=\"28.942188\" xlink:href=\"#m30368bf062\" y=\"228.439219\"/>\n      </g>\n     </g>\n     <g id=\"text_1\">\n      <!-- −3 -->\n      <g transform=\"translate(21.571094 243.037656)scale(0.1 -0.1)\">\n       <defs>\n        <path d=\"M 10.59375 35.5 \nL 73.1875 35.5 \nL 73.1875 27.203125 \nL 10.59375 27.203125 \nz\n\" id=\"DejaVuSans-8722\"/>\n        <path d=\"M 40.578125 39.3125 \nQ 47.65625 37.796875 51.625 33 \nQ 55.609375 28.21875 55.609375 21.1875 \nQ 55.609375 10.40625 48.1875 4.484375 \nQ 40.765625 -1.421875 27.09375 -1.421875 \nQ 22.515625 -1.421875 17.65625 -0.515625 \nQ 12.796875 0.390625 7.625 2.203125 \nL 7.625 11.71875 \nQ 11.71875 9.328125 16.59375 8.109375 \nQ 21.484375 6.890625 26.8125 6.890625 \nQ 36.078125 6.890625 40.9375 10.546875 \nQ 45.796875 14.203125 45.796875 21.1875 \nQ 45.796875 27.640625 41.28125 31.265625 \nQ 36.765625 34.90625 28.71875 34.90625 \nL 20.21875 34.90625 \nL 20.21875 43.015625 \nL 29.109375 43.015625 \nQ 36.375 43.015625 40.234375 45.921875 \nQ 44.09375 48.828125 44.09375 54.296875 \nQ 44.09375 59.90625 40.109375 62.90625 \nQ 36.140625 65.921875 28.71875 65.921875 \nQ 24.65625 65.921875 20.015625 65.03125 \nQ 15.375 64.15625 9.8125 62.3125 \nL 9.8125 71.09375 \nQ 15.4375 72.65625 20.34375 73.4375 \nQ 25.25 74.21875 29.59375 74.21875 \nQ 40.828125 74.21875 47.359375 69.109375 \nQ 53.90625 64.015625 53.90625 55.328125 \nQ 53.90625 49.265625 50.4375 45.09375 \nQ 46.96875 40.921875 40.578125 39.3125 \nz\n\" id=\"DejaVuSans-51\"/>\n       </defs>\n       <use xlink:href=\"#DejaVuSans-8722\"/>\n       <use x=\"83.789062\" xlink:href=\"#DejaVuSans-51\"/>\n      </g>\n     </g>\n    </g>\n    <g id=\"xtick_2\">\n     <g id=\"line2d_3\">\n      <path clip-path=\"url(#p66312c4545)\" d=\"M 65.182188 228.439219 \nL 65.182188 10.999219 \n\" style=\"fill:none;stroke:#b0b0b0;stroke-linecap:square;stroke-width:0.8;\"/>\n     </g>\n     <g id=\"line2d_4\">\n      <g>\n       <use style=\"stroke:#000000;stroke-width:0.8;\" x=\"65.182188\" xlink:href=\"#m30368bf062\" y=\"228.439219\"/>\n      </g>\n     </g>\n     <g id=\"text_2\">\n      <!-- −2 -->\n      <g transform=\"translate(57.811094 243.037656)scale(0.1 -0.1)\">\n       <defs>\n        <path d=\"M 19.1875 8.296875 \nL 53.609375 8.296875 \nL 53.609375 0 \nL 7.328125 0 \nL 7.328125 8.296875 \nQ 12.9375 14.109375 22.625 23.890625 \nQ 32.328125 33.6875 34.8125 36.53125 \nQ 39.546875 41.84375 41.421875 45.53125 \nQ 43.3125 49.21875 43.3125 52.78125 \nQ 43.3125 58.59375 39.234375 62.25 \nQ 35.15625 65.921875 28.609375 65.921875 \nQ 23.96875 65.921875 18.8125 64.3125 \nQ 13.671875 62.703125 7.8125 59.421875 \nL 7.8125 69.390625 \nQ 13.765625 71.78125 18.9375 73 \nQ 24.125 74.21875 28.421875 74.21875 \nQ 39.75 74.21875 46.484375 68.546875 \nQ 53.21875 62.890625 53.21875 53.421875 \nQ 53.21875 48.921875 51.53125 44.890625 \nQ 49.859375 40.875 45.40625 35.40625 \nQ 44.1875 33.984375 37.640625 27.21875 \nQ 31.109375 20.453125 19.1875 8.296875 \nz\n\" id=\"DejaVuSans-50\"/>\n       </defs>\n       <use xlink:href=\"#DejaVuSans-8722\"/>\n       <use x=\"83.789062\" xlink:href=\"#DejaVuSans-50\"/>\n      </g>\n     </g>\n    </g>\n    <g id=\"xtick_3\">\n     <g id=\"line2d_5\">\n      <path clip-path=\"url(#p66312c4545)\" d=\"M 101.422188 228.439219 \nL 101.422188 10.999219 \n\" style=\"fill:none;stroke:#b0b0b0;stroke-linecap:square;stroke-width:0.8;\"/>\n     </g>\n     <g id=\"line2d_6\">\n      <g>\n       <use style=\"stroke:#000000;stroke-width:0.8;\" x=\"101.422188\" xlink:href=\"#m30368bf062\" y=\"228.439219\"/>\n      </g>\n     </g>\n     <g id=\"text_3\">\n      <!-- −1 -->\n      <g transform=\"translate(94.051094 243.037656)scale(0.1 -0.1)\">\n       <defs>\n        <path d=\"M 12.40625 8.296875 \nL 28.515625 8.296875 \nL 28.515625 63.921875 \nL 10.984375 60.40625 \nL 10.984375 69.390625 \nL 28.421875 72.90625 \nL 38.28125 72.90625 \nL 38.28125 8.296875 \nL 54.390625 8.296875 \nL 54.390625 0 \nL 12.40625 0 \nz\n\" id=\"DejaVuSans-49\"/>\n       </defs>\n       <use xlink:href=\"#DejaVuSans-8722\"/>\n       <use x=\"83.789062\" xlink:href=\"#DejaVuSans-49\"/>\n      </g>\n     </g>\n    </g>\n    <g id=\"xtick_4\">\n     <g id=\"line2d_7\">\n      <path clip-path=\"url(#p66312c4545)\" d=\"M 137.662188 228.439219 \nL 137.662188 10.999219 \n\" style=\"fill:none;stroke:#b0b0b0;stroke-linecap:square;stroke-width:0.8;\"/>\n     </g>\n     <g id=\"line2d_8\">\n      <g>\n       <use style=\"stroke:#000000;stroke-width:0.8;\" x=\"137.662188\" xlink:href=\"#m30368bf062\" y=\"228.439219\"/>\n      </g>\n     </g>\n     <g id=\"text_4\">\n      <!-- 0 -->\n      <g transform=\"translate(134.480938 243.037656)scale(0.1 -0.1)\">\n       <defs>\n        <path d=\"M 31.78125 66.40625 \nQ 24.171875 66.40625 20.328125 58.90625 \nQ 16.5 51.421875 16.5 36.375 \nQ 16.5 21.390625 20.328125 13.890625 \nQ 24.171875 6.390625 31.78125 6.390625 \nQ 39.453125 6.390625 43.28125 13.890625 \nQ 47.125 21.390625 47.125 36.375 \nQ 47.125 51.421875 43.28125 58.90625 \nQ 39.453125 66.40625 31.78125 66.40625 \nz\nM 31.78125 74.21875 \nQ 44.046875 74.21875 50.515625 64.515625 \nQ 56.984375 54.828125 56.984375 36.375 \nQ 56.984375 17.96875 50.515625 8.265625 \nQ 44.046875 -1.421875 31.78125 -1.421875 \nQ 19.53125 -1.421875 13.0625 8.265625 \nQ 6.59375 17.96875 6.59375 36.375 \nQ 6.59375 54.828125 13.0625 64.515625 \nQ 19.53125 74.21875 31.78125 74.21875 \nz\n\" id=\"DejaVuSans-48\"/>\n       </defs>\n       <use xlink:href=\"#DejaVuSans-48\"/>\n      </g>\n     </g>\n    </g>\n    <g id=\"xtick_5\">\n     <g id=\"line2d_9\">\n      <path clip-path=\"url(#p66312c4545)\" d=\"M 173.902188 228.439219 \nL 173.902188 10.999219 \n\" style=\"fill:none;stroke:#b0b0b0;stroke-linecap:square;stroke-width:0.8;\"/>\n     </g>\n     <g id=\"line2d_10\">\n      <g>\n       <use style=\"stroke:#000000;stroke-width:0.8;\" x=\"173.902188\" xlink:href=\"#m30368bf062\" y=\"228.439219\"/>\n      </g>\n     </g>\n     <g id=\"text_5\">\n      <!-- 1 -->\n      <g transform=\"translate(170.720938 243.037656)scale(0.1 -0.1)\">\n       <use xlink:href=\"#DejaVuSans-49\"/>\n      </g>\n     </g>\n    </g>\n    <g id=\"xtick_6\">\n     <g id=\"line2d_11\">\n      <path clip-path=\"url(#p66312c4545)\" d=\"M 210.142188 228.439219 \nL 210.142188 10.999219 \n\" style=\"fill:none;stroke:#b0b0b0;stroke-linecap:square;stroke-width:0.8;\"/>\n     </g>\n     <g id=\"line2d_12\">\n      <g>\n       <use style=\"stroke:#000000;stroke-width:0.8;\" x=\"210.142188\" xlink:href=\"#m30368bf062\" y=\"228.439219\"/>\n      </g>\n     </g>\n     <g id=\"text_6\">\n      <!-- 2 -->\n      <g transform=\"translate(206.960938 243.037656)scale(0.1 -0.1)\">\n       <use xlink:href=\"#DejaVuSans-50\"/>\n      </g>\n     </g>\n    </g>\n    <g id=\"xtick_7\">\n     <g id=\"line2d_13\">\n      <path clip-path=\"url(#p66312c4545)\" d=\"M 246.382187 228.439219 \nL 246.382187 10.999219 \n\" style=\"fill:none;stroke:#b0b0b0;stroke-linecap:square;stroke-width:0.8;\"/>\n     </g>\n     <g id=\"line2d_14\">\n      <g>\n       <use style=\"stroke:#000000;stroke-width:0.8;\" x=\"246.382187\" xlink:href=\"#m30368bf062\" y=\"228.439219\"/>\n      </g>\n     </g>\n     <g id=\"text_7\">\n      <!-- 3 -->\n      <g transform=\"translate(243.200937 243.037656)scale(0.1 -0.1)\">\n       <use xlink:href=\"#DejaVuSans-51\"/>\n      </g>\n     </g>\n    </g>\n   </g>\n   <g id=\"matplotlib.axis_2\">\n    <g id=\"ytick_1\">\n     <g id=\"line2d_15\">\n      <path clip-path=\"url(#p66312c4545)\" d=\"M 28.942188 228.439219 \nL 246.382188 228.439219 \n\" style=\"fill:none;stroke:#b0b0b0;stroke-linecap:square;stroke-width:0.8;\"/>\n     </g>\n     <g id=\"line2d_16\">\n      <defs>\n       <path d=\"M 0 0 \nL -3.5 0 \n\" id=\"m009b8deb0e\" style=\"stroke:#000000;stroke-width:0.8;\"/>\n      </defs>\n      <g>\n       <use style=\"stroke:#000000;stroke-width:0.8;\" x=\"28.942188\" xlink:href=\"#m009b8deb0e\" y=\"228.439219\"/>\n      </g>\n     </g>\n     <g id=\"text_8\">\n      <!-- −3 -->\n      <g transform=\"translate(7.2 232.238437)scale(0.1 -0.1)\">\n       <use xlink:href=\"#DejaVuSans-8722\"/>\n       <use x=\"83.789062\" xlink:href=\"#DejaVuSans-51\"/>\n      </g>\n     </g>\n    </g>\n    <g id=\"ytick_2\">\n     <g id=\"line2d_17\">\n      <path clip-path=\"url(#p66312c4545)\" d=\"M 28.942188 192.199219 \nL 246.382188 192.199219 \n\" style=\"fill:none;stroke:#b0b0b0;stroke-linecap:square;stroke-width:0.8;\"/>\n     </g>\n     <g id=\"line2d_18\">\n      <g>\n       <use style=\"stroke:#000000;stroke-width:0.8;\" x=\"28.942188\" xlink:href=\"#m009b8deb0e\" y=\"192.199219\"/>\n      </g>\n     </g>\n     <g id=\"text_9\">\n      <!-- −2 -->\n      <g transform=\"translate(7.2 195.998437)scale(0.1 -0.1)\">\n       <use xlink:href=\"#DejaVuSans-8722\"/>\n       <use x=\"83.789062\" xlink:href=\"#DejaVuSans-50\"/>\n      </g>\n     </g>\n    </g>\n    <g id=\"ytick_3\">\n     <g id=\"line2d_19\">\n      <path clip-path=\"url(#p66312c4545)\" d=\"M 28.942188 155.959219 \nL 246.382188 155.959219 \n\" style=\"fill:none;stroke:#b0b0b0;stroke-linecap:square;stroke-width:0.8;\"/>\n     </g>\n     <g id=\"line2d_20\">\n      <g>\n       <use style=\"stroke:#000000;stroke-width:0.8;\" x=\"28.942188\" xlink:href=\"#m009b8deb0e\" y=\"155.959219\"/>\n      </g>\n     </g>\n     <g id=\"text_10\">\n      <!-- −1 -->\n      <g transform=\"translate(7.2 159.758437)scale(0.1 -0.1)\">\n       <use xlink:href=\"#DejaVuSans-8722\"/>\n       <use x=\"83.789062\" xlink:href=\"#DejaVuSans-49\"/>\n      </g>\n     </g>\n    </g>\n    <g id=\"ytick_4\">\n     <g id=\"line2d_21\">\n      <path clip-path=\"url(#p66312c4545)\" d=\"M 28.942188 119.719219 \nL 246.382188 119.719219 \n\" style=\"fill:none;stroke:#b0b0b0;stroke-linecap:square;stroke-width:0.8;\"/>\n     </g>\n     <g id=\"line2d_22\">\n      <g>\n       <use style=\"stroke:#000000;stroke-width:0.8;\" x=\"28.942188\" xlink:href=\"#m009b8deb0e\" y=\"119.719219\"/>\n      </g>\n     </g>\n     <g id=\"text_11\">\n      <!-- 0 -->\n      <g transform=\"translate(15.579688 123.518437)scale(0.1 -0.1)\">\n       <use xlink:href=\"#DejaVuSans-48\"/>\n      </g>\n     </g>\n    </g>\n    <g id=\"ytick_5\">\n     <g id=\"line2d_23\">\n      <path clip-path=\"url(#p66312c4545)\" d=\"M 28.942188 83.479219 \nL 246.382188 83.479219 \n\" style=\"fill:none;stroke:#b0b0b0;stroke-linecap:square;stroke-width:0.8;\"/>\n     </g>\n     <g id=\"line2d_24\">\n      <g>\n       <use style=\"stroke:#000000;stroke-width:0.8;\" x=\"28.942188\" xlink:href=\"#m009b8deb0e\" y=\"83.479219\"/>\n      </g>\n     </g>\n     <g id=\"text_12\">\n      <!-- 1 -->\n      <g transform=\"translate(15.579688 87.278437)scale(0.1 -0.1)\">\n       <use xlink:href=\"#DejaVuSans-49\"/>\n      </g>\n     </g>\n    </g>\n    <g id=\"ytick_6\">\n     <g id=\"line2d_25\">\n      <path clip-path=\"url(#p66312c4545)\" d=\"M 28.942188 47.239219 \nL 246.382188 47.239219 \n\" style=\"fill:none;stroke:#b0b0b0;stroke-linecap:square;stroke-width:0.8;\"/>\n     </g>\n     <g id=\"line2d_26\">\n      <g>\n       <use style=\"stroke:#000000;stroke-width:0.8;\" x=\"28.942188\" xlink:href=\"#m009b8deb0e\" y=\"47.239219\"/>\n      </g>\n     </g>\n     <g id=\"text_13\">\n      <!-- 2 -->\n      <g transform=\"translate(15.579688 51.038437)scale(0.1 -0.1)\">\n       <use xlink:href=\"#DejaVuSans-50\"/>\n      </g>\n     </g>\n    </g>\n    <g id=\"ytick_7\">\n     <g id=\"line2d_27\">\n      <path clip-path=\"url(#p66312c4545)\" d=\"M 28.942188 10.999219 \nL 246.382188 10.999219 \n\" style=\"fill:none;stroke:#b0b0b0;stroke-linecap:square;stroke-width:0.8;\"/>\n     </g>\n     <g id=\"line2d_28\">\n      <g>\n       <use style=\"stroke:#000000;stroke-width:0.8;\" x=\"28.942188\" xlink:href=\"#m009b8deb0e\" y=\"10.999219\"/>\n      </g>\n     </g>\n     <g id=\"text_14\">\n      <!-- 3 -->\n      <g transform=\"translate(15.579688 14.798437)scale(0.1 -0.1)\">\n       <use xlink:href=\"#DejaVuSans-51\"/>\n      </g>\n     </g>\n    </g>\n   </g>\n   <g id=\"patch_3\">\n    <path d=\"M 28.942188 228.439219 \nL 28.942188 10.999219 \n\" style=\"fill:none;stroke:#000000;stroke-linecap:square;stroke-linejoin:miter;stroke-width:0.8;\"/>\n   </g>\n   <g id=\"patch_4\">\n    <path d=\"M 246.382188 228.439219 \nL 246.382188 10.999219 \n\" style=\"fill:none;stroke:#000000;stroke-linecap:square;stroke-linejoin:miter;stroke-width:0.8;\"/>\n   </g>\n   <g id=\"patch_5\">\n    <path d=\"M 28.942188 228.439219 \nL 246.382187 228.439219 \n\" style=\"fill:none;stroke:#000000;stroke-linecap:square;stroke-linejoin:miter;stroke-width:0.8;\"/>\n   </g>\n   <g id=\"patch_6\">\n    <path d=\"M 28.942188 10.999219 \nL 246.382187 10.999219 \n\" style=\"fill:none;stroke:#000000;stroke-linecap:square;stroke-linejoin:miter;stroke-width:0.8;\"/>\n   </g>\n  </g>\n </g>\n <defs>\n  <clipPath id=\"p66312c4545\">\n   <rect height=\"217.44\" width=\"217.44\" x=\"28.942188\" y=\"10.999219\"/>\n  </clipPath>\n </defs>\n</svg>\n",
      "image/png": "[encoded data removed]"
     },
     "metadata": {
      "needs_background": "light"
     }
    }
   ],
   "source": [
    "from matplotlib import pyplot as plt \n",
    "\n",
    "fig = plt.figure()\n",
    "ax = fig.add_subplot(1,1,1)\n",
    "ax.set_xlim([-3,3])\n",
    "ax.set_ylim([-3,3])\n",
    "ax.quiver(0,0,x[0],x[1],angles='xy',scale_units='xy',scale=1,color='red')\n",
    "ax.quiver(0,0,y[0],y[1],angles='xy',scale_units='xy',scale=1,color='blue')\n",
    "ax.grid()\n",
    "ax.axes.set_aspect('equal')"
   ]
  },
  {
   "cell_type": "markdown",
   "metadata": {},
   "source": [
    "### 4.3. テンソルのshapeを変える\n",
    "\n",
    "- `A = np.array([1,2,3,4,5,6])`は1階テンソル（6次元ベクトル）で、`A.shape` は `(6,)`\n",
    "- `B = np.array([[1,2,3,4,5,6]])`は2階テンソル（1行6列の行列、行ベクトル） で、`B.shape`は`(1,6)`\n",
    "- `C = np.array([[1,2,3],[4,5,6]])`も2階テンソル(2行3列の行列）で、`C.shape`は`(2,3)`\n",
    "- `D = np.array([[1,2],[3,4],[5,6]])`も2階テンソル（3行2列の行列）で、`D.shape`は`(3,2)`\n",
    "- `E = np.array([[1],[2],[3],[4],[5],[6]])`も2階テンソル\n",
    "- `F = np.array([[[1,2,3,4,5,6]]])`は3階テンソル(1x1x6)で`F.shape`は`(1,1,6)`\n",
    "\n",
    "ですが、これらの各階の次元数の積が同じであるテンソルは`reshape()`関数で互いに変換することができます。"
   ]
  },
  {
   "cell_type": "code",
   "execution_count": 50,
   "metadata": {},
   "outputs": [
    {
     "output_type": "stream",
     "name": "stdout",
     "text": [
      "===A16\n [[1 2 3 4 5 6]] \n\n===A1m\n [[1 2 3 4 5 6]] \n\n===A23\n [[1 2 3]\n [4 5 6]] \n\n===A32\n [[1 2]\n [3 4]\n [5 6]] \n\n===A61\n [[1]\n [2]\n [3]\n [4]\n [5]\n [6]] \n\n===A116\n [[[1 2 3 4 5 6]]] \n\n"
     ]
    }
   ],
   "source": [
    "A =np.array([1,2,3,4,5,6])\n",
    "A16 = np.reshape(A,(1,6)) \n",
    "print('===A16\\n',A16,'\\n')\n",
    "\n",
    "# 2階とわかっているのなら、1つの階の次元数を指定すれば残った階の次元数は自動的に決まるので考えずに-1としておけば勝手にやってくれる\n",
    "A1m = np.reshape(A,(1,-1))\n",
    "print('===A1m\\n',A1m,'\\n')\n",
    "\n",
    "A23 = np.reshape(A,(2,-1))\n",
    "print('===A23\\n',A23,'\\n')\n",
    "\n",
    "A32 = np.reshape(A,(3,-1))\n",
    "print('===A32\\n',A32,'\\n')\n",
    "\n",
    "A61 = np.reshape(A,(6,-1))\n",
    "print('===A61\\n',A61,'\\n')\n",
    "\n",
    "A116 = np.reshape(A,(1,1,-1))\n",
    "print('===A116\\n',A116,'\\n')"
   ]
  },
  {
   "cell_type": "code",
   "execution_count": 51,
   "metadata": {},
   "outputs": [
    {
     "output_type": "stream",
     "name": "stdout",
     "text": [
      "===B6\n [1 2 3 4 5 6] \n\n===B23\n [[1 2 3]\n [4 5 6]] \n\n===B32\n [[1 2]\n [3 4]\n [5 6]] \n\n===B61\n [[1]\n [2]\n [3]\n [4]\n [5]\n [6]] \n\n===B116\n [[[1 2 3 4 5 6]]] \n\n"
     ]
    }
   ],
   "source": [
    "B =np.array([[1,2,3,4,5,6]])\n",
    "\n",
    "B6 = np.reshape(B,(6,)) \n",
    "print('===B6\\n',B6,'\\n')\n",
    "\n",
    "B23 = np.reshape(B,(2,-1))\n",
    "print('===B23\\n',B23,'\\n')\n",
    "\n",
    "B32 = np.reshape(B,(3,-1))\n",
    "print('===B32\\n',B32,'\\n')\n",
    "\n",
    "B61 = np.reshape(B,(6,-1))\n",
    "print('===B61\\n',B61,'\\n')\n",
    "\n",
    "B116 = np.reshape(B,(1,1,-1))\n",
    "print('===B116\\n',B116,'\\n')"
   ]
  },
  {
   "cell_type": "markdown",
   "metadata": {},
   "source": [
    "## 5. NumPyの典型的なテンソル作成関数\n",
    "\n",
    "NumPyは、リストをテンソルクラスに変換するだけではない。\n",
    "\n",
    "典型的なパターンのテンソルを作成することができる。たとえば、全0テンソル、全1テンソル、定ステップテンソル、乱数テンソル、単位テンソルなどである。"
   ]
  },
  {
   "cell_type": "code",
   "execution_count": 52,
   "metadata": {},
   "outputs": [
    {
     "output_type": "stream",
     "name": "stdout",
     "text": [
      "[[0. 0. 0.]\n [0. 0. 0.]] : (2, 3) ( 2 階テンソル)\n"
     ]
    }
   ],
   "source": [
    "# 全０テンソル\n",
    "Zero = np.zeros([2,3])\n",
    "print(Zero,':',Zero.shape,'(',Zero.ndim,'階テンソル)')"
   ]
  },
  {
   "cell_type": "code",
   "execution_count": 53,
   "metadata": {},
   "outputs": [
    {
     "output_type": "stream",
     "name": "stdout",
     "text": [
      "[[1. 1.]\n [1. 1.]\n [1. 1.]] : (3, 2) ( 2 階テンソル)\n"
     ]
    }
   ],
   "source": [
    "# 全１テンソル\n",
    "One = np.ones([3,2])\n",
    "print(One,':',One.shape,'(',One.ndim,'階テンソル)')"
   ]
  },
  {
   "cell_type": "code",
   "execution_count": 54,
   "metadata": {},
   "outputs": [
    {
     "output_type": "stream",
     "name": "stdout",
     "text": [
      "[[ 1.3    1.4  ]\n [ 3.475  4.3  ]\n [ 5.65   7.2  ]\n [ 7.825 10.1  ]\n [10.    13.   ]] : (5, 2) ( 2 階テンソル)\n"
     ]
    }
   ],
   "source": [
    "# 定ステップテンソル ：arg1と最初の行、arg2を最後の行として、等間隔で５行に拡大している\n",
    "Lin = np.linspace([1.3,1.4], [10,13], 5)\n",
    "print(Lin,':',Lin.shape,'(',Lin.ndim,'階テンソル)')"
   ]
  },
  {
   "cell_type": "code",
   "execution_count": 55,
   "metadata": {},
   "outputs": [
    {
     "output_type": "stream",
     "name": "stdout",
     "text": [
      "[[0.04929492 0.37991251 0.52660015]\n [0.98822777 0.12657107 0.50448366]] : (2, 3) ( 2 階テンソル)\n"
     ]
    }
   ],
   "source": [
    "# 乱数テンソル\n",
    "# [0,1]の一様分布に従う乱数テンソル\n",
    "Ru = np.random.rand(2,3)\n",
    "print(Ru,':',Ru.shape,'(',Ru.ndim,'階テンソル)')"
   ]
  },
  {
   "cell_type": "code",
   "execution_count": 56,
   "metadata": {},
   "outputs": [
    {
     "output_type": "stream",
     "name": "stdout",
     "text": [
      "[[ 1.54334496e+00  3.62669114e-01 -6.46624095e-01]\n [ 6.76732065e-01  1.23462211e-03  1.10159042e-01]] : (2, 3) ( 2 階テンソル)\n"
     ]
    }
   ],
   "source": [
    "# 標準正規分布（平均 0,分散１）に従う乱数テンソル\n",
    "Rn = np.random.randn(2,3)\n",
    "print(Rn,':',Rn.shape,'(',Rn.ndim,'階テンソル)')"
   ]
  },
  {
   "cell_type": "code",
   "execution_count": 57,
   "metadata": {},
   "outputs": [
    {
     "output_type": "stream",
     "name": "stdout",
     "text": [
      "Rn1= [[0.54340494 0.27836939 0.42451759]\n [0.84477613 0.00471886 0.12156912]]\nRn2= [[0.67074908 0.82585276 0.13670659]\n [0.57509333 0.89132195 0.20920212]]\n"
     ]
    }
   ],
   "source": [
    "np.random.seed(100)\n",
    "Rn1 = np.random.rand(2,3)\n",
    "Rn2 = np.random.rand(2,3)\n",
    "np.random.seed()\n",
    "\n",
    "print('Rn1=',Rn1)\n",
    "print('Rn2=',Rn2)"
   ]
  },
  {
   "cell_type": "code",
   "execution_count": 58,
   "metadata": {},
   "outputs": [
    {
     "output_type": "stream",
     "name": "stdout",
     "text": [
      "[[1. 0. 0.]\n [0. 1. 0.]\n [0. 0. 1.]] : (3, 3) ( 2 階テンソル)\n"
     ]
    }
   ],
   "source": [
    "E = np.eye(3)\n",
    "print(E,':',E.shape,'(',E.ndim,'階テンソル)')"
   ]
  },
  {
   "cell_type": "markdown",
   "metadata": {},
   "source": [
    "## 6. 課題\n",
    "\n",
    "### 6.1. 課題1\n",
    "\n",
    "連立方程式\n",
    "\n",
    "\b$\n",
    "x + 2 y = 3\\\\\n",
    "5 x + 7 y = 9\n",
    "$\n",
    "\n",
    "の解となる$x$と$y$を求めよ。連立方程式は、写像と同じであり、ベクトル$\\mathbb{a}=(x,y)$が写像行列$\\mathbb{M}=\\begin{bmatrix}1&2\\\\5&7\\end{bmatrix}$によってベクトル$\\mathbb{b}=(3,9)$に移されたことをあらわす。\n",
    "\n",
    "$\n",
    "\\mathbb{M}\\mathbb{a} = \\mathbb{b}\n",
    "$\n",
    "\n",
    "よって、線形代数によると係数行列の逆行列が存在すれば、\n",
    "\n",
    "$\n",
    "\\mathbb{a} = \\mathbb{M}^{-1} \\mathbb{b}\n",
    "$\n",
    "\n",
    "により、解$\\mathbb{a}=(x,y)$を求めることができる。\n",
    "\n",
    "numpyには行列を引数に与えると逆行列を求める関数があるので（自分で調べよ）、\n",
    "\n",
    "「行列$\\mathbb{M}$と行列$\\mathbb{b}$を引数に与えると、解$\\mathbb{a}$を返す関数」を自作し、それを用いて上記の連立方程式を解くpythonコードを作成せよ。"
   ]
  },
  {
   "cell_type": "markdown",
   "metadata": {},
   "source": [
    "### 6.2. 課題２\n",
    "\n",
    "- 1 → 3\n",
    "- 2 → 5\n",
    "- 3 → 7\n",
    "- 4 → 9\n",
    "\n",
    "のとき、10はどうなるか？\n",
    "- 10 →　？\n",
    "\n",
    "まず、入力$x$と出力出力$y$を繋ぐモデル式（適当な係数と、入出力の使い方）を作る。\n",
    "\n",
    "今、パターンが４つわかっているので、入力を４つの未知変数に拡張し、４つの未知係数を用いて\n",
    "\n",
    "$ y = a x^3 + b x^2 + c x + d $\n",
    "\n",
    "などとしてみる。係数$a,b,c,d$の3次式モデルである。未知変数への拡張のしかたは他にもいくらでも考えられる。\n",
    "\n",
    "$ y = a x^{-3} + b x^{-2} + c x^{-1} + d $\n",
    "\n",
    "のようなモデル式でもいいだろう。\n",
    "\n",
    "ひとまず３次式モデルとすると、与えられた４つのパターンは\n",
    "\n",
    "$\n",
    "\\begin{bmatrix}\n",
    "1 & 1 & 1 & 1\\\\\n",
    "8 & 4 & 2 & 1\\\\\n",
    "27 & 9 & 3 & 1\\\\\n",
    "64 & 16 & 4 & 1\n",
    "\\end{bmatrix} \\begin{bmatrix}\n",
    "a\\\\\n",
    "b\\\\\n",
    "c\\\\\n",
    "d\n",
    "\\end{bmatrix} = \\begin{bmatrix}\n",
    "3\\\\\n",
    "5\\\\\n",
    "7\\\\\n",
    "9\n",
    "\\end{bmatrix}\n",
    "$\n",
    "\n",
    "と書くことができる。よって係数は\n",
    "\n",
    "$\n",
    "\\begin{bmatrix}\n",
    "a\\\\\n",
    "b\\\\\n",
    "c\\\\\n",
    "d\n",
    "\\end{bmatrix} = \\begin{bmatrix}\n",
    "1 & 1 & 1 & 1\\\\\n",
    "8 & 4 & 2 & 1\\\\\n",
    "27 & 9 & 3 & 1\\\\\n",
    "64 & 16 & 4 & 1\n",
    "\\end{bmatrix}^{-1} \\begin{bmatrix}\n",
    "3\\\\\n",
    "5\\\\\n",
    "7\\\\\n",
    "9\n",
    "\\end{bmatrix}\n",
    "$\n",
    "で求めることができ、その係数を使えば、\n",
    "\n",
    "10 →　？\n",
    "\n",
    "を推定できる。\n"
   ]
  },
  {
   "cell_type": "markdown",
   "metadata": {},
   "source": [
    "実際この方法で、係数は、$(a,b,c,d) = (0,0,2,1)$と推定され、$y　=　2 x + 1$。すなわち、10　→　21　と推定される。  \n",
    "\n",
    "この推定値は、あくまで３次式モデルによる推定であり、他にも答えは考えられる。実際、先の逆数のモデルだと答えが異なる。"
   ]
  },
  {
   "cell_type": "markdown",
   "metadata": {},
   "source": [
    "学習用のパターンを適当に４つ作り、適当にモデル式を作って係数を学習し、学習用パターンにない適当な入力を与えたときの出力を求めよ。（pythonコードで実現せよ）"
   ]
  },
  {
   "cell_type": "markdown",
   "metadata": {},
   "source": [
    "## 6.3. 課題3\n",
    "\n",
    "８ビットカラーのビットマップ画像は、画像上の１点を赤・緑・青の3原色それぞれをどの強さ（明度）で組み合わせるかで表す。たとえば、\n",
    "- 真っ赤な1点は、次のように1次元目が255（8ビット2進数で$1111,1111(2)$,$FF(16)$）の3次元ベクトルで表される。"
   ]
  },
  {
   "cell_type": "code",
   "execution_count": 59,
   "metadata": {},
   "outputs": [
    {
     "output_type": "stream",
     "name": "stdout",
     "text": [
      "[255   0   0] \n (3,)\n"
     ]
    }
   ],
   "source": [
    "import numpy as np\n",
    "from matplotlib import pyplot as plt\n",
    "\n",
    "p0 = np.array([255,0,0])\n",
    "print(p0,'\\n',p0.shape)\n"
   ]
  },
  {
   "cell_type": "markdown",
   "metadata": {},
   "source": [
    "- 真緑、真っ青は、それぞれ`[0,255,0]`$(0,FF,0)$,`[0,0,255]`$(0,0,FF)$である。\n",
    "- 真っ黒は、赤も緑も青も何の色も入っていない`[0,0,0]`$(0,0,0)$\n",
    "- 真っ白は、赤・緑・青のすべてが最大限入っている`[255,255,255]`$(FF,FF,FF)$\n",
    "\n",
    "画像の大きさが、縦４横６であれば、この１点のベクトルを4x6行列の要素として並べたテンソルとなる。\n",
    "\n",
    "通常の4x6行列は、授業で解説したように、要素がスカラー（０階テンソル）であり、"
   ]
  },
  {
   "cell_type": "code",
   "execution_count": 60,
   "metadata": {},
   "outputs": [
    {
     "output_type": "stream",
     "name": "stdout",
     "text": [
      "[[ 1  2  3  4  5  6]\n [ 7  8  9 10 11 12]\n [13 14 15 16 17 18]\n [19 20 21 22 23 24]] \n (4, 6)\n"
     ]
    }
   ],
   "source": [
    "M = np.array([[1,2,3,4,5,6],[7,8,9,10,11,12],[13,14,15,16,17,18],[19,20,21,22,23,24]])\n",
    "print(M,'\\n',M.shape)"
   ]
  },
  {
   "cell_type": "markdown",
   "metadata": {},
   "source": [
    "縦４横６の画像は、この要素がベクトル（１階テンソル）となっている。 "
   ]
  },
  {
   "cell_type": "code",
   "execution_count": 63,
   "metadata": {},
   "outputs": [
    {
     "output_type": "stream",
     "name": "stdout",
     "text": [
      "[[[255   0   0]\n  [  0 255   0]\n  [  0   0 255]\n  [255 255 255]\n  [  0   0   0]\n  [255   0   0]]\n\n [[  0 255   0]\n  [  0   0 255]\n  [255 255 255]\n  [  0   0   0]\n  [255   0   0]\n  [  0 255   0]]\n\n [[  0   0 255]\n  [255 255 255]\n  [  0   0   0]\n  [255   0   0]\n  [  0 255   0]\n  [  0   0 255]]\n\n [[255 255 255]\n  [  0   0   0]\n  [255   0   0]\n  [  0 255   0]\n  [  0   0 255]\n  [255 255 255]]] \n (4, 6, 3)\n"
     ]
    }
   ],
   "source": [
    "pR = np.array([255,0,0]) # 真っ赤\n",
    "pG = np.array([0,255,0]) # 真緑\n",
    "pB = np.array([0,0,255]) # 真っ青\n",
    "pW = np.array([255,255,255]) # 白\n",
    "pK = np.array([0,0,0]) # 黒\n",
    "\n",
    "G = np.array([ [pR, pG, pB, pW, pK, pR], [pG, pB, pW, pK, pR, pG], [pB, pW, pK, pR, pG, pB], [pW, pK, pR, pG, pB, pW]])\n",
    "\n",
    "print(G, '\\n', G.shape)\n"
   ]
  },
  {
   "source": [
    "画像Gは、4x6x3の３階テンソルとなっている。4x6の行列の各要素が３次元ベクトルである（対応を再確認）\n",
    "\n",
    "画像を表示するには、matplotlibライブラリの pyplotモジュールを使える。vmin,vmaxには最小・最大の明度を指定する。"
   ],
   "cell_type": "markdown",
   "metadata": {}
  },
  {
   "cell_type": "code",
   "execution_count": 64,
   "metadata": {},
   "outputs": [
    {
     "output_type": "display_data",
     "data": {
      "text/plain": "<Figure size 432x288 with 1 Axes>",
      "image/svg+xml": "<?xml version=\"1.0\" encoding=\"utf-8\" standalone=\"no\"?>\n<!DOCTYPE svg PUBLIC \"-//W3C//DTD SVG 1.1//EN\"\n  \"http://www.w3.org/Graphics/SVG/1.1/DTD/svg11.dtd\">\n<!-- Created with matplotlib (https://matplotlib.org/) -->\n<svg height=\"252.317344pt\" version=\"1.1\" viewBox=\"0 0 371.842812 252.317344\" width=\"371.842812pt\" xmlns=\"http://www.w3.org/2000/svg\" xmlns:xlink=\"http://www.w3.org/1999/xlink\">\n <metadata>\n  <rdf:RDF xmlns:cc=\"http://creativecommons.org/ns#\" xmlns:dc=\"http://purl.org/dc/elements/1.1/\" xmlns:rdf=\"http://www.w3.org/1999/02/22-rdf-syntax-ns#\">\n   <cc:Work>\n    <dc:type rdf:resource=\"http://purl.org/dc/dcmitype/StillImage\"/>\n    <dc:date>2021-06-30T16:11:58.203586</dc:date>\n    <dc:format>image/svg+xml</dc:format>\n    <dc:creator>\n     <cc:Agent>\n      <dc:title>Matplotlib v3.3.4, https://matplotlib.org/</dc:title>\n     </cc:Agent>\n    </dc:creator>\n   </cc:Work>\n  </rdf:RDF>\n </metadata>\n <defs>\n  <style type=\"text/css\">*{stroke-linecap:butt;stroke-linejoin:round;}</style>\n </defs>\n <g id=\"figure_1\">\n  <g id=\"patch_1\">\n   <path d=\"M 0 252.317344 \nL 371.842812 252.317344 \nL 371.842812 0 \nL 0 0 \nz\n\" style=\"fill:none;\"/>\n  </g>\n  <g id=\"axes_1\">\n   <g id=\"patch_2\">\n    <path d=\"M 38.482813 228.439219 \nL 364.642812 228.439219 \nL 364.642812 10.999219 \nL 38.482813 10.999219 \nz\n\" style=\"fill:#ffffff;\"/>\n   </g>\n   <g clip-path=\"url(#p7d56634f3d)\">\n    <image height=\"218\" id=\"image9f42af540c\" transform=\"scale(1 -1)translate(0 -218)\" width=\"327\" x=\"38.482813\" xlink:href=\"data:image/png;base64,\niVBORw0KGgoAAAANSUhEUgAAAUcAAADaCAYAAAA1xoBCAAADJ0lEQVR4nO3WMW4gMQwEQdL//7MusMNOFzoIVS/gQNjG7jnnzIN29/YJn3nywWZmXx028+y4N+vx6+f2AQD/I3EECOIIEMQRIIgjQBBHgCCOAEEcAYI4AgRxBAjiCBDEESCII0AQR4AgjgBBHAGCOAIEcQQI4ggQxBEgiCNAEEeAII4AQRwBgjgCBHEECOIIEMQRIIgjQBBHgCCOAEEcAYI4AgRxBAjiCBDEESCII0AQR4AgjgBBHAGCOAIEcQQI4ggQxBEgiCNAEEeAII4AQRwBgjgCBHEECOIIEMQRIIgjQBBHgLAz59w+4gtvrvq1u7dP+MTDTzb76rhnh/lzBEjiCBDEESCII0AQR4AgjgBBHAGCOAIEcQQI4ggQxBEgiCNAEEeAII4AQRwBgjgCBHEECOIIEMQRIIgjQBBHgCCOAEEcAYI4AgRxBAjiCBDEESCII0AQR4AgjgBBHAGCOAIEcQQI4ggQxBEgiCNAEEeAII4AQRwBgjgCBHEECOIIEMQRIIgjQBBHgCCOAEEcAYI4AgRxBAjiCBDEESCII0AQR4Cwc+bcPuIT++asmZnz6LTdvX3CZx59spc/M3+OAEUcAYI4AgRxBAjiCBDEESCII0AQR4AgjgBBHAGCOAIEcQQI4ggQxBEgiCNAEEeAII4AQRwBgjgCBHEECOIIEMQRIIgjQBBHgCCOAEEcAYI4AgRxBAjiCBDEESCII0AQR4AgjgBBHAGCOAIEcQQI4ggQxBEgiCNAEEeAII4AQRwBgjgCBHEECOIIEMQRIIgjQBBHgCCOAEEcAYI4AgRxBAjiCBDEESDsmTm3j/jCPrnqz6PjzpuzZmZmd2+f8ImHn8yfI0ARR4AgjgBBHAGCOAIEcQQI4ggQxBEgiCNAEEeAII4AQRwBgjgCBHEECOIIEMQRIIgjQBBHgCCOAEEcAYI4AgRxBAjiCBDEESCII0AQR4AgjgBBHAGCOAIEcQQI4ggQxBEgiCNAEEeAII4AQRwBgjgCBHEECOIIEMQRIIgjQBBHgCCOAEEcAYI4AgRxBAjiCBDEESCII0AQR4AgjgBBHAGCOAKEf35eH6f2eeWfAAAAAElFTkSuQmCC\" y=\"-10.439219\"/>\n   </g>\n   <g id=\"matplotlib.axis_1\">\n    <g id=\"xtick_1\">\n     <g id=\"line2d_1\">\n      <defs>\n       <path d=\"M 0 0 \nL 0 3.5 \n\" id=\"mdda2b806f5\" style=\"stroke:#000000;stroke-width:0.8;\"/>\n      </defs>\n      <g>\n       <use style=\"stroke:#000000;stroke-width:0.8;\" x=\"65.662813\" xlink:href=\"#mdda2b806f5\" y=\"228.439219\"/>\n      </g>\n     </g>\n     <g id=\"text_1\">\n      <!-- 0 -->\n      <g transform=\"translate(62.481563 243.037656)scale(0.1 -0.1)\">\n       <defs>\n        <path d=\"M 31.78125 66.40625 \nQ 24.171875 66.40625 20.328125 58.90625 \nQ 16.5 51.421875 16.5 36.375 \nQ 16.5 21.390625 20.328125 13.890625 \nQ 24.171875 6.390625 31.78125 6.390625 \nQ 39.453125 6.390625 43.28125 13.890625 \nQ 47.125 21.390625 47.125 36.375 \nQ 47.125 51.421875 43.28125 58.90625 \nQ 39.453125 66.40625 31.78125 66.40625 \nz\nM 31.78125 74.21875 \nQ 44.046875 74.21875 50.515625 64.515625 \nQ 56.984375 54.828125 56.984375 36.375 \nQ 56.984375 17.96875 50.515625 8.265625 \nQ 44.046875 -1.421875 31.78125 -1.421875 \nQ 19.53125 -1.421875 13.0625 8.265625 \nQ 6.59375 17.96875 6.59375 36.375 \nQ 6.59375 54.828125 13.0625 64.515625 \nQ 19.53125 74.21875 31.78125 74.21875 \nz\n\" id=\"DejaVuSans-48\"/>\n       </defs>\n       <use xlink:href=\"#DejaVuSans-48\"/>\n      </g>\n     </g>\n    </g>\n    <g id=\"xtick_2\">\n     <g id=\"line2d_2\">\n      <g>\n       <use style=\"stroke:#000000;stroke-width:0.8;\" x=\"120.022812\" xlink:href=\"#mdda2b806f5\" y=\"228.439219\"/>\n      </g>\n     </g>\n     <g id=\"text_2\">\n      <!-- 1 -->\n      <g transform=\"translate(116.841562 243.037656)scale(0.1 -0.1)\">\n       <defs>\n        <path d=\"M 12.40625 8.296875 \nL 28.515625 8.296875 \nL 28.515625 63.921875 \nL 10.984375 60.40625 \nL 10.984375 69.390625 \nL 28.421875 72.90625 \nL 38.28125 72.90625 \nL 38.28125 8.296875 \nL 54.390625 8.296875 \nL 54.390625 0 \nL 12.40625 0 \nz\n\" id=\"DejaVuSans-49\"/>\n       </defs>\n       <use xlink:href=\"#DejaVuSans-49\"/>\n      </g>\n     </g>\n    </g>\n    <g id=\"xtick_3\">\n     <g id=\"line2d_3\">\n      <g>\n       <use style=\"stroke:#000000;stroke-width:0.8;\" x=\"174.382812\" xlink:href=\"#mdda2b806f5\" y=\"228.439219\"/>\n      </g>\n     </g>\n     <g id=\"text_3\">\n      <!-- 2 -->\n      <g transform=\"translate(171.201562 243.037656)scale(0.1 -0.1)\">\n       <defs>\n        <path d=\"M 19.1875 8.296875 \nL 53.609375 8.296875 \nL 53.609375 0 \nL 7.328125 0 \nL 7.328125 8.296875 \nQ 12.9375 14.109375 22.625 23.890625 \nQ 32.328125 33.6875 34.8125 36.53125 \nQ 39.546875 41.84375 41.421875 45.53125 \nQ 43.3125 49.21875 43.3125 52.78125 \nQ 43.3125 58.59375 39.234375 62.25 \nQ 35.15625 65.921875 28.609375 65.921875 \nQ 23.96875 65.921875 18.8125 64.3125 \nQ 13.671875 62.703125 7.8125 59.421875 \nL 7.8125 69.390625 \nQ 13.765625 71.78125 18.9375 73 \nQ 24.125 74.21875 28.421875 74.21875 \nQ 39.75 74.21875 46.484375 68.546875 \nQ 53.21875 62.890625 53.21875 53.421875 \nQ 53.21875 48.921875 51.53125 44.890625 \nQ 49.859375 40.875 45.40625 35.40625 \nQ 44.1875 33.984375 37.640625 27.21875 \nQ 31.109375 20.453125 19.1875 8.296875 \nz\n\" id=\"DejaVuSans-50\"/>\n       </defs>\n       <use xlink:href=\"#DejaVuSans-50\"/>\n      </g>\n     </g>\n    </g>\n    <g id=\"xtick_4\">\n     <g id=\"line2d_4\">\n      <g>\n       <use style=\"stroke:#000000;stroke-width:0.8;\" x=\"228.742812\" xlink:href=\"#mdda2b806f5\" y=\"228.439219\"/>\n      </g>\n     </g>\n     <g id=\"text_4\">\n      <!-- 3 -->\n      <g transform=\"translate(225.561562 243.037656)scale(0.1 -0.1)\">\n       <defs>\n        <path d=\"M 40.578125 39.3125 \nQ 47.65625 37.796875 51.625 33 \nQ 55.609375 28.21875 55.609375 21.1875 \nQ 55.609375 10.40625 48.1875 4.484375 \nQ 40.765625 -1.421875 27.09375 -1.421875 \nQ 22.515625 -1.421875 17.65625 -0.515625 \nQ 12.796875 0.390625 7.625 2.203125 \nL 7.625 11.71875 \nQ 11.71875 9.328125 16.59375 8.109375 \nQ 21.484375 6.890625 26.8125 6.890625 \nQ 36.078125 6.890625 40.9375 10.546875 \nQ 45.796875 14.203125 45.796875 21.1875 \nQ 45.796875 27.640625 41.28125 31.265625 \nQ 36.765625 34.90625 28.71875 34.90625 \nL 20.21875 34.90625 \nL 20.21875 43.015625 \nL 29.109375 43.015625 \nQ 36.375 43.015625 40.234375 45.921875 \nQ 44.09375 48.828125 44.09375 54.296875 \nQ 44.09375 59.90625 40.109375 62.90625 \nQ 36.140625 65.921875 28.71875 65.921875 \nQ 24.65625 65.921875 20.015625 65.03125 \nQ 15.375 64.15625 9.8125 62.3125 \nL 9.8125 71.09375 \nQ 15.4375 72.65625 20.34375 73.4375 \nQ 25.25 74.21875 29.59375 74.21875 \nQ 40.828125 74.21875 47.359375 69.109375 \nQ 53.90625 64.015625 53.90625 55.328125 \nQ 53.90625 49.265625 50.4375 45.09375 \nQ 46.96875 40.921875 40.578125 39.3125 \nz\n\" id=\"DejaVuSans-51\"/>\n       </defs>\n       <use xlink:href=\"#DejaVuSans-51\"/>\n      </g>\n     </g>\n    </g>\n    <g id=\"xtick_5\">\n     <g id=\"line2d_5\">\n      <g>\n       <use style=\"stroke:#000000;stroke-width:0.8;\" x=\"283.102812\" xlink:href=\"#mdda2b806f5\" y=\"228.439219\"/>\n      </g>\n     </g>\n     <g id=\"text_5\">\n      <!-- 4 -->\n      <g transform=\"translate(279.921562 243.037656)scale(0.1 -0.1)\">\n       <defs>\n        <path d=\"M 37.796875 64.3125 \nL 12.890625 25.390625 \nL 37.796875 25.390625 \nz\nM 35.203125 72.90625 \nL 47.609375 72.90625 \nL 47.609375 25.390625 \nL 58.015625 25.390625 \nL 58.015625 17.1875 \nL 47.609375 17.1875 \nL 47.609375 0 \nL 37.796875 0 \nL 37.796875 17.1875 \nL 4.890625 17.1875 \nL 4.890625 26.703125 \nz\n\" id=\"DejaVuSans-52\"/>\n       </defs>\n       <use xlink:href=\"#DejaVuSans-52\"/>\n      </g>\n     </g>\n    </g>\n    <g id=\"xtick_6\">\n     <g id=\"line2d_6\">\n      <g>\n       <use style=\"stroke:#000000;stroke-width:0.8;\" x=\"337.462812\" xlink:href=\"#mdda2b806f5\" y=\"228.439219\"/>\n      </g>\n     </g>\n     <g id=\"text_6\">\n      <!-- 5 -->\n      <g transform=\"translate(334.281562 243.037656)scale(0.1 -0.1)\">\n       <defs>\n        <path d=\"M 10.796875 72.90625 \nL 49.515625 72.90625 \nL 49.515625 64.59375 \nL 19.828125 64.59375 \nL 19.828125 46.734375 \nQ 21.96875 47.46875 24.109375 47.828125 \nQ 26.265625 48.1875 28.421875 48.1875 \nQ 40.625 48.1875 47.75 41.5 \nQ 54.890625 34.8125 54.890625 23.390625 \nQ 54.890625 11.625 47.5625 5.09375 \nQ 40.234375 -1.421875 26.90625 -1.421875 \nQ 22.3125 -1.421875 17.546875 -0.640625 \nQ 12.796875 0.140625 7.71875 1.703125 \nL 7.71875 11.625 \nQ 12.109375 9.234375 16.796875 8.0625 \nQ 21.484375 6.890625 26.703125 6.890625 \nQ 35.15625 6.890625 40.078125 11.328125 \nQ 45.015625 15.765625 45.015625 23.390625 \nQ 45.015625 31 40.078125 35.4375 \nQ 35.15625 39.890625 26.703125 39.890625 \nQ 22.75 39.890625 18.8125 39.015625 \nQ 14.890625 38.140625 10.796875 36.28125 \nz\n\" id=\"DejaVuSans-53\"/>\n       </defs>\n       <use xlink:href=\"#DejaVuSans-53\"/>\n      </g>\n     </g>\n    </g>\n   </g>\n   <g id=\"matplotlib.axis_2\">\n    <g id=\"ytick_1\">\n     <g id=\"line2d_7\">\n      <defs>\n       <path d=\"M 0 0 \nL -3.5 0 \n\" id=\"m737031eafa\" style=\"stroke:#000000;stroke-width:0.8;\"/>\n      </defs>\n      <g>\n       <use style=\"stroke:#000000;stroke-width:0.8;\" x=\"38.482813\" xlink:href=\"#m737031eafa\" y=\"10.999219\"/>\n      </g>\n     </g>\n     <g id=\"text_7\">\n      <!-- −0.5 -->\n      <g transform=\"translate(7.2 14.798437)scale(0.1 -0.1)\">\n       <defs>\n        <path d=\"M 10.59375 35.5 \nL 73.1875 35.5 \nL 73.1875 27.203125 \nL 10.59375 27.203125 \nz\n\" id=\"DejaVuSans-8722\"/>\n        <path d=\"M 10.6875 12.40625 \nL 21 12.40625 \nL 21 0 \nL 10.6875 0 \nz\n\" id=\"DejaVuSans-46\"/>\n       </defs>\n       <use xlink:href=\"#DejaVuSans-8722\"/>\n       <use x=\"83.789062\" xlink:href=\"#DejaVuSans-48\"/>\n       <use x=\"147.412109\" xlink:href=\"#DejaVuSans-46\"/>\n       <use x=\"179.199219\" xlink:href=\"#DejaVuSans-53\"/>\n      </g>\n     </g>\n    </g>\n    <g id=\"ytick_2\">\n     <g id=\"line2d_8\">\n      <g>\n       <use style=\"stroke:#000000;stroke-width:0.8;\" x=\"38.482813\" xlink:href=\"#m737031eafa\" y=\"38.179219\"/>\n      </g>\n     </g>\n     <g id=\"text_8\">\n      <!-- 0.0 -->\n      <g transform=\"translate(15.579688 41.978437)scale(0.1 -0.1)\">\n       <use xlink:href=\"#DejaVuSans-48\"/>\n       <use x=\"63.623047\" xlink:href=\"#DejaVuSans-46\"/>\n       <use x=\"95.410156\" xlink:href=\"#DejaVuSans-48\"/>\n      </g>\n     </g>\n    </g>\n    <g id=\"ytick_3\">\n     <g id=\"line2d_9\">\n      <g>\n       <use style=\"stroke:#000000;stroke-width:0.8;\" x=\"38.482813\" xlink:href=\"#m737031eafa\" y=\"65.359219\"/>\n      </g>\n     </g>\n     <g id=\"text_9\">\n      <!-- 0.5 -->\n      <g transform=\"translate(15.579688 69.158437)scale(0.1 -0.1)\">\n       <use xlink:href=\"#DejaVuSans-48\"/>\n       <use x=\"63.623047\" xlink:href=\"#DejaVuSans-46\"/>\n       <use x=\"95.410156\" xlink:href=\"#DejaVuSans-53\"/>\n      </g>\n     </g>\n    </g>\n    <g id=\"ytick_4\">\n     <g id=\"line2d_10\">\n      <g>\n       <use style=\"stroke:#000000;stroke-width:0.8;\" x=\"38.482813\" xlink:href=\"#m737031eafa\" y=\"92.539219\"/>\n      </g>\n     </g>\n     <g id=\"text_10\">\n      <!-- 1.0 -->\n      <g transform=\"translate(15.579688 96.338437)scale(0.1 -0.1)\">\n       <use xlink:href=\"#DejaVuSans-49\"/>\n       <use x=\"63.623047\" xlink:href=\"#DejaVuSans-46\"/>\n       <use x=\"95.410156\" xlink:href=\"#DejaVuSans-48\"/>\n      </g>\n     </g>\n    </g>\n    <g id=\"ytick_5\">\n     <g id=\"line2d_11\">\n      <g>\n       <use style=\"stroke:#000000;stroke-width:0.8;\" x=\"38.482813\" xlink:href=\"#m737031eafa\" y=\"119.719219\"/>\n      </g>\n     </g>\n     <g id=\"text_11\">\n      <!-- 1.5 -->\n      <g transform=\"translate(15.579688 123.518437)scale(0.1 -0.1)\">\n       <use xlink:href=\"#DejaVuSans-49\"/>\n       <use x=\"63.623047\" xlink:href=\"#DejaVuSans-46\"/>\n       <use x=\"95.410156\" xlink:href=\"#DejaVuSans-53\"/>\n      </g>\n     </g>\n    </g>\n    <g id=\"ytick_6\">\n     <g id=\"line2d_12\">\n      <g>\n       <use style=\"stroke:#000000;stroke-width:0.8;\" x=\"38.482813\" xlink:href=\"#m737031eafa\" y=\"146.899219\"/>\n      </g>\n     </g>\n     <g id=\"text_12\">\n      <!-- 2.0 -->\n      <g transform=\"translate(15.579688 150.698437)scale(0.1 -0.1)\">\n       <use xlink:href=\"#DejaVuSans-50\"/>\n       <use x=\"63.623047\" xlink:href=\"#DejaVuSans-46\"/>\n       <use x=\"95.410156\" xlink:href=\"#DejaVuSans-48\"/>\n      </g>\n     </g>\n    </g>\n    <g id=\"ytick_7\">\n     <g id=\"line2d_13\">\n      <g>\n       <use style=\"stroke:#000000;stroke-width:0.8;\" x=\"38.482813\" xlink:href=\"#m737031eafa\" y=\"174.079219\"/>\n      </g>\n     </g>\n     <g id=\"text_13\">\n      <!-- 2.5 -->\n      <g transform=\"translate(15.579688 177.878437)scale(0.1 -0.1)\">\n       <use xlink:href=\"#DejaVuSans-50\"/>\n       <use x=\"63.623047\" xlink:href=\"#DejaVuSans-46\"/>\n       <use x=\"95.410156\" xlink:href=\"#DejaVuSans-53\"/>\n      </g>\n     </g>\n    </g>\n    <g id=\"ytick_8\">\n     <g id=\"line2d_14\">\n      <g>\n       <use style=\"stroke:#000000;stroke-width:0.8;\" x=\"38.482813\" xlink:href=\"#m737031eafa\" y=\"201.259219\"/>\n      </g>\n     </g>\n     <g id=\"text_14\">\n      <!-- 3.0 -->\n      <g transform=\"translate(15.579688 205.058437)scale(0.1 -0.1)\">\n       <use xlink:href=\"#DejaVuSans-51\"/>\n       <use x=\"63.623047\" xlink:href=\"#DejaVuSans-46\"/>\n       <use x=\"95.410156\" xlink:href=\"#DejaVuSans-48\"/>\n      </g>\n     </g>\n    </g>\n    <g id=\"ytick_9\">\n     <g id=\"line2d_15\">\n      <g>\n       <use style=\"stroke:#000000;stroke-width:0.8;\" x=\"38.482813\" xlink:href=\"#m737031eafa\" y=\"228.439219\"/>\n      </g>\n     </g>\n     <g id=\"text_15\">\n      <!-- 3.5 -->\n      <g transform=\"translate(15.579688 232.238437)scale(0.1 -0.1)\">\n       <use xlink:href=\"#DejaVuSans-51\"/>\n       <use x=\"63.623047\" xlink:href=\"#DejaVuSans-46\"/>\n       <use x=\"95.410156\" xlink:href=\"#DejaVuSans-53\"/>\n      </g>\n     </g>\n    </g>\n   </g>\n   <g id=\"patch_3\">\n    <path d=\"M 38.482813 228.439219 \nL 38.482813 10.999219 \n\" style=\"fill:none;stroke:#000000;stroke-linecap:square;stroke-linejoin:miter;stroke-width:0.8;\"/>\n   </g>\n   <g id=\"patch_4\">\n    <path d=\"M 364.642812 228.439219 \nL 364.642812 10.999219 \n\" style=\"fill:none;stroke:#000000;stroke-linecap:square;stroke-linejoin:miter;stroke-width:0.8;\"/>\n   </g>\n   <g id=\"patch_5\">\n    <path d=\"M 38.482813 228.439219 \nL 364.642812 228.439219 \n\" style=\"fill:none;stroke:#000000;stroke-linecap:square;stroke-linejoin:miter;stroke-width:0.8;\"/>\n   </g>\n   <g id=\"patch_6\">\n    <path d=\"M 38.482813 10.999219 \nL 364.642812 10.999219 \n\" style=\"fill:none;stroke:#000000;stroke-linecap:square;stroke-linejoin:miter;stroke-width:0.8;\"/>\n   </g>\n  </g>\n </g>\n <defs>\n  <clipPath id=\"p7d56634f3d\">\n   <rect height=\"217.44\" width=\"326.16\" x=\"38.482813\" y=\"10.999219\"/>\n  </clipPath>\n </defs>\n</svg>\n",
      "image/png": "[encoded data removed]"
     },
     "metadata": {
      "needs_background": "light"
     }
    }
   ],
   "source": [
    "plt.imshow(G, vmin=0, vmax=255)\n",
    "plt.show()"
   ]
  },
  {
   "cell_type": "markdown",
   "metadata": {},
   "source": [
    "**これを次のようなデータフレームに変換せよ。**\n",
    "\n",
    "行数は行番号と列番号の組み合わせだけあるので２４行なので、データは行番号と列番号の列を除くと、２４行３列となる。\n",
    "numpyのreshape関数を使ってテンソルの形状を(4,6,3)から(24,3)に変換せよ。テンソルの形状を変換したのち、pandasのdataframeメソッドでデータフレームに変えることができる。\n",
    "\n",
    "|行番号|列番号|赤明度|緑明度|青明度|\n",
    "|---|---|---|---|---|\n",
    "|0|0|255|0|0|\n",
    "|0|1|0|255|0|\n",
    "|:|:|:|:|:|\n",
    "|0|5|255|0|0|\n",
    "|1|0|0|255|0|\n",
    "|:|:|:|:|:|\n",
    "|3|4|0|0|255|\n",
    "|3|5|255|255|255|"
   ]
  },
  {
   "cell_type": "code",
   "execution_count": null,
   "metadata": {},
   "outputs": [],
   "source": []
  }
 ],
 "metadata": {
  "interpreter": {
   "hash": "ff1451f766ff1f2aab9fee63bb48cc74e2e1277d7805d9df96af52a7af6088e7"
  },
  "kernelspec": {
   "name": "python3",
   "display_name": "Python 3.8.5 64-bit ('base': conda)"
  },
  "language_info": {
   "codemirror_mode": {
    "name": "ipython",
    "version": 3
   },
   "file_extension": ".py",
   "mimetype": "text/x-python",
   "name": "python",
   "nbconvert_exporter": "python",
   "pygments_lexer": "ipython3",
   "version": "3.8.5"
  }
 },
 "nbformat": 4,
 "nbformat_minor": 2
}