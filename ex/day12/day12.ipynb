{
 "cells": [
  {
   "cell_type": "markdown",
   "metadata": {},
   "source": [
    "# day12: 発展課題\n",
    "\n",
    "## モンティーホールクイズ\n",
    "\n",
    "目の前に3つの宝箱がある。そのうち1つには宝が入っているが、他の2つは空である。\n",
    "挑戦者は当然どれに宝が入っているか知らないが、司会者はどれに宝が入っているかを知っている。\n",
    "\n",
    "今、1つの宝箱を開けようとしたら、ゲームの司会者が宝の入っていない別の宝箱を開けたあとに「あなたの選んだ宝箱を本当に開けていいですか。今なら開ける宝箱を変えてもいいですよ。」と言ってきた。\n",
    "\n",
    "あなたは、開ける宝箱を変えますか？、それとも変えませんか？\n",
    "\n",
    "すなわち、変えるのと変えないのとどちらが宝を当てる確率が高いでしょうか？\n",
    "\n",
    "### 解答\n",
    "\n",
    "この問題は有名な問題で、モンティーホールというイギリスのクイズ番組が元ネタである。\n",
    "\n",
    "直感的には、司会者が宝の入っていない宝箱を開けているので、残った2つの宝箱を考えれば、宝が入っているのは2つに1つであり、どちらを選んでも確率0.5であり、開ける宝箱を変えても変えなくても確率は変わらない気がするかもしれない。\n",
    "\n",
    "しかし、不思議なことに、解答は「変える」ほうが宝を当てる確率が高いことが知られている。\n",
    "\n",
    "### シミュレーション\n",
    "\n",
    "では、実際に試してみよう。たくさんの挑戦者が\n",
    "\n",
    "- 開ける宝箱を変える選択(Change)をした場合に、当たった人の数\n",
    "- 開ける宝箱を変えない選択(Keep)をした場合に、あたった人の数\n",
    "\n",
    "をそれぞれ数えて確率をもとめてみよう\n",
    "\n",
    "まず、各挑戦者に対してそれぞれゲームを用意する。\n",
    "\n",
    "1. ３つの宝箱を用意し、どの1つが当たりであるかをランダムに決める。\n",
    "2. 挑戦者は、宝箱をランダムに選ぶ。\n",
    "3. 司会者が、2で選んだ宝箱以外でハズレの宝箱をランダムに選ぶ。\n",
    "4. Changeの場合は、残った宝箱を選び直す。Keepの場合は2で選んだ宝箱のまま。\n",
    "5. 4で選んだ宝箱と当たりの宝箱が一致したら、当たった人が1人増える。"
   ]
  },
  {
   "cell_type": "markdown",
   "metadata": {},
   "source": [
    "3つの宝箱に名前をつける。"
   ]
  },
  {
   "cell_type": "code",
   "execution_count": 1,
   "metadata": {},
   "outputs": [],
   "source": [
    "box = [1,2,3]"
   ]
  },
  {
   "cell_type": "markdown",
   "metadata": {},
   "source": [
    "正解の宝箱番号をランダムに決める。randomモジュールというものがあって、その中にあるchoiceメソッドでリストから1つをランダムに選ぶことができる。"
   ]
  },
  {
   "cell_type": "code",
   "execution_count": 2,
   "metadata": {},
   "outputs": [],
   "source": [
    "import random\n",
    "\n",
    "answer = random.choice(box)"
   ]
  },
  {
   "cell_type": "markdown",
   "metadata": {},
   "source": [
    "挑戦者の選ぶ宝箱番号もランダムに決める。当たりの宝箱番号である可能性もある。"
   ]
  },
  {
   "cell_type": "code",
   "execution_count": 3,
   "metadata": {},
   "outputs": [],
   "source": [
    "first_choice = random.choice(box)"
   ]
  },
  {
   "cell_type": "markdown",
   "metadata": {},
   "source": [
    "司会者が開ける宝箱番号を求める。これはハズレの宝箱でかつ挑戦者の選んでいない宝箱である。\n",
    "なので、まず宝箱番号のリストから当たりの宝箱を除く。"
   ]
  },
  {
   "cell_type": "code",
   "execution_count": 4,
   "metadata": {},
   "outputs": [],
   "source": [
    "box2 = box.copy() # box2にboxをコピー\n",
    "box2.remove(answer) # box2からanswerを除く"
   ]
  },
  {
   "cell_type": "markdown",
   "metadata": {},
   "source": [
    "もし、挑戦者が当たりを選んでいれば、box2には2つ番号が書かれているので、司会者はランダムにどちらかを選ぶ。\n",
    "もし、挑戦者がハズレを選んでいれば、box2から挑戦者の選んだfirst_choiceを除く。司会者はbox2に残った1つを選ぶ。"
   ]
  },
  {
   "cell_type": "code",
   "execution_count": null,
   "metadata": {},
   "outputs": [],
   "source": [
    "if first_choice == answer:\n",
    "    # ここを埋めよ\n",
    "    open = # ここを埋めよ\n",
    "else:\n",
    "    # ここを埋めよ\n",
    "    open = # ここを埋めよ"
   ]
  },
  {
   "cell_type": "markdown",
   "metadata": {},
   "source": [
    "Keepの場合は、second_choice = first_choice　であり、\n",
    "\n",
    "Changeの場合は、最初に選んだfirst_choiceでも司会者の選んだopenでもない残り一つを選ぶ。 "
   ]
  },
  {
   "cell_type": "code",
   "execution_count": null,
   "metadata": {},
   "outputs": [],
   "source": [
    "if Keep:\n",
    "    # ここを埋めよ\n",
    "    second_choice = # ここを埋めよ\n",
    "else: #Change\n",
    "    # ここを埋めよ\n",
    "    second_choice = # ここを埋めよ"
   ]
  },
  {
   "cell_type": "markdown",
   "metadata": {},
   "source": [
    "second_choice が 当たりかどうかを調べる"
   ]
  },
  {
   "cell_type": "code",
   "execution_count": null,
   "metadata": {},
   "outputs": [],
   "source": [
    "if second_choice == answer:\n",
    "    hit = 1\n",
    "else:\n",
    "    hit = 0"
   ]
  },
  {
   "cell_type": "markdown",
   "metadata": {},
   "source": [
    "まとめると、MontyHall(tactics)という関数ができあがる。完成させて myMontyHall.py　というモジュールにせよ。"
   ]
  },
  {
   "cell_type": "code",
   "execution_count": null,
   "metadata": {},
   "outputs": [],
   "source": [
    "# myMontyHall.py\n",
    "\n",
    "import random\n",
    "\n",
    "def MontyHall(tactics):\n",
    "    '''\n",
    "    入力\n",
    "    - tactics: 1ならばKeep, 0ならばChange\n",
    "    出力\n",
    "    - hit: 宝を当てたら1, 外れたら0\n",
    "    '''\n",
    "    box = [1,2,3]\n",
    "    answer = random.choice(box)\n",
    "    first_choice = random.choice(box)\n",
    "\n",
    "    # ここにいろいろ入る\n",
    "\n",
    "    return hit"
   ]
  },
  {
   "cell_type": "markdown",
   "metadata": {},
   "source": [
    "1回分の試行が上記の関数でおこなえる。tacticsに1を入れればKeep戦略、0を入れればChange戦略である。\n",
    "\n",
    "メインプログラム main.pyを作成する。\n",
    "\n",
    "まず、さきほど作成した myMontyHall.pyをimportする。\n",
    "\n",
    "多数回、tacticsを0（Change）か1（Keep）を選んで、MontyHall(tactics)を動かす。\n",
    "- Change戦略を選んだ回数をP回とすると、そのP回のうち p 回宝を当てたのなら、確率 p / P \n",
    "- Keep戦略を選んだ回数をQ回とすると、そのQ回のうち q　回宝を当てたのなら、確率 q / Q \n"
   ]
  },
  {
   "cell_type": "code",
   "execution_count": null,
   "metadata": {},
   "outputs": [],
   "source": [
    "# main.py\n",
    "import myMontyHall as my\n",
    "\n",
    "n_trial = 1000\n",
    "tactics_list = [0,1] # 1ならKeep, 0ならChange\n",
    "\n",
    "Prob = [0,0]\n",
    "for tactics in tactics_list:\n",
    "    for i in range(n_trial):\n",
    "        p += my.MontyHall(tactics)\n",
    "\n",
    "    Prob[tactics] = p/n_trial\n",
    "\n",
    "print('Keep戦略:',Prob[1])\n",
    "print('Change戦略:',Prob[0])"
   ]
  },
  {
   "cell_type": "markdown",
   "metadata": {},
   "source": [
    "課題：モジュール myMontyHall.pyを作成し、main.pyを動かしたときの出力を調べよ。提出物はmyMontyHall.pyとmain.pyと出力結果を表示したレポート。"
   ]
  },
  {
   "cell_type": "code",
   "execution_count": null,
   "metadata": {},
   "outputs": [],
   "source": []
  }
 ],
 "metadata": {
  "interpreter": {
   "hash": "ff1451f766ff1f2aab9fee63bb48cc74e2e1277d7805d9df96af52a7af6088e7"
  },
  "kernelspec": {
   "display_name": "Python 3",
   "language": "python",
   "name": "python3"
  },
  "language_info": {
   "codemirror_mode": {
    "name": "ipython",
    "version": 3
   },
   "file_extension": ".py",
   "mimetype": "text/x-python",
   "name": "python",
   "nbconvert_exporter": "python",
   "pygments_lexer": "ipython3",
   "version": "3.8.5"
  }
 },
 "nbformat": 4,
 "nbformat_minor": 2
}
