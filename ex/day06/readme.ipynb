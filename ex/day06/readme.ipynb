{
 "cells": [
  {
   "cell_type": "markdown",
   "id": "a1a4e70a",
   "metadata": {
    "id": "day06-データサイエンス-機械学習-パターン認識-入門"
   },
   "source": [
    "# day06: データサイエンス，機械学習（パターン認識）入門\n",
    "\n",
    "データサイエンスにせよ，機械学習にせよ，データをデータフレームにまとめることから始まります．\n",
    "\n",
    "データフレームとは，\n",
    "- 計測項目または質問項目を各列（縦ベクトル）に並べ，サンプル（標本，被験者）が増えれば行を増やして項目を埋めていった表．\n",
    "\n",
    "次のような表です．\n",
    "\n",
    "|index|ID|好きな動物|動物占いの判定|誕生月|セロリ嗜好|歩数|BMI|\n",
    "|---|---|---|---|---|----|---|---|\n",
    "| | | | | | | | |\n",
    "\n",
    "被験者（アンケート回答者）が増えれば行が増えていきます．\n",
    "-  index: 被験者が増えれば1増やしていくような数です．単に実験者が被験者につけた番号です．\n",
    "\n",
    "データフレームは，CSV（Comma-Separated-Values）形式での保存が一般的です．\n",
    "\n",
    "上記のデータフレームは，\n",
    "\n",
    "のようなファイルになります．行ごとに列の文字数が異なるので，多少読みにくいですが，そもそもヒトが読むものではなく，計算機が読むためのものなので我慢です．\n",
    "\n",
    "CSV形式はMicrosoft Excelなどの表計算ソフトのフォーマットと相互に変換できます．ヒトが読む場合は表計算ソフトで読み書きするのがいいでしょう．ExcelならCSVファイルを読み込むだけ，保存するときもCSVフォーマットを選ぶだけ．\n",
    "\n",
    "また，データフレームに直せそうなデータをなんとかしてデータフレームに直すことを，スクレイピング（scraping）と呼んでいます．たとえば，コロナウイルスの陽性者数などの表はpdfで公開されていたりしますが，画像であるPDFから表の罫線を読み取って，罫線で区切られる数字や文字列を認識して，データフレームに直すなんてことだったりが，スクレイピングです．\n",
    "\n",
    "さて，このCSVファイルをpythonで読みこんでみましょう．または，列の順番を変えたり，少し整形して，別の名前のCSVに保存してみましょう．"
   ]
  },
  {
   "cell_type": "markdown",
   "id": "bad922bd",
   "metadata": {
    "id": "pandas-パッケージ"
   },
   "source": [
    "# Pandas パッケージ\n",
    "\n",
    "`Pandas`は，データフレームを扱う ***「パッケージ」*** です．「パッケージ」とはモジュール(`.py`ファイル)を集めたフォルダ（ディレクトリ）です．つまり，Pandasはデータフレームを扱うための，クラスおよびクラスメソッド，関数，定数が定義された多数のモジュールが集められたフォルダで，人気があります．"
   ]
  },
  {
   "cell_type": "markdown",
   "id": "702ce9c1",
   "metadata": {
    "id": "package"
   },
   "source": [
    "# package\n",
    "\n",
    "世界の誰かが作ったパッケージを，自分のPCで使うためには，当然ダウンロードしてくる必要があります．\n",
    "\n",
    "パッケージ（フォルダ）をダウンロードし，自分のソースコードと同じディレクトリに置くと，"
   ]
  },
  {
   "source": [
    "from パッケージ名 import そのパッケージの中のモジュール名"
   ],
   "cell_type": "markdown",
   "metadata": {
    "id": "package-code"
   }
  },
  {
   "cell_type": "markdown",
   "id": "0f5cea53",
   "metadata": {
    "id": "package-2"
   },
   "source": [
    "で使えるようになります．\n",
    "\n",
    "[ここ](psp2package.zip)にちょこっとしたパッケージを置きました．このzipファイルを解凍すると，\n",
    "`psp2package`という名前のフォルダが作られます．その中には，`day06package`というフォルダがあり，その中に`mymodule1.py`というモジュールがあり，その中に`hello`という関数が書いてあります．\n",
    "\n",
    "例えば，この`hello`という関数を動かす場合は，以下のようにします．`from`文にある「`.`」は，フォルダ構造の`/`や`¥`にあたる記号です．"
   ]
  },
  {
   "cell_type": "code",
   "execution_count": 6,
   "id": "489ea345",
   "metadata": {
    "id": "package-code-2"
   },
   "outputs": [
    {
     "output_type": "stream",
     "name": "stdout",
     "text": [
      "hello world\n"
     ]
    }
   ],
   "source": [
    "from psp2package.day06package import mymodule1\n",
    "\n",
    "mymodule1.hello()"
   ]
  },
  {
   "cell_type": "markdown",
   "id": "fe22eb23",
   "metadata": {
    "id": "package-3"
   },
   "source": [
    "実は別の読み方があります．"
   ]
  },
  {
   "cell_type": "code",
   "execution_count": 7,
   "id": "dafe74ee",
   "metadata": {
    "id": "package-code-3"
   },
   "outputs": [
    {
     "output_type": "stream",
     "name": "stdout",
     "text": [
      "hello world\n"
     ]
    }
   ],
   "source": [
    "from psp2package.day06package.mymodule1 import *\n",
    "\n",
    "hello()"
   ]
  },
  {
   "cell_type": "markdown",
   "id": "604b39a0",
   "metadata": {
    "id": "package-4"
   },
   "source": [
    "モジュール名までをすべて`from`に書いて，`import`はモジュールに書いてある関数名です．すべての関数を使いたい場合は`*`を`import`します．このとき，関数呼び出しのしかたが少し違うことに注意してください．\n",
    "しかし，この関数の呼び出し方は危険です．`hello()`などという関数名は頻出するので，他と重なってしまうからです．最初に紹介しているように`import モジュール名`を強くおすすめします．\n",
    "\n",
    "ところで，パッケージ名を知っていても，その下のサブディレクトリも知っていなければならないというのは少し不便です．なので，パッケージ（ディレクトリ）のすぐ下に`__init__.py`というパッケージをモジュールのように扱うためのモジュールが作られることが多いです．（これってクラス定義の中に，__init__というメソッドを置くと，クラスを関数のように扱うのと同じです．）\n",
    "\n",
    "`__init__.py`は，パッケージをモジュールであるかのごとく`import`したときに動かすモジュールです．\n",
    "\n",
    "今，次のように動かしたいとします．"
   ]
  },
  {
   "cell_type": "code",
   "execution_count": 8,
   "id": "2cac7522",
   "metadata": {
    "id": "package-code-4"
   },
   "outputs": [
    {
     "output_type": "stream",
     "name": "stdout",
     "text": [
      "hello world\n"
     ]
    }
   ],
   "source": [
    "import psp2package\n",
    "\n",
    "psp2package.hello()"
   ]
  },
  {
   "cell_type": "markdown",
   "id": "27c9e156",
   "metadata": {
    "id": "package-5"
   },
   "source": [
    "`import`文は指定したモジュールの展開（その場所にモジュールの記述をコピペ）ですので，\n",
    "`psp2package`モジュールつまり`psp2package/__init__.py`の中は，"
   ]
  },
  {
   "source": [
    "from .day06package.mymodule1 import *"
   ],
   "cell_type": "markdown",
   "metadata": {
    "id": "package-code-5"
   }
  },
  {
   "cell_type": "markdown",
   "id": "faf5d5bc",
   "metadata": {
    "id": "package-6"
   },
   "source": [
    "と書いてあるとよいみたいです．"
   ]
  },
  {
   "cell_type": "markdown",
   "id": "362edc68",
   "metadata": {
    "id": "pypiパッケージ-pip-package"
   },
   "source": [
    "## PyPIパッケージ: pip package\n",
    "\n",
    "以前紹介したように，[PyPI](https://pypi.org/)というpythonには公式のパッケージ置き場があります．\n",
    "\n",
    "PyPIに置いてあるパッケージは`pip`というコマンドでダウンロードされます．\n",
    "ダウンロードされて，特別な場所に置かれることが決まっています．\n",
    "また，ダウンロードされるパッケージが，さらに必要としている他のパッケージもダウンロードされます．"
   ]
  },
  {
   "source": [
    "% pip install pandas"
   ],
   "cell_type": "markdown",
   "metadata": {
    "id": "pypiパッケージ-pip-package-code"
   }
  },
  {
   "cell_type": "markdown",
   "id": "55d3877a",
   "metadata": {
    "id": "pypiパッケージ-pip-package-2"
   },
   "source": [
    "anaconda-pythonの学生さんは，"
   ]
  },
  {
   "source": [
    "% conda install pandas"
   ],
   "cell_type": "markdown",
   "metadata": {
    "id": "pypiパッケージ-pip-package-code-2"
   }
  },
  {
   "cell_type": "markdown",
   "id": "0de3941d",
   "metadata": {
    "id": "pypiパッケージ-pip-package-3"
   },
   "source": [
    "くだんの「特別な場所」に置かれたパッケージは，今現在動かすソースコードと同じディレクトリではないですが，いきなりパッケージを`from`文で読めることになっています．`pandas`フォルダの下の`io`サブフォルダの下の`parsers.py`というモジュールに書いてある関数をつかいたいなら"
   ]
  },
  {
   "cell_type": "code",
   "execution_count": 9,
   "id": "4b9fefb2",
   "metadata": {
    "id": "pypiパッケージ-pip-package-code-3"
   },
   "outputs": [],
   "source": [
    "from pandas.io import parsers"
   ]
  },
  {
   "cell_type": "markdown",
   "id": "d21a99c4",
   "metadata": {
    "id": "pypiパッケージ-pip-package-4"
   },
   "source": [
    "というようにします．\n",
    "\n",
    "また，さきほど紹介したように`pandas`はパッケージ（フォルダ，ディレクトリ）ですが，すぐ下に`__init__.py`という「モジュールとして呼び出したときに動くモジュール」があるので，"
   ]
  },
  {
   "cell_type": "code",
   "execution_count": 10,
   "id": "a9ef57b1",
   "metadata": {
    "id": "pypiパッケージ-pip-package-code-4"
   },
   "outputs": [],
   "source": [
    "import pandas as pd"
   ]
  },
  {
   "cell_type": "markdown",
   "id": "111991ff",
   "metadata": {
    "id": "pypiパッケージ-pip-package-5"
   },
   "source": [
    "で呼び出すのが通常です．また，上記のように別名も`pd`とすることが多いです．"
   ]
  },
  {
   "cell_type": "markdown",
   "id": "1ebfe443",
   "metadata": {
    "id": "pandas-を使ってcsvをデータフレームにする"
   },
   "source": [
    "# pandas を使ってCSVをデータフレームにする\n",
    "\n",
    "`pandas`の下の`io`の下の`parsers.py`にCSVファイルをデータフレームにする`read_csv`という関数があります．これを使います．"
   ]
  },
  {
   "source": [
    "import pandas as pd\n",
    "pd.set_option('display.unicode.east_asian_width', True)\n",
    "\n",
    "df1= pd.read_csv('mydata1.csv')\n",
    "print(type(df1))\n",
    "\n",
    "print(df1)\n",
    "\n",
    "print(df1.shape)\n"
   ],
   "cell_type": "code",
   "metadata": {
    "id": "pandas-を使ってcsvをデータフレームにする-code"
   },
   "execution_count": 11,
   "outputs": [
    {
     "output_type": "stream",
     "name": "stdout",
     "text": [
      "<class 'pandas.core.frame.DataFrame'>\n                                                                                                              # mydata1.csv\nID          動物占いに出てくる好きな動物  動物占いの結果の動物  誕生月  セロリ嗜好  所持金の増加（差）   所持金の増加（比）\naa83988848  ひつじ                        たぬき                5       嫌い        3192                               1.01\n(2, 1)\n"
     ]
    }
   ]
  },
  {
   "cell_type": "markdown",
   "id": "a0c40b77",
   "metadata": {
    "id": "pandas-を使ってcsvをデータフレームにする-2"
   },
   "source": [
    "データフレームは，`pandas.core.frame.DataFrame`というクラスです．`pandas`の下の`core`の下の`frame.py`というモジュールに`class DataFrame`と定義されています．\n",
    "\n",
    "クラスに`__str__`メソッドがあるので，このクラスを割り当てられた`df1`を`print`できます．\n",
    "ただし，日本語とアルファベットでは1文字あたりの表示幅が異なるので表示がズレます．このズレを補正するために，\n",
    "`pd.set_option('display.unicode.east_asian_width', True)`を宣言しておきます．\n",
    "\n",
    "また，クラスは，独自の属性を持ちます．`self.shape`つまり`df1.shape`はデータフレームの形である`（行数, 列数）`が保存されています．\n",
    "\n",
    "でも`(2,1)`はおかしいですね．このデータは，`(1,7)`のはずです．\n",
    "\n",
    "- 列のラベル（測定項目名やアンケート項目名）を **ヘッダ** といいます．このヘッダはデータ本体には数えませんのでデータ本体は`(1,7)`です．\n",
    "\n",
    "最初の行は，CSV形式でなく単なるメモ書きですので，CSV形式は2行目からです．\n",
    "読み飛ばす行番号を`skiprows`にリストします．"
   ]
  },
  {
   "source": [
    "df2 = pd.read_csv('mydata1.csv', skiprows=[0])\n",
    "print(df2.shape)\n",
    "\n",
    "print(df2)\n",
    "\n",
    "print(type(df2.columns))\n"
   ],
   "cell_type": "code",
   "metadata": {
    "id": "pandas-を使ってcsvをデータフレームにする-code-2"
   },
   "execution_count": 12,
   "outputs": [
    {
     "output_type": "stream",
     "name": "stdout",
     "text": [
      "(1, 7)\n           ID  動物占いに出てくる好きな動物  動物占いの結果の動物   誕生月  \\\n0  aa83988848                        ひつじ                たぬき        5   \n\n   セロリ嗜好   所持金の増加（差）   所持金の増加（比）  \n0        嫌い                 3192                 1.01  \n<class 'pandas.core.indexes.base.Index'>\n"
     ]
    }
   ]
  },
  {
   "cell_type": "markdown",
   "id": "41cd2f32",
   "metadata": {
    "id": "pandas-を使ってcsvをデータフレームにする-3"
   },
   "source": [
    "CSVファイルを読むと，（読みとばしを無視した）最初の行を「ヘッダ」として理解します．\n",
    "ヘッダは`self.columns`という属性に`Index`というクラスで保存されています．\n",
    "\n",
    "CSVによってはヘッダが書かれていない場合があります．`mydata1.csv`で読み飛ばす行の番号を`[0,1]`としてみると"
   ]
  },
  {
   "cell_type": "code",
   "execution_count": 13,
   "id": "9f78abdc",
   "metadata": {
    "id": "pandas-を使ってcsvをデータフレームにする-code-3"
   },
   "outputs": [
    {
     "output_type": "stream",
     "name": "stdout",
     "text": [
      "(0, 7)\nEmpty DataFrame\nColumns: [aa83988848,  ひつじ,  たぬき,  5,  嫌い,  3192,  1.01]\nIndex: []\nIndex(['aa83988848', ' ひつじ', ' たぬき', ' 5', ' 嫌い', ' 3192', ' 1.01'], dtype='object')\n"
     ]
    }
   ],
   "source": [
    "df3 = pd.read_csv('mydata1.csv', skiprows=[0,1])\n",
    "print(df3.shape)\n",
    "\n",
    "print(df3)\n",
    "\n",
    "print(df3.columns)\n"
   ]
  },
  {
   "cell_type": "markdown",
   "id": "442cfc0a",
   "metadata": {
    "id": "pandas-を使ってcsvをデータフレームにする-4"
   },
   "source": [
    "データ本体の最初のサンプルが間違ってヘッダにされてしまいますので，この場合はヘッダが無いことを明記します．"
   ]
  },
  {
   "cell_type": "code",
   "execution_count": 14,
   "id": "c76631b2",
   "metadata": {
    "id": "pandas-を使ってcsvをデータフレームにする-code-4"
   },
   "outputs": [
    {
     "output_type": "stream",
     "name": "stdout",
     "text": [
      "(1, 7)\n            0        1        2  3      4     5     6\n0  aa83988848   ひつじ   たぬき  5   嫌い  3192  1.01\nInt64Index([0, 1, 2, 3, 4, 5, 6], dtype='int64')\n"
     ]
    }
   ],
   "source": [
    "df4 = pd.read_csv('mydata1.csv', skiprows=[0,1], header=None)\n",
    "print(df4.shape)\n",
    "\n",
    "print(df4)\n",
    "\n",
    "print(df4.columns)\n"
   ]
  },
  {
   "cell_type": "markdown",
   "id": "0601cfe6",
   "metadata": {
    "id": "pandas-を使ってcsvをデータフレームにする-5"
   },
   "source": [
    "カラムラベルが数字になっています．\n",
    "\n",
    "もし，カラムラベルを指定したいなら読み込んだ後に，"
   ]
  },
  {
   "cell_type": "code",
   "execution_count": 18,
   "id": "387d5db6",
   "metadata": {
    "id": "pandas-を使ってcsvをデータフレームにする-code-5"
   },
   "outputs": [],
   "source": [
    "df4.columns = pd.Index(['ID', ' 好きな動物', ' 動物占いの判定', ' 誕生月', ' セロリ嗜好', ' 所持金の増加（差）', ' 所持金の増加（比）'])"
   ]
  },
  {
   "cell_type": "markdown",
   "id": "cc9cb2d1",
   "metadata": {
    "id": "pandas-を使ってcsvをデータフレームにする-6"
   },
   "source": [
    "と属性columnsを上書きします．\n",
    "\n",
    "ところで，ヘッダが「表示はされるがデータ本体ではない」のと同様に，`print(df1)`としたときに\n",
    "最初の列に`0`が表示されています．これはデータ本体ではなく「**インデックス**」と読んでいます．データフレームを作ったときに割り当てられた行番号です．このあとにサンプル行を消したり，行の入れ替えなどをしても，最初のインデクスが維持されます．ヘッダがないときにカラムラベルが数字になったのと同じです．\n",
    "\n",
    "もし`ID`の列をインデクスにしたいなら，CSVを読むときに，次のように指定します．\n",
    "ヘッダの行も指定します．読み飛ばし行を読み飛ばしたあとの行番号です．"
   ]
  },
  {
   "cell_type": "code",
   "execution_count": 19,
   "id": "8d329d43",
   "metadata": {
    "id": "pandas-を使ってcsvをデータフレームにする-code-6"
   },
   "outputs": [
    {
     "output_type": "stream",
     "name": "stdout",
     "text": [
      "            動物占いに出てくる好きな動物  動物占いの結果の動物   誕生月  \\\nID                                                                        \naa83988848                        ひつじ                たぬき        5   \n\n            セロリ嗜好   所持金の増加（差）   所持金の増加（比）  \nID                                                                \naa83988848        嫌い                 3192                 1.01  \n(1, 6)\nIndex(['aa83988848'], dtype='object', name='ID')\nID\n"
     ]
    }
   ],
   "source": [
    "df5 = pd.read_csv('mydata1.csv', skiprows=[0], header=0, index_col=0)\n",
    "print(df5)\n",
    "\n",
    "print(df5.shape)\n",
    "\n",
    "print(df5.index)\n",
    "\n",
    "print(df5.index.name)\n"
   ]
  },
  {
   "cell_type": "markdown",
   "id": "ab788f67",
   "metadata": {
    "id": "pandas-を使ってcsvをデータフレームにする-7"
   },
   "source": [
    "ヘッダ行番号を指定すると，それより上の行は読み飛ばされますので，今の場合，"
   ]
  },
  {
   "cell_type": "code",
   "execution_count": 20,
   "id": "156d0ad7",
   "metadata": {
    "id": "pandas-を使ってcsvをデータフレームにする-code-7"
   },
   "outputs": [],
   "source": [
    "df6 = pd.read_csv('mydata1.csv', header=1, index_col=0)"
   ]
  },
  {
   "cell_type": "markdown",
   "id": "f1078062",
   "metadata": {
    "id": "pandas-を使ってcsvをデータフレームにする-8"
   },
   "source": [
    "でも同じです．"
   ]
  },
  {
   "cell_type": "markdown",
   "id": "50522b68",
   "metadata": {
    "id": "データを集めたら"
   },
   "source": [
    "# データを集めたら...\n",
    "\n",
    "さて，そんなこんなでデータを集めて，`mydata2.csv`に保存しました．\n",
    "10人からデータをあつめたものです．"
   ]
  },
  {
   "cell_type": "code",
   "execution_count": 21,
   "id": "24e46a6b",
   "metadata": {
    "id": "データを集めたら-code"
   },
   "outputs": [
    {
     "output_type": "stream",
     "name": "stdout",
     "text": [
      "           ID 好きな動物 動物占いの判定  誕生月 セロリ嗜好  \\\n0   friend001   ライオン             虎       1       好き   \n1   friend003     チータ         チータ       3     超嫌い   \n2   friend004   ペガサス             猿       4     ふつう   \n3   friend005   黒ひょう         ひつじ       2       嫌い   \n4  friend0200       ゾウ         たぬき       7       好き   \n5       umi03     子守熊             虎       4     超好き   \n6   dorawemon     たぬき       ライオン       9       好き   \n7      nobita         虎         チータ       8       嫌い   \n8     shizuka     たぬき       ライオン       9     超嫌い   \n9       suneo   ライオン         チータ       1       嫌い   \n\n   所持金の増加（差）  所持金の増加（比）  \n0                1000               1.500  \n1               -1000               0.700  \n2              -10000               0.900  \n3                 150               1.001  \n4                -300               0.800  \n5                -150               0.990  \n6                1000               1.020  \n7              -10000               0.500  \n8                2000               1.500  \n9                -300               0.999  \n"
     ]
    }
   ],
   "source": [
    "import pandas as pd\n",
    "pd.set_option('display.unicode.east_asian_width', True)\n",
    "\n",
    "df = pd.read_csv('mydata2.csv')\n",
    "print(df)\n"
   ]
  },
  {
   "cell_type": "markdown",
   "id": "f667c5d5",
   "metadata": {
    "id": "データを集めたら-2"
   },
   "source": [
    "IDには被験者やサンプルを区別するラベルが書かれています．学籍番号だったりします．表の表示には必要ですが，データの解析には必要ありません．\n",
    "\n",
    "なので，"
   ]
  },
  {
   "cell_type": "code",
   "execution_count": 22,
   "id": "6d9ebd71",
   "metadata": {
    "id": "データを集めたら-code-2"
   },
   "outputs": [
    {
     "output_type": "stream",
     "name": "stdout",
     "text": [
      "           好きな動物 動物占いの判定  誕生月 セロリ嗜好  所持金の増加（差）  \\\nID                                                                            \nfriend001    ライオン             虎       1       好き                1000   \nfriend003      チータ         チータ       3     超嫌い               -1000   \nfriend004    ペガサス             猿       4     ふつう              -10000   \nfriend005    黒ひょう         ひつじ       2       嫌い                 150   \nfriend0200       ゾウ         たぬき       7       好き                -300   \numi03          子守熊             虎       4     超好き                -150   \ndorawemon      たぬき       ライオン       9       好き                1000   \nnobita             虎         チータ       8       嫌い              -10000   \nshizuka        たぬき       ライオン       9     超嫌い                2000   \nsuneo        ライオン         チータ       1       嫌い                -300   \n\n            所持金の増加（比）  \nID                              \nfriend001                1.500  \nfriend003                0.700  \nfriend004                0.900  \nfriend005                1.001  \nfriend0200               0.800  \numi03                    0.990  \ndorawemon                1.020  \nnobita                   0.500  \nshizuka                  1.500  \nsuneo                    0.999  \n"
     ]
    }
   ],
   "source": [
    "df = pd.read_csv('mydata2.csv', index_col=0)\n",
    "print(df)\n"
   ]
  },
  {
   "cell_type": "markdown",
   "id": "b540485c",
   "metadata": {
    "id": "データフレーム上の値のクラス"
   },
   "source": [
    "## データフレーム上の値のクラス\n",
    "\n",
    "データフレーム上の値は以下のように参照できます．\n",
    "\n",
    "-「好きな動物」だけを全サンプル参照してみます．"
   ]
  },
  {
   "cell_type": "code",
   "execution_count": 23,
   "id": "82c2b423",
   "metadata": {
    "id": "データフレーム上の値のクラス-code"
   },
   "outputs": [
    {
     "output_type": "stream",
     "name": "stdout",
     "text": [
      "ID\nfriend001     ライオン\nfriend003       チータ\nfriend004     ペガサス\nfriend005     黒ひょう\nfriend0200        ゾウ\numi03           子守熊\ndorawemon       たぬき\nnobita              虎\nshizuka         たぬき\nsuneo         ライオン\nName: 好きな動物, dtype: object\n<class 'pandas.core.series.Series'>\n"
     ]
    }
   ],
   "source": [
    "print(df['好きな動物'])\n",
    "\n",
    "print(type(df['好きな動物']))\n"
   ]
  },
  {
   "cell_type": "markdown",
   "id": "3c4ff8f0",
   "metadata": {
    "id": "データフレーム上の値のクラス-2"
   },
   "source": [
    "- 行番号2（行番号は0からはじまる）のサンプルの「好きな動物」は"
   ]
  },
  {
   "cell_type": "code",
   "execution_count": 24,
   "id": "501639a9",
   "metadata": {
    "id": "データフレーム上の値のクラス-code-2"
   },
   "outputs": [
    {
     "output_type": "stream",
     "name": "stdout",
     "text": [
      "ペガサス\n<class 'str'>\n"
     ]
    }
   ],
   "source": [
    "print(df['好きな動物'][2])\n",
    "\n",
    "print(type(df['好きな動物'][2]))\n"
   ]
  },
  {
   "cell_type": "markdown",
   "id": "f847b0e3",
   "metadata": {
    "id": "データフレーム上の値のクラス-3"
   },
   "source": [
    "- 行番号2から4までの3行のサンプルの「好きな動物」は"
   ]
  },
  {
   "cell_type": "code",
   "execution_count": 25,
   "id": "f2ae7d9e",
   "metadata": {
    "id": "データフレーム上の値のクラス-code-3"
   },
   "outputs": [
    {
     "output_type": "stream",
     "name": "stdout",
     "text": [
      "ID\nfriend004     ペガサス\nfriend005     黒ひょう\nfriend0200        ゾウ\nName: 好きな動物, dtype: object\n"
     ]
    }
   ],
   "source": [
    "print(df['好きな動物'][2:5])\n"
   ]
  },
  {
   "cell_type": "markdown",
   "id": "27b84789",
   "metadata": {
    "id": "データフレーム上の値のクラス-4"
   },
   "source": [
    "データ集め終えたときに次にやることは，各項目の統計でしょうか．たとえば平均値や標準偏差でしょうか．\n",
    "\n",
    "そんな統計をまとめて表示してくれる関数がpandasに存在します．"
   ]
  },
  {
   "cell_type": "code",
   "execution_count": 27,
   "id": "08e4f8b0",
   "metadata": {
    "id": "データフレーム上の値のクラス-code-4"
   },
   "outputs": [
    {
     "output_type": "stream",
     "name": "stdout",
     "text": [
      "       好きな動物 動物占いの判定     誕生月 セロリ嗜好  所持金の増加（差）  \\\ncount          10             10  10.000000         10           10.000000   \nunique          8              6        NaN          5                 NaN   \ntop      ライオン         チータ        NaN       嫌い                 NaN   \nfreq            2              3        NaN          3                 NaN   \nmean          NaN            NaN   4.800000        NaN        -1760.000000   \nstd           NaN            NaN   3.190263        NaN         4425.293462   \nmin           NaN            NaN   1.000000        NaN       -10000.000000   \n25%           NaN            NaN   2.250000        NaN         -825.000000   \n50%           NaN            NaN   4.000000        NaN         -225.000000   \n75%           NaN            NaN   7.750000        NaN          787.500000   \nmax           NaN            NaN   9.000000        NaN         2000.000000   \n\n        所持金の増加（比）  \ncount            10.000000  \nunique                 NaN  \ntop                    NaN  \nfreq                   NaN  \nmean              0.991000  \nstd               0.314412  \nmin               0.500000  \n25%               0.825000  \n50%               0.994500  \n75%               1.015250  \nmax               1.500000  \n"
     ]
    }
   ],
   "source": [
    "print(df.describe(include='all'))\n"
   ]
  },
  {
   "cell_type": "markdown",
   "id": "7df1f79c",
   "metadata": {
    "id": "データフレーム上の値のクラス-5"
   },
   "source": [
    "全て，各項目ごとの代表値で，\n",
    "\n",
    "- `count`はデータの個数(sample size，サンプルサイズ)\n",
    "- `unique`はデータに現れた水準の個数\n",
    "- `top`はデータの最頻値，`freq`は最頻値の頻度\n",
    "- `mean`は平均値，`std`は標準偏差(STandard Deviation)\n",
    "- `min`は最小値，`max`は最大値，\n",
    "- `25%`, `50%`, `75%`は四分位で，ヒストグラムを低い水準から並べたときに下位25％，50％，75％にあたる水準を答えるものです．下位50％は`median`（メディアン，メジアン）とも呼ばれます．\n",
    "- `NaN` は ***Not a Number*** 値なし\n",
    "\n",
    "この関数の中身は，以下のDataFrameのメソッドを使っても表示されます．"
   ]
  },
  {
   "cell_type": "code",
   "execution_count": 29,
   "id": "f3f8a4db",
   "metadata": {
    "id": "データフレーム上の値のクラス-code-5"
   },
   "outputs": [
    {
     "output_type": "stream",
     "name": "stdout",
     "text": [
      "誕生月                   4.800\n所持金の増加（差）   -1760.000\n所持金の増加（比）       0.991\ndtype: float64\n誕生月                  4.0000\n所持金の増加（差）   -225.0000\n所持金の増加（比）      0.9945\ndtype: float64\n誕生月                   3.190263\n所持金の増加（差）    4425.293462\n所持金の増加（比）       0.314412\ndtype: float64\n誕生月                  2.250\n所持金の増加（差）   -825.000\n所持金の増加（比）      0.825\nName: 0.25, dtype: float64\n      誕生月  所持金の増加（差）  所持金の増加（比）\n0.25    2.25              -825.0             0.82500\n0.75    7.75               787.5             1.01525\n"
     ]
    }
   ],
   "source": [
    "print(df.mean())\n",
    "\n",
    "print(df.median())\n",
    "\n",
    "print(df.std())\n",
    "\n",
    "print(df.quantile(0.25))\n",
    "\n",
    "print(df.quantile([0.25,0.75]))\n"
   ]
  },
  {
   "cell_type": "markdown",
   "id": "0b2b96ba",
   "metadata": {
    "id": "データフレーム上の値のクラス-6"
   },
   "source": [
    "です．\n",
    "\n",
    "ところで，「誕生月」，「所持金の増加（差）」，「所持金の増加（比）」ですが，その平均や標準偏差ってどんな意味があるのでしょうか？\n",
    "\n",
    "-「所持金の増加（差）」の平均は理解可能です．昨日の所持金に比べ，全員が平均何円増加したかを表しています．標準偏差もその増加額が人によってどのくらい幅があるかです．\n",
    "- 「所持金の増加（比）」はどうでしょうか？平均は1周辺にあるのですが，全員が平均何倍増加したかを表していますね．標準偏差はその増加比が人によってどのくらい幅があるかですね．\n",
    "\n",
    "「誕生月」はどうでしょうか？おそらくmeanやmedianの結果は，6月周辺の月になっているでしょう．だから何なのでしょう．この値は一番多い誕生月ではありません．\n",
    "一番多い誕生月は最頻値(モード,mode)です．上記には表示されていません．誕生月の最頻値なら意味があります．\n",
    "\n",
    "「誕生月」は，1〜12で答えられていますが，この数値は，データ的には大小がない値で有るべきなのです．よってクラスを「カテゴリー」に変更します．astype*メソッド*を使い文字列クラスに変更した後に，Categorical*関数*でカテゴリークラスに変更します．"
   ]
  },
  {
   "cell_type": "code",
   "execution_count": 30,
   "id": "bbdaa4f7",
   "metadata": {
    "id": "データフレーム上の値のクラス-code-6"
   },
   "outputs": [
    {
     "output_type": "stream",
     "name": "stdout",
     "text": [
      "ID\nfriend001     1\nfriend003     3\nfriend004     4\nfriend005     2\nfriend0200    7\numi03         4\ndorawemon     9\nnobita        8\nshizuka       9\nsuneo         1\nName: 誕生月, dtype: category\nCategories (12, object): ['1', '2', '3', '4', ..., '9', '10', '11', '12']\n"
     ]
    }
   ],
   "source": [
    "df['誕生月'] = df['誕生月'].astype('str')\n",
    "listBirthMonth = list([str(x) for x in range(1,13)])\n",
    "df['誕生月'] = pd.Categorical(df['誕生月'], categories=listBirthMonth)\n",
    "print(df['誕生月'])\n"
   ]
  },
  {
   "cell_type": "markdown",
   "id": "8ca991c0",
   "metadata": {
    "id": "データフレーム上の値のクラス-7"
   },
   "source": [
    "さて，「セロリ嗜好」は，誕生月とは逆に，値は文字列ですが，これって5段階評価で，大小があります．なので，文字列を大小のある値に変換します．大小があるカテゴリーは，`ordered=True`を指定します．"
   ]
  },
  {
   "cell_type": "code",
   "execution_count": 31,
   "id": "ee36b616",
   "metadata": {
    "id": "データフレーム上の値のクラス-code-7"
   },
   "outputs": [
    {
     "output_type": "stream",
     "name": "stdout",
     "text": [
      "ID\nfriend001       好き\nfriend003     超嫌い\nfriend004     ふつう\nfriend005       嫌い\nfriend0200      好き\numi03         超好き\ndorawemon       好き\nnobita          嫌い\nshizuka       超嫌い\nsuneo           嫌い\nName: セロリ嗜好, dtype: category\nCategories (5, object): ['超嫌い' < '嫌い' < 'ふつう' < '好き' < '超好き']\n"
     ]
    }
   ],
   "source": [
    "listCelery = list(['超嫌い','嫌い','ふつう','好き','超好き'])\n",
    "df['セロリ嗜好']=pd.Categorical(df['セロリ嗜好'],categories=listCelery, ordered=True)\n",
    "print(df['セロリ嗜好'])\n"
   ]
  },
  {
   "cell_type": "markdown",
   "id": "0e4c3501",
   "metadata": {
    "id": "データフレーム上の値のクラス-8"
   },
   "source": [
    "また，大小ありのカテゴリは，数値を持っていて，cat.codesメソッドでその数値を読むことができます．\n",
    "この数値を新しい項目「セロリ嗜好度値」に保存することにします．"
   ]
  },
  {
   "cell_type": "code",
   "execution_count": 32,
   "id": "9b4b36cc",
   "metadata": {
    "id": "データフレーム上の値のクラス-code-8"
   },
   "outputs": [
    {
     "output_type": "stream",
     "name": "stdout",
     "text": [
      "ID\nfriend001     3\nfriend003     0\nfriend004     2\nfriend005     1\nfriend0200    3\numi03         4\ndorawemon     3\nnobita        1\nshizuka       0\nsuneo         1\nName: セロリ嗜好度値, dtype: int8\n"
     ]
    }
   ],
   "source": [
    "df['セロリ嗜好度値']=df['セロリ嗜好'].cat.codes\n",
    "print(df['セロリ嗜好度値'])\n"
   ]
  },
  {
   "cell_type": "markdown",
   "id": "6bb1d830",
   "metadata": {
    "id": "データフレーム上の値のクラス-9"
   },
   "source": [
    "- 「好きな動物」と「動物占いの判定」\n",
    "\n",
    "「動物占い」を知ってますか．2000年くらいに流行した「人は12種類の動物に代表される性格があるけど，あなたは？」っていうものです．\n",
    "ライオン、チータ、ペガサス、ゾウ、猿、狼、子守熊、虎、黒ひょう、ひつじ、たぬき、こじか の12種類です．\n",
    "単純に誕生日で決まっているようです．\n",
    "\n",
    "[動物占い公式ページ](https://www.doubutsu-uranai.com)\n",
    "\n",
    "今回のデータの「好きな動物」と「動物占いの判定」はこの12種類から選ばれるとします．\n",
    "\n",
    "どんな動物かは順序がありません．よって数値の割り振りは適当で構いません．よって，これらもカテゴリ（大小なし）です．"
   ]
  },
  {
   "cell_type": "code",
   "execution_count": 33,
   "id": "d8d71c80",
   "metadata": {
    "id": "データフレーム上の値のクラス-code-9"
   },
   "outputs": [
    {
     "output_type": "stream",
     "name": "stdout",
     "text": [
      "ID\nfriend001     ライオン\nfriend003       チータ\nfriend004     ペガサス\nfriend005     黒ひょう\nfriend0200        ゾウ\numi03           子守熊\ndorawemon       たぬき\nnobita              虎\nshizuka         たぬき\nsuneo         ライオン\nName: 好きな動物, dtype: category\nCategories (12, object): ['ライオン', 'チータ', 'ペガサス', 'ゾウ', ..., '黒ひょう', 'ひつじ', 'たぬき', 'こじか']\nID\nfriend001           虎\nfriend003       チータ\nfriend004           猿\nfriend005       ひつじ\nfriend0200      たぬき\numi03               虎\ndorawemon     ライオン\nnobita          チータ\nshizuka       ライオン\nsuneo           チータ\nName: 動物占いの判定, dtype: category\nCategories (12, object): ['ライオン', 'チータ', 'ペガサス', 'ゾウ', ..., '黒ひょう', 'ひつじ', 'たぬき', 'こじか']\n"
     ]
    }
   ],
   "source": [
    "listAnimal = list(['ライオン','チータ','ペガサス','ゾウ','猿','狼','子守熊','虎','黒ひょう','ひつじ','たぬき','こじか'])\n",
    "df['好きな動物'] = pd.Categorical(df['好きな動物'], categories=listAnimal, ordered=False)\n",
    "df['動物占いの判定'] = pd.Categorical(df['動物占いの判定'], categories=listAnimal, ordered=False)\n",
    "print(df['好きな動物'])\n",
    "\n",
    "print(df['動物占いの判定'])\n"
   ]
  },
  {
   "cell_type": "markdown",
   "id": "66f42d69",
   "metadata": {
    "id": "データフレーム上の値のクラス-10"
   },
   "source": [
    "すべての項目を適切な尺度水準にしたので，"
   ]
  },
  {
   "cell_type": "code",
   "execution_count": 34,
   "id": "3d226a3d",
   "metadata": {
    "id": "データフレーム上の値のクラス-code-10"
   },
   "outputs": [
    {
     "output_type": "stream",
     "name": "stdout",
     "text": [
      "       好きな動物 動物占いの判定 誕生月 セロリ嗜好  所持金の増加（差）  \\\ncount          10             10     10         10           10.000000   \nunique          8              6      7          5                 NaN   \ntop      ライオン         チータ      1       嫌い                 NaN   \nfreq            2              3      2          3                 NaN   \nmean          NaN            NaN    NaN        NaN        -1760.000000   \nstd           NaN            NaN    NaN        NaN         4425.293462   \nmin           NaN            NaN    NaN        NaN       -10000.000000   \n25%           NaN            NaN    NaN        NaN         -825.000000   \n50%           NaN            NaN    NaN        NaN         -225.000000   \n75%           NaN            NaN    NaN        NaN          787.500000   \nmax           NaN            NaN    NaN        NaN         2000.000000   \n\n        所持金の増加（比）  セロリ嗜好度値  \ncount            10.000000       10.000000  \nunique                 NaN             NaN  \ntop                    NaN             NaN  \nfreq                   NaN             NaN  \nmean              0.991000        1.800000  \nstd               0.314412        1.398412  \nmin               0.500000        0.000000  \n25%               0.825000        1.000000  \n50%               0.994500        1.500000  \n75%               1.015250        3.000000  \nmax               1.500000        4.000000  \n"
     ]
    }
   ],
   "source": [
    "print(df.describe(include='all'))\n"
   ]
  },
  {
   "cell_type": "markdown",
   "id": "512a0db3",
   "metadata": {
    "id": "課題"
   },
   "source": [
    "# 課題\n",
    "\n",
    "1.「好きな動物」が「ライオン」の人と「たぬき」の人でセロリ嗜好度は差があると言えるか調べよ．調べるためのコード実行例を示せ．\n",
    "一般的に双方の四分位範囲が重ならない場合「差がある」と言う．重なっている場合は「差があると言えない」と言う．"
   ]
  },
  {
   "cell_type": "code",
   "execution_count": 35,
   "id": "7168fcf6",
   "metadata": {
    "id": "課題-code"
   },
   "outputs": [
    {
     "output_type": "stream",
     "name": "stdout",
     "text": [
      "       所持金の増加（差）  所持金の増加（比）  セロリ嗜好度値\ncount            2.000000             2.00000        2.000000\nmean           350.000000             1.24950        2.000000\nstd            919.238816             0.35426        1.414214\nmin           -300.000000             0.99900        1.000000\n25%             25.000000             1.12425        1.500000\n50%            350.000000             1.24950        2.000000\n75%            675.000000             1.37475        2.500000\nmax           1000.000000             1.50000        3.000000\n"
     ]
    }
   ],
   "source": [
    "print(df[df['好きな動物']=='ライオン'].describe())\n"
   ]
  },
  {
   "cell_type": "markdown",
   "id": "549a1cc9",
   "metadata": {
    "id": "課題-2"
   },
   "source": [
    "※四分位範囲(IQR, Inter Quantile Range)とは，25%-75%の広さである．"
   ]
  },
  {
   "source": [
    "2. 「好きな動物」が「ライオン」の人と「たぬき」の人では，どちらが平均的に今日の所持金が多いか？（どちらが増加が大きいかではない）"
   ],
   "cell_type": "markdown",
   "metadata": {}
  }
 ],
 "metadata": {
  "colab": {
   "name": "day06: データサイエンス，機械学習（パターン認識）入門",
   "toc_visible": true
  },
  "kernelspec": {
   "name": "python391jvsc74a57bd087f38febb223291bae2436270e79f59e78ec34bd92ec731ba3f5c178e59b0a96",
   "display_name": "Python 3.9.1 64-bit (conda)"
  }
 },
 "nbformat": 4,
 "nbformat_minor": 5
}