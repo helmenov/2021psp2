{
 "cells": [
  {
   "cell_type": "markdown",
   "id": "68c831ff",
   "metadata": {
    "id": "さまざまな-plot-グラフ"
   },
   "source": [
    "# さまざまな plot グラフ\n",
    "\n",
    "折れ線グラフや円グラフ，棒グラフなど，いくつかの種類がありますが，どう使い分けますか？？\n"
   ]
  },
  {
   "cell_type": "code",
   "execution_count": 1,
   "id": "ef84131f",
   "metadata": {},
   "outputs": [
    {
     "name": "stdout",
     "output_type": "stream",
     "text": [
      "   age  gender  height score\n",
      "0   19       1   166.9     C\n",
      "1   19       0   176.8     A\n",
      "2   19       0   162.1     B\n",
      "3   18       1   150.3     C\n",
      "4   19       1   154.6     B\n",
      "(48, 4)\n"
     ]
    }
   ],
   "source": [
    "import pandas as pd\n",
    "from matplotlib import pyplot as plt \n",
    "\n",
    "df1 = pd.read_csv('csv/score.csv')\n",
    "print(df1.head())\n",
    "print(df1.shape)"
   ]
  },
  {
   "cell_type": "markdown",
   "id": "e9398eff",
   "metadata": {},
   "source": [
    "ここに大学生48人に\n",
    "\n",
    "- 年齢 $age \\in \\{18,19\\}$ \n",
    "- 性別 $gender \\in \\{male:0, female:1\\}$ \n",
    "- 身長 $height \\in \\mathbb{R}>0 [{\\rm cm}]$\n",
    "\n",
    "を回答してもらい、\n",
    "\n",
    "後ほど数学の先生が、\n",
    "\n",
    "- 成績評価 $score \\in \\{A,B,C,D\\}$ \n",
    "\n",
    "を加えたデータがある。"
   ]
  },
  {
   "cell_type": "markdown",
   "id": "b14163d1",
   "metadata": {
    "id": "1列-1変数-と-その分布-変数値ごとの頻度"
   },
   "source": [
    "# 1列（1変数）\n",
    "\n",
    "1列のデータ、すなわち１項目のアンケート結果や、１項目の測定値その分布（変数値ごとの頻度）を図示します\n",
    "\n",
    "その変数が\n",
    "- 数値データ（または順序付きカテゴリデータ）⇒ ヒストグラム`hist`\n",
    "- 順序なしカテゴリデータ ⇒ 棒グラフ`bar` "
   ]
  },
  {
   "cell_type": "markdown",
   "id": "08e42b32",
   "metadata": {},
   "source": [
    " ## 例1：１列の数値データ\n",
    " \n",
    " 1列の数値データとは、以下のようなデータフレームです。\n",
    "\n",
    " |ID|height(cm)|\n",
    " |---|---|\n",
    " |sato|161.9|\n",
    " |suzuki|166.9|\n",
    " |takahashi|171.4|\n",
    " |inoue|156.3|\n",
    " |yamashita|167.5|\n",
    " |nakamura|149.5|\n",
    "\n",
    "IDの列は単に対象１つ１つを区別するためのIdentificationなので、データは`height(cm)`の列のみです。また **数値が大きいと、項目名である「身長」が高い**ことを意味しています。\n",
    "\n",
    "このようなデータは、ヒストグラムで表します。\n",
    "\n",
    "\n",
    "\n",
    "\n",
    "\n",
    "\n",
    "\n",
    " \n",
    "  "
   ]
  },
  {
   "cell_type": "code",
   "execution_count": 2,
   "id": "cafbca42",
   "metadata": {},
   "outputs": [
    {
     "data": {
      "text/plain": [
       "Text(0, 0.5, 'frequency')"
      ]
     },
     "execution_count": 2,
     "metadata": {},
     "output_type": "execute_result"
    },
    {
     "data": {
      "image/png": "[encoded data removed]",
      "text/plain": [
       "<Figure size 432x288 with 1 Axes>"
      ]
     },
     "metadata": {
      "needs_background": "light"
     },
     "output_type": "display_data"
    }
   ],
   "source": [
    "fig1 = plt.figure()\n",
    "ax1 = fig1.add_subplot(1,1,1)\n",
    "ax1.hist(df1[['height']])\n",
    "ax1.set_xlabel('height [cm]')\n",
    "ax1.set_ylabel('frequency')"
   ]
  },
  {
   "cell_type": "markdown",
   "id": "cf057a3b",
   "metadata": {
    "id": "ヒストグラムが正規分布っぽいとき"
   },
   "source": [
    "## ヒストグラムが正規分布っぽいとき\n",
    "\n",
    "上のヒストグラムは、２つの山があるみたいで、正規分布してないようです。おそらく男女が混じっているからと思われます。男性のデータだけに絞ってヒストグラムを描いてみると、\n",
    "\n",
    "箱ひげ図 boxcar"
   ]
  },
  {
   "cell_type": "code",
   "execution_count": 3,
   "id": "5ebc253a",
   "metadata": {},
   "outputs": [
    {
     "data": {
      "text/plain": [
       "(array([1., 0., 0., 3., 1., 5., 7., 7., 3., 2.]),\n",
       " array([151.2 , 154.14, 157.08, 160.02, 162.96, 165.9 , 168.84, 171.78,\n",
       "        174.72, 177.66, 180.6 ]),\n",
       " <BarContainer object of 10 artists>)"
      ]
     },
     "execution_count": 3,
     "metadata": {},
     "output_type": "execute_result"
    },
    {
     "data": {
      "image/png": "[encoded data removed]",
      "text/plain": [
       "<Figure size 432x288 with 1 Axes>"
      ]
     },
     "metadata": {
      "needs_background": "light"
     },
     "output_type": "display_data"
    }
   ],
   "source": [
    "fig2 = plt.figure()\n",
    "ax2 = fig2.add_subplot(1,1,1)\n",
    "ax2.hist(df1[df1['gender']==0][['height']])\n"
   ]
  },
  {
   "cell_type": "markdown",
   "id": "c01df61d",
   "metadata": {},
   "source": [
    "なんとなく正規分布していそうなので、こういう場合は箱ひげ図が有効"
   ]
  },
  {
   "cell_type": "code",
   "execution_count": 4,
   "id": "38033d59",
   "metadata": {},
   "outputs": [
    {
     "data": {
      "text/plain": [
       "{'whiskers': [<matplotlib.lines.Line2D at 0x7fbc301199d0>,\n",
       "  <matplotlib.lines.Line2D at 0x7fbc30119d30>],\n",
       " 'caps': [<matplotlib.lines.Line2D at 0x7fbc301230d0>,\n",
       "  <matplotlib.lines.Line2D at 0x7fbc30123430>],\n",
       " 'boxes': [<matplotlib.lines.Line2D at 0x7fbc30119670>],\n",
       " 'medians': [<matplotlib.lines.Line2D at 0x7fbc30123790>],\n",
       " 'fliers': [<matplotlib.lines.Line2D at 0x7fbc30123af0>],\n",
       " 'means': []}"
      ]
     },
     "execution_count": 4,
     "metadata": {},
     "output_type": "execute_result"
    },
    {
     "data": {
      "image/png": "[encoded data removed]",
      "text/plain": [
       "<Figure size 432x288 with 1 Axes>"
      ]
     },
     "metadata": {
      "needs_background": "light"
     },
     "output_type": "display_data"
    }
   ],
   "source": [
    "fig3 = plt.figure()\n",
    "ax3 = fig3.add_subplot(1,1,1)\n",
    "ax3.boxplot(df1[df1['gender']==0][['height']],vert=False)"
   ]
  },
  {
   "cell_type": "markdown",
   "id": "de0b20e2",
   "metadata": {},
   "source": [
    "## 例2：１列の順序なしカテゴリーデータ\n",
    "\n",
    "`score.csv`の`gender`の列データは、男であれば0、女であれば1となっています。この数字の大きさは項目「性別」が大きい・高いということを表しておらず、順序なしカテゴリーデータであることがわかります。\n",
    "\n",
    "この場合は、棒グラフです。見た目はヒストグラムととても似ていますが、隣り合う棒と棒がくっついていません。\n",
    "\n",
    "＊axesクラスのplottingメソッドを使わずに、pandasのデータフレームクラスのplotメソッドを使っています。"
   ]
  },
  {
   "cell_type": "code",
   "execution_count": 5,
   "id": "4c38b6c8",
   "metadata": {},
   "outputs": [
    {
     "data": {
      "text/plain": [
       "<AxesSubplot:xlabel='gender'>"
      ]
     },
     "execution_count": 5,
     "metadata": {},
     "output_type": "execute_result"
    },
    {
     "data": {
      "image/png": "[encoded data removed]",
      "text/plain": [
       "<Figure size 432x288 with 1 Axes>"
      ]
     },
     "metadata": {
      "needs_background": "light"
     },
     "output_type": "display_data"
    }
   ],
   "source": [
    "fig4 = plt.figure()\n",
    "ax4 = fig4.add_subplot(1,1,1)\n",
    "df1[['gender']].value_counts().plot(kind='bar',ax=ax4)"
   ]
  },
  {
   "cell_type": "markdown",
   "id": "1b3b77f0",
   "metadata": {
    "id": "質問xと回答y-変数y-変数xのモデル式"
   },
   "source": [
    "# ２つの列、X1、X2\n",
    "\n",
    "この時は、 座標(x1,x2)にマーカーを置いていく「散布図(scatter)」を描く\n"
   ]
  },
  {
   "cell_type": "code",
   "execution_count": 6,
   "id": "494502ca",
   "metadata": {},
   "outputs": [
    {
     "data": {
      "text/plain": [
       "<AxesSubplot:title={'center':'height'}, xlabel='[gender]'>"
      ]
     },
     "execution_count": 6,
     "metadata": {},
     "output_type": "execute_result"
    },
    {
     "data": {
      "image/png": "[encoded data removed]",
      "text/plain": [
       "<Figure size 432x288 with 2 Axes>"
      ]
     },
     "metadata": {
      "needs_background": "light"
     },
     "output_type": "display_data"
    }
   ],
   "source": [
    "fig5 = plt.figure()\n",
    "ax51 = fig5.add_subplot(1,2,1)\n",
    "ax51.scatter(x=df1[['gender']],y=df1[['height']])\n",
    "ax52 = fig5.add_subplot(1,2,2)\n",
    "df1.boxplot(column=['height'],by=['gender'],ax=ax52)"
   ]
  },
  {
   "cell_type": "markdown",
   "id": "d949fa54",
   "metadata": {},
   "source": [
    "第3の列の値をマーカーにするならば"
   ]
  },
  {
   "cell_type": "code",
   "execution_count": 7,
   "id": "8994bfc0",
   "metadata": {},
   "outputs": [
    {
     "data": {
      "text/plain": [
       "<AxesSubplot:title={'center':'height'}, xlabel='[gender, age]'>"
      ]
     },
     "execution_count": 7,
     "metadata": {},
     "output_type": "execute_result"
    },
    {
     "data": {
      "image/png": "[encoded data removed]",
      "text/plain": [
       "<Figure size 432x288 with 2 Axes>"
      ]
     },
     "metadata": {
      "needs_background": "light"
     },
     "output_type": "display_data"
    }
   ],
   "source": [
    "fig6 = plt.figure()\n",
    "ax61 = fig6.add_subplot(1,2,1)\n",
    "ax61.scatter(x=df1[df1['age']==18]['gender'],y=df1[df1['age']==18]['height'],marker='o')\n",
    "ax61.scatter(x=df1[df1['age']==19]['gender'],y=df1[df1['age']==19]['height'],marker='x')\n",
    "ax62 = fig6.add_subplot(1,2,2)\n",
    "df1.boxplot(column=['height'],by=['gender','age'],ax=ax62)"
   ]
  },
  {
   "cell_type": "markdown",
   "id": "0696a7bd",
   "metadata": {},
   "source": [
    "# 関数の描画\n",
    "\n",
    "関数 y = f(x) の曲線を図示するには、適当に作ったxの系列と、それに対応してf(x)で計算したyの系列を作成し、axesクラスのplotメソッドで折線グラフを描く。"
   ]
  },
  {
   "cell_type": "code",
   "execution_count": 8,
   "id": "d90db9cc",
   "metadata": {},
   "outputs": [
    {
     "data": {
      "image/png": "[encoded data removed]",
      "text/plain": [
       "<Figure size 432x288 with 1 Axes>"
      ]
     },
     "metadata": {
      "needs_background": "light"
     },
     "output_type": "display_data"
    }
   ],
   "source": [
    "import numpy as np\n",
    "fig6 = plt.figure()\n",
    "ax6 = fig6.add_subplot(1,1,1)\n",
    "x = np.linspace(-3,3,100)\n",
    "# y = 1/np.sqrt(np.pi)*np.exp(-((x-1)**2)/2)\n",
    "y1 = x - x**3/(3*2) + x**5/(5*4*3*2) - x**7/(7*6*5*4*3*2)\n",
    "y2 = np.sin(x)\n",
    "ax6.plot(x,y1)\n",
    "ax6.plot(x,y2,color='red', linestyle='dotted')\n",
    "ax6.grid()"
   ]
  },
  {
   "cell_type": "markdown",
   "id": "4bdce3a2",
   "metadata": {
    "id": "課題"
   },
   "source": [
    "# 課題\n",
    "\n",
    "- [このデータフレーム](csv/score.csv)について，matplotlibを使って，正しいグラフをいくつか作りなさい．\n",
    "- 複数のグラフ(axes)があるなら，それを1つのfigureに配置して，表示し，png形式で保存しなさい．\n",
    "- 以上の「pandasによるデータフレームの読み取り」「matplotlibによるグラフ作成，表示，ファイル保存」をおこなうpythonコードを提出しなさい．"
   ]
  }
 ],
 "metadata": {
  "colab": {
   "name": "さまざまな plot グラフ",
   "toc_visible": true
  },
  "interpreter": {
   "hash": "ff1451f766ff1f2aab9fee63bb48cc74e2e1277d7805d9df96af52a7af6088e7"
  },
  "kernelspec": {
   "display_name": "Python 3",
   "language": "python",
   "name": "python3"
  },
  "language_info": {
   "codemirror_mode": {
    "name": "ipython",
    "version": 3
   },
   "file_extension": ".py",
   "mimetype": "text/x-python",
   "name": "python",
   "nbconvert_exporter": "python",
   "pygments_lexer": "ipython3",
   "version": "3.8.5"
  }
 },
 "nbformat": 4,
 "nbformat_minor": 5
}
