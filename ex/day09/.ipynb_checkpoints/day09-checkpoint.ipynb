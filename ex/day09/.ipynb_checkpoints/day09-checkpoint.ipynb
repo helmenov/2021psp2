{
 "cells": [
  {
   "cell_type": "markdown",
   "id": "68c831ff",
   "metadata": {
    "id": "さまざまな-plot-グラフ"
   },
   "source": [
    "# さまざまな plot グラフ\n",
    "\n",
    "折れ線グラフや円グラフ，棒グラフなど，いくつかの種類がありますが，どう使い分けますか？？\n",
    "\n",
    "sample DataFrame"
   ]
  },
  {
   "cell_type": "markdown",
   "id": "b14163d1",
   "metadata": {
    "id": "1列-1変数-と-その分布-変数値ごとの頻度"
   },
   "source": [
    "# 1列（1変数）と その分布（変数値ごとの頻度）\n",
    "\n",
    "その変数が\n",
    "- 数値データ（または順序付きカテゴリデータ）⇒ ヒストグラム`hist`\n",
    "- 順序なしカテゴリデータ ⇒ 棒グラフ`bar` または 茎グラフ`stem`"
   ]
  },
  {
   "cell_type": "markdown",
   "id": "cf057a3b",
   "metadata": {
    "id": "ヒストグラムが正規分布っぽいとき"
   },
   "source": [
    "## ヒストグラムが正規分布っぽいとき\n",
    "\n",
    "箱ひげ図 boxcar"
   ]
  },
  {
   "cell_type": "markdown",
   "id": "1b3b77f0",
   "metadata": {
    "id": "質問xと回答y-変数y-変数xのモデル式"
   },
   "source": [
    "# 質問Xと回答Y（変数Y = 変数Xのモデル式）"
   ]
  },
  {
   "cell_type": "markdown",
   "id": "f557135b",
   "metadata": {
    "id": "散布図-scatter"
   },
   "source": [
    "## 散布図 `scatter`"
   ]
  },
  {
   "cell_type": "markdown",
   "id": "305532d0",
   "metadata": {
    "id": "質問xが順序なしカテゴリデータで-回答yが正規分布してそうなら-エラーバー付き棒グラフ-または-箱ひげ図"
   },
   "source": [
    "### 質問Xが順序なしカテゴリデータで，回答Yが正規分布してそうなら，エラーバー付き棒グラフ または 箱ひげ図"
   ]
  },
  {
   "cell_type": "markdown",
   "id": "5be238de",
   "metadata": {
    "id": "xの水準数と-yの水準数が同じなら-折れ線グラフ"
   },
   "source": [
    "## Xの水準数と，Yの水準数が同じなら，折れ線グラフ"
   ]
  },
  {
   "cell_type": "markdown",
   "id": "210a4fdb",
   "metadata": {
    "id": "モデル式の曲線は-回帰曲線"
   },
   "source": [
    "## モデル式の曲線は，回帰曲線"
   ]
  },
  {
   "cell_type": "markdown",
   "id": "b4a38178",
   "metadata": {
    "id": "2つの質問x1-x2-と回答y-変数y-変数x1とx2のモデル式"
   },
   "source": [
    "# 2つの質問X1, X2 と回答Y （変数Y = 変数X1とX2のモデル式）\n",
    "\n",
    "3次元散布図\n",
    "\n",
    "X1-X2の2次元グラフ上でYの大きさを色で表す（ヒートマップ）．または等高線で表す（コンター）\n",
    "\n",
    "X1が順序なしカテゴリデータなら，回答YをX1の水準ごとに分け（Y_X1），質問変数X2と回答変数Y_X1（X1の水準の個数だけこの組み合わせがある）を凡例付き散布図，凡例付き折れ線グラフ，凡例付き棒グラフで表す"
   ]
  },
  {
   "cell_type": "markdown",
   "id": "4bdce3a2",
   "metadata": {
    "id": "課題"
   },
   "source": [
    "# 課題\n",
    "\n",
    "- 次のデータフレームについて，matplotlibを使って，正しいグラフをいくつか作りなさい．\n",
    "- 複数のグラフ(axes)があるなら，それを1つのfigureに配置して，表示し，png形式で保存しなさい．\n",
    "- 以上の「pandasによるデータフレームの読み取り」「matplotlibによるグラフ作成，表示，ファイル保存」をおこなうpythonコードを提出しなさい．"
   ]
  }
 ],
 "metadata": {
  "colab": {
   "name": "さまざまな plot グラフ",
   "toc_visible": true
  },
  "kernelspec": {
   "display_name": "Python 3",
   "language": "python",
   "name": "python3"
  },
  "language_info": {
   "codemirror_mode": {
    "name": "ipython",
    "version": 3
   },
   "file_extension": ".py",
   "mimetype": "text/x-python",
   "name": "python",
   "nbconvert_exporter": "python",
   "pygments_lexer": "ipython3",
   "version": "3.8.5"
  }
 },
 "nbformat": 4,
 "nbformat_minor": 5
}
